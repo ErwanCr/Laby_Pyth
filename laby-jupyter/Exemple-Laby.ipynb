{
 "cells": [
  {
   "cell_type": "code",
   "execution_count": 1,
   "metadata": {},
   "outputs": [
    {
     "data": {
      "application/vnd.jupyter.widget-view+json": {
       "model_id": "3fb6232316bd4091ba99678b2c202b8c",
       "version_major": 2,
       "version_minor": 0
      },
      "text/plain": [
       "GridBox(children=(Image(value=b'\\x89PNG\\r\\n\\x1a\\n\\x00\\x00\\x00\\rIHDR\\x00\\x00\\x00 \\x00\\x00\\x00 \\x08\\x06\\x00\\x00\\…"
      ]
     },
     "metadata": {},
     "output_type": "display_data"
    }
   ],
   "source": [
    "%run laby.py"
   ]
  },
  {
   "cell_type": "code",
   "execution_count": null,
   "metadata": {},
   "outputs": [],
   "source": []
  },
  {
   "cell_type": "code",
   "execution_count": null,
   "metadata": {},
   "outputs": [],
   "source": []
  },
  {
   "cell_type": "code",
   "execution_count": 10,
   "metadata": {},
   "outputs": [],
   "source": [
    "class LabyrinthView:\n",
    "    \n",
    "    def __init__(self,labyrinth ):\n",
    "        self.value=labyrinth\n",
    "    def to_string(self):\n",
    "        return value.to_string()\n",
    "    ##en c virtual void update() {}\n",
    "    "
   ]
  },
  {
   "cell_type": "code",
   "execution_count": null,
   "metadata": {},
   "outputs": [],
   "source": [
    "class Player :\n",
    "    def __init__(self, _view):\n",
    "        self.view = _view\n",
    "        self.original_value=view.value\n",
    "        self.play_direction=forward\n",
    "        self.play_fps=1\n",
    "        self.timer = \n",
    "        \n",
    "        def run(self):\n",
    "            self.timer.run()\n",
    "        \n",
    "        def update(self):\n",
    "            self.value = history[time]\n",
    "            self.view.update()\n",
    "        def get_value(self):\n",
    "            return history[history.size()-1] # a verifier comment ca s'écrit\n",
    "        \n",
    "        def set_value(self,value):\n",
    "            if history.size() > 10000):\n",
    "                throw std::runtime_error(\"Votre programme a pris plus de 1000 étapes\");#throw\n",
    "            self.history.push_back(value);\n",
    "            if ( not self.timer.running() and self.time == self.history.size() -2):\n",
    "                self.time++\n",
    "                self.update()\n",
    "        def tick(self):\n",
    "            if(self.play_direction == Forward ): # a check toute la fonction \n",
    "                self.step_forward()\n",
    "            else:\n",
    "                self.step_backward()\n",
    "        \n",
    "        def reset(self):        \n",
    "                self.time=0\n",
    "                auto randomized = original_value; # ??\n",
    "                self.randomized.randomise()\n",
    "                self.history=std::vector<Labyrinth>({randomized});\n",
    "                self.update()\n",
    "        \n",
    "        def begin(self):\n",
    "            self.time=0\n",
    "            self.update()\n",
    "        \n",
    "        def end(self):\n",
    "            self.time= self.history.size()-1  # a check le size\n",
    "            self.update()\n",
    "        def step_backward(self):\n",
    "            if( self.time >0):\n",
    "                self.time=self.time-1\n",
    "                self.update()\n",
    "        def step_forward(self):\n",
    "            if( self.time < self.history.size()-1):  # check le size\n",
    "                self.time=self.time+1\n",
    "                self.update()        \n",
    "        def backward (self):\n",
    "            self.play_direction = PlayDirection::Backward # a check\n",
    "            self.timer.set_fps(self.play_fps)\n",
    "        def play(self):\n",
    "            self. play_direction = PlayDirection::Forward # a check\n",
    "            self.timer.set_fps(self.play_fps)\n",
    "        def pause(self):\n",
    "            self.play_direction=PlayDirection::None\n",
    "            self.timer.set_fps(0)\n",
    "        def set_fps(self,fps):\n",
    "            self.play_fps=fps\n",
    "            if(self.play_direction != PlayDirection::None):\n",
    "                self.timer.set_fps(fps)\n",
    "        def won(self):\n",
    "            return self.history[self.history.size()-1].won()\n",
    "        "
   ]
  },
  {
   "cell_type": "code",
   "execution_count": null,
   "metadata": {},
   "outputs": [],
   "source": [
    "##Code C++ qui correspond a ce qu'il y a au dessu \n",
    "\n",
    "\n",
    "class Player {\n",
    "    LabyrinthView &view;\n",
    "    public: // for debuging\n",
    "    Labyrinth original_value;\n",
    "    std::vector<Labyrinth> history;\n",
    "    int time;\n",
    "    // The direction and number of frames per second, when playing\n",
    "    PlayDirection play_direction;\n",
    "    int play_fps;\n",
    "    Timer timer;\n",
    "    \n",
    "    public:\n",
    "    Player(LabyrinthView &_view):\n",
    "        \n",
    "        timer(std::bind(&Player::tick, this), play_fps) {\n",
    "        reset();\n",
    "        }\n",
    "  \n",
    "\n",
    "};"
   ]
  }
 ],
 "metadata": {
  "kernelspec": {
   "display_name": "Python 3",
   "language": "python",
   "name": "python3"
  },
  "language_info": {
   "codemirror_mode": {
    "name": "ipython",
    "version": 3
   },
   "file_extension": ".py",
   "mimetype": "text/x-python",
   "name": "python",
   "nbconvert_exporter": "python",
   "pygments_lexer": "ipython3",
   "version": "3.8.2"
  }
 },
 "nbformat": 4,
 "nbformat_minor": 4
}
