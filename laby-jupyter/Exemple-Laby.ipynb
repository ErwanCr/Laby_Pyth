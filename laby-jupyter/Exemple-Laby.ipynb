{
 "cells": [
  {
   "cell_type": "code",
   "execution_count": 4,
   "metadata": {},
   "outputs": [
    {
     "ename": "SyntaxError",
     "evalue": "invalid syntax (global_fr.py, line 3)",
     "output_type": "error",
     "traceback": [
      "Traceback \u001b[0;36m(most recent call last)\u001b[0m:\n",
      "  File \u001b[1;32m\"/home/nicolas/miniconda2/envs/laby-jupyter/lib/python3.8/site-packages/IPython/core/interactiveshell.py\"\u001b[0m, line \u001b[1;32m3331\u001b[0m, in \u001b[1;35mrun_code\u001b[0m\n    exec(code_obj, self.user_global_ns, self.user_ns)\n",
      "\u001b[0;36m  File \u001b[0;32m\"<ipython-input-4-b49a5a53cf1f>\"\u001b[0;36m, line \u001b[0;32m1\u001b[0;36m, in \u001b[0;35m<module>\u001b[0;36m\u001b[0m\n\u001b[0;31m    from global_fr import *\u001b[0m\n",
      "\u001b[0;36m  File \u001b[0;32m\"/home/nicolas/Bureau/Ter/Laby_Pyth/laby-jupyter/global_fr.py\"\u001b[0;36m, line \u001b[0;32m3\u001b[0m\n\u001b[0;31m    l =\u001b[0m\n\u001b[0m        ^\u001b[0m\n\u001b[0;31mSyntaxError\u001b[0m\u001b[0;31m:\u001b[0m invalid syntax\n"
     ]
    }
   ],
   "source": [
    "from global_fr import *"
   ]
  },
  {
   "cell_type": "code",
   "execution_count": 52,
   "metadata": {
    "scrolled": true
   },
   "outputs": [
    {
     "data": {
      "application/vnd.jupyter.widget-view+json": {
       "model_id": "6af6cb84f7d44c1e98c1ad73bd9eb94b",
       "version_major": 2,
       "version_minor": 0
      },
      "text/plain": [
       "GridBox(children=(Image(value=b'\\x89PNG\\r\\n\\x1a\\n\\x00\\x00\\x00\\rIHDR\\x00\\x00\\x00 \\x00\\x00\\x00 \\x08\\x06\\x00\\x00\\…"
      ]
     },
     "metadata": {},
     "output_type": "display_data"
    }
   ],
   "source": [
    "%run laby.py"
   ]
  },
  {
   "cell_type": "code",
   "execution_count": 53,
   "metadata": {
    "scrolled": true
   },
   "outputs": [
    {
     "ename": "NameError",
     "evalue": "name 'avance' is not defined",
     "output_type": "error",
     "traceback": [
      "\u001b[0;31m---------------------------------------------------------------------------\u001b[0m",
      "\u001b[0;31mNameError\u001b[0m                                 Traceback (most recent call last)",
      "\u001b[0;32m<ipython-input-53-eb9392e4e1d2>\u001b[0m in \u001b[0;36m<module>\u001b[0;34m\u001b[0m\n\u001b[0;32m----> 1\u001b[0;31m \u001b[0mavance\u001b[0m\u001b[0;34m(\u001b[0m\u001b[0;34m)\u001b[0m\u001b[0;34m\u001b[0m\u001b[0;34m\u001b[0m\u001b[0m\n\u001b[0m",
      "\u001b[0;31mNameError\u001b[0m: name 'avance' is not defined"
     ]
    }
   ],
   "source": [
    "avance()"
   ]
  },
  {
   "cell_type": "code",
   "execution_count": 43,
   "metadata": {},
   "outputs": [],
   "source": [
    " from ipywidgets import Layout"
   ]
  },
  {
   "cell_type": "code",
   "execution_count": null,
   "metadata": {
    "scrolled": true
   },
   "outputs": [],
   "source": []
  },
  {
   "cell_type": "code",
   "execution_count": 44,
   "metadata": {},
   "outputs": [],
   "source": [
    "output = widgets.Output()\n",
    "\n",
    "def fast_backward_clicked(b):\n",
    "    with output:\n",
    "        player.begin()\n",
    "        player.pause()\n",
    "    \n",
    "def backward_clicked(b):\n",
    "    with output:\n",
    "        player.backward()\n",
    "def step_backward_clicked(b):\n",
    "    with output: \n",
    "        player.pause()\n",
    "        player.step_backward()\n",
    "def pause_clicked(b):\n",
    "    with output:\n",
    "        player.pause()\n",
    "def step_forward_clicked(b):\n",
    "    with output:\n",
    "        player.pause()\n",
    "        player.step_forward()\n",
    "\n",
    "def play_clicked(b):\n",
    "    with output:\n",
    "        player.play()\n",
    "def fast_forward_clicked(b):\n",
    "    with output:\n",
    "        player.pause()\n",
    "        player.end()\n",
    "                        \n",
    "    "
   ]
  },
  {
   "cell_type": "code",
   "execution_count": 51,
   "metadata": {},
   "outputs": [],
   "source": [
    "%run widget.py"
   ]
  },
  {
   "cell_type": "code",
   "execution_count": 45,
   "metadata": {},
   "outputs": [],
   "source": [
    "play= widgets.Button(description=\"\",icon='fa-play',   \n",
    "\n",
    "    layout=Layout(width='25px'),\n",
    "    \n",
    ")"
   ]
  },
  {
   "cell_type": "code",
   "execution_count": 46,
   "metadata": {},
   "outputs": [],
   "source": [
    "slider=widgets.FloatSlider(\n",
    "value=1.0,\n",
    "min=0.0,\n",
    "max=5.0,\n",
    "step=1,\n",
    "    description=\"Speed:\"\n",
    ")"
   ]
  },
  {
   "cell_type": "code",
   "execution_count": 47,
   "metadata": {},
   "outputs": [
    {
     "data": {
      "application/vnd.jupyter.widget-view+json": {
       "model_id": "90c44e26599348cbb0d6869d247c611b",
       "version_major": 2,
       "version_minor": 0
      },
      "text/plain": [
       "HBox(children=(Button(icon='fast-backward', layout=Layout(width='35px'), style=ButtonStyle()), Button(icon='ba…"
      ]
     },
     "metadata": {},
     "output_type": "display_data"
    }
   ],
   "source": [
    "fast_backward= widgets.Button(description=\"\",icon='fa-fast-backward',layout=Layout(width='35px'))\n",
    "backward= widgets.Button(description=\"\",icon='fa-backward',layout=Layout(width='35px'))\n",
    "step_backward= widgets.Button(description=\"\",icon='fa-step-backward',layout=Layout(width='35px'))\n",
    "pause= widgets.Button(description=\"\",icon='fa-pause',layout=Layout(width='35px'))\n",
    "step_forward= widgets.Button(description=\"\",icon='fa-step-forward',layout=Layout(width='35px'))\n",
    "fast_forward= widgets.Button(description=\"\",icon='fa-fast-forward',layout=Layout(width='35px'))\n",
    "play.on_click(play_clicked)\n",
    "fast_backward.on_click(fast_backward_clicked)\n",
    "backward.on_click(backward_clicked)\n",
    "step_backward.on_click(step_backward_clicked)\n",
    "pause.on_click(pause_clicked)\n",
    "step_forward.on_click(step_forward_clicked)\n",
    "fast_forward.on_click(fast_forward_clicked)\n",
    "#slider = widgets.FloatSlider()\n",
    "#widgets.jslink((play, 'value'), (slider, 'value'))\n",
    "widgets.HBox([fast_backward,backward,step_backward,pause,step_forward,play,fast_forward,slider])"
   ]
  },
  {
   "cell_type": "code",
   "execution_count": 43,
   "metadata": {},
   "outputs": [
    {
     "ename": "NameError",
     "evalue": "name 'FontAwesome' is not defined",
     "output_type": "error",
     "traceback": [
      "\u001b[0;31m---------------------------------------------------------------------------\u001b[0m",
      "\u001b[0;31mNameError\u001b[0m                                 Traceback (most recent call last)",
      "\u001b[0;32m<ipython-input-43-fe569fde600e>\u001b[0m in \u001b[0;36m<module>\u001b[0;34m\u001b[0m\n\u001b[0;32m----> 1\u001b[0;31m \u001b[0mFontAwesome\u001b[0m\u001b[0;34m.\u001b[0m\u001b[0mnamme\u001b[0m\u001b[0;34m\u001b[0m\u001b[0;34m\u001b[0m\u001b[0m\n\u001b[0m",
      "\u001b[0;31mNameError\u001b[0m: name 'FontAwesome' is not defined"
     ]
    }
   ],
   "source": [
    "FontAwesome.namme"
   ]
  },
  {
   "cell_type": "code",
   "execution_count": 33,
   "metadata": {},
   "outputs": [
    {
     "data": {
      "application/vnd.jupyter.widget-view+json": {
       "model_id": "03e08902edc84bf591bd995ca713821f",
       "version_major": 2,
       "version_minor": 0
      },
      "text/plain": [
       "Button(icon='backward', style=ButtonStyle())"
      ]
     },
     "metadata": {},
     "output_type": "display_data"
    },
    {
     "data": {
      "application/vnd.jupyter.widget-view+json": {
       "model_id": "5a9b0046f6b746e6b1e952d6262030fe",
       "version_major": 2,
       "version_minor": 0
      },
      "text/plain": [
       "Output()"
      ]
     },
     "metadata": {},
     "output_type": "display_data"
    }
   ],
   "source": [
    "from IPython.display import display\n",
    "button = widgets.Button(description=\"\",icon='backward')\n",
    "output = widgets.Output()\n",
    "\n",
    "display(button, output)\n",
    "\n",
    "def on_button_clicked(b):\n",
    "    with output:\n",
    "        play.step=-1\n",
    "\n",
    "button.on_click(on_button_clicked)\n"
   ]
  },
  {
   "cell_type": "code",
   "execution_count": 27,
   "metadata": {},
   "outputs": [
    {
     "name": "stdout",
     "output_type": "stream",
     "text": [
      "CPU times: user 3 µs, sys: 0 ns, total: 3 µs\n",
      "Wall time: 7.39 µs\n"
     ]
    }
   ],
   "source": [
    "%time"
   ]
  },
  {
   "cell_type": "code",
   "execution_count": null,
   "metadata": {},
   "outputs": [],
   "source": []
  },
  {
   "cell_type": "code",
   "execution_count": 37,
   "metadata": {},
   "outputs": [],
   "source": [
    "\n",
    "#passer en variable globale au lieu de l ~~#??\n"
   ]
  },
  {
   "cell_type": "code",
   "execution_count": 27,
   "metadata": {},
   "outputs": [],
   "source": [
    "from functools import partial "
   ]
  },
  {
   "cell_type": "code",
   "execution_count": 6,
   "metadata": {},
   "outputs": [],
   "source": [
    "def ouvre():\n",
    "    l.avance()"
   ]
  },
  {
   "cell_type": "code",
   "execution_count": 7,
   "metadata": {},
   "outputs": [],
   "source": [
    "class LabyrinthView:\n",
    "    \n",
    "    def __init__(self,labyrinth ):\n",
    "        self.value=labyrinth\n",
    "    def to_string(self):\n",
    "        return value.to_string()\n",
    "    def update(self):\n",
    "        pass"
   ]
  },
  {
   "cell_type": "code",
   "execution_count": 8,
   "metadata": {
    "scrolled": true
   },
   "outputs": [],
   "source": [
    "class Player :\n",
    "    def __init__(self, _view):\n",
    "        self.view = _view\n",
    "        self.original_value=view.value\n",
    "        self.play_direction=forward\n",
    "        self.play_fps=1\n",
    "        self.timer =Timer ( partial(self.tick),self.play_fps)\n",
    "        self.reset()\n",
    "       \n",
    "        def run(self):\n",
    "            self.timer.run()\n",
    "        \n",
    "        def update(self):\n",
    "            self.value = history[time]\n",
    "            self.view.update()\n",
    "        def get_value(self):\n",
    "            \n",
    "            return self.history[len(self.history)-1]\n",
    "        \n",
    "        def set_value(self,value):\n",
    "            if (len(self.history) > 10000):\n",
    "                raise RunTimeError(\"Votre programme a pris plus de 1000 étapes\")\n",
    "                #throw std::runtime_error(\"Votre programme a pris plus de 1000 étapes\");#throw\n",
    "            self.history.append(value);\n",
    "            if ( not self.timer.running() and self.time == len(self.history) -2):\n",
    "                self.time=self.tim+1\n",
    "                self.update()\n",
    "        def tick(self):\n",
    "            if(self.play_direction == Forward ): # a check toute la fonction \n",
    "                self.step_forward()\n",
    "            else:\n",
    "                self.step_backward()\n",
    "        \n",
    "        def reset(self,value):      #verifier tous els attributs\n",
    "                self.time=0\n",
    "                self.history=[value]\n",
    "                self.update()\n",
    "        \n",
    "        def begin(self):\n",
    "            self.time=0\n",
    "            self.update()\n",
    "        \n",
    "        def end(self):\n",
    "            self.time= len(self.history)-1  \n",
    "            self.update()\n",
    "        def step_backward(self):\n",
    "            if( self.time >0):\n",
    "                self.time=self.time-1\n",
    "                self.update()\n",
    "        def step_forward(self):\n",
    "            if( self.time <len(self.history)-1):  \n",
    "                self.time=self.time+1\n",
    "                self.update()        \n",
    "        def backward (self):\n",
    "            self.play_direction = Backward # a check\n",
    "            self.timer.set_fps(self.play_fps)\n",
    "        \n",
    "        def play(self):\n",
    "            self. play_direction = Forward # a check\n",
    "            self.timer.set_fps(self.play_fps)\n",
    "        \n",
    "        def pause(self):\n",
    "            self.play_direction=None\n",
    "            self.timer.set_fps(0)\n",
    "        \n",
    "        def set_fps(self,fps):\n",
    "            self.play_fps=fps\n",
    "            if(self.play_direction != None):\n",
    "                self.timer.set_fps(fps)\n",
    "        \n",
    "        def won(self):\n",
    "            return self.history[len(self.history)-1].won()\n",
    "        "
   ]
  },
  {
   "cell_type": "code",
   "execution_count": null,
   "metadata": {},
   "outputs": [],
   "source": []
  },
  {
   "cell_type": "code",
   "execution_count": null,
   "metadata": {},
   "outputs": [],
   "source": []
  },
  {
   "cell_type": "code",
   "execution_count": 35,
   "metadata": {},
   "outputs": [],
   "source": [
    "class LabyBaseApp:\n",
    "  \n",
    "    def __init__(self,labyrinth):\n",
    "        self.view=labyrinth\n",
    "        self.player=Player(self.view)       \n",
    "    \n",
    "    def debut(self) :\n",
    "        value = self.player.history[0]\n",
    "        value.randomize()\n",
    "        self.player.reset(value)\n",
    "        return res\n",
    "\n",
    "    def avance(self) :\n",
    "        value = self.player.get_value()\n",
    "        res = value.avance()\n",
    "        self.player.set_value(value)\n",
    "        return res\n",
    "    \n",
    "    def droite(self) :\n",
    "        value = self.player.get_value()\n",
    "        res = value.droite()\n",
    "        self.player.set_value(value)\n",
    "        return res\n",
    "    \n",
    "    def gauche(self) :\n",
    "        value = self.player.get_value()\n",
    "        res = value.gauche()\n",
    "        self.player.set_value(value)\n",
    "        return res\n",
    "        \n",
    "    def prend(self):\n",
    "        value = self.player.get_value()\n",
    "        res = value.prend()\n",
    "        self.player.set_value(value)\n",
    "        return res\n",
    "    \n",
    "    def pose(self) :\n",
    "        value = self.player.get_value()\n",
    "        res = value.pose()\n",
    "        self.player.set_value(value)\n",
    "        return res\n",
    "    \n",
    "    def sow(self) :\n",
    "        value = self.player.get_value()\n",
    "        res = value.sow()\n",
    "        self.player.set_value(value)\n",
    "        return res\n",
    "    \n",
    "    def regarde(self) :\n",
    "        return self.player.get_value().regarde()\n",
    "    \n",
    "    def ouvre(self):\n",
    "        value = self.player.get_value()\n",
    "        res = value.ouvre()\n",
    "        self.player.set_value(value)\n",
    "        return res\n",
    "    \n",
    "    def won(self): \n",
    "        return self.player.won()\n",
    "  "
   ]
  },
  {
   "cell_type": "code",
   "execution_count": null,
   "metadata": {},
   "outputs": [],
   "source": []
  },
  {
   "cell_type": "code",
   "execution_count": null,
   "metadata": {},
   "outputs": [],
   "source": []
  },
  {
   "cell_type": "code",
   "execution_count": null,
   "metadata": {},
   "outputs": [],
   "source": []
  },
  {
   "cell_type": "code",
   "execution_count": null,
   "metadata": {},
   "outputs": [],
   "source": []
  }
 ],
 "metadata": {
  "kernelspec": {
   "display_name": "Python 3",
   "language": "python",
   "name": "python3"
  },
  "language_info": {
   "codemirror_mode": {
    "name": "ipython",
    "version": 3
   },
   "file_extension": ".py",
   "mimetype": "text/x-python",
   "name": "python",
   "nbconvert_exporter": "python",
   "pygments_lexer": "ipython3",
   "version": "3.8.2"
  }
 },
 "nbformat": 4,
 "nbformat_minor": 4
}
