{
 "cells": [
  {
   "cell_type": "code",
   "execution_count": 22,
   "metadata": {
    "scrolled": false
   },
   "outputs": [],
   "source": [
    "from global_fr import *"
   ]
  },
  {
   "cell_type": "code",
   "execution_count": 23,
   "metadata": {
    "scrolled": true
   },
   "outputs": [
    {
     "data": {
      "application/vnd.jupyter.widget-view+json": {
       "model_id": "5b1dc6b0fa0b4dbdb02c709639067f01",
       "version_major": 2,
       "version_minor": 0
      },
      "text/plain": [
       "GridBox(children=(Image(value=b'\\x89PNG\\r\\n\\x1a\\n\\x00\\x00\\x00\\rIHDR\\x00\\x00\\x00 \\x00\\x00\\x00 \\x08\\x06\\x00\\x00\\…"
      ]
     },
     "metadata": {},
     "output_type": "display_data"
    }
   ],
   "source": [
    "%run laby.py"
   ]
  },
  {
   "cell_type": "code",
   "execution_count": 24,
   "metadata": {
    "scrolled": true
   },
   "outputs": [
    {
     "ename": "AttributeError",
     "evalue": "type object 'laby_SVG_view_player_app' has no attribute 'value'",
     "output_type": "error",
     "traceback": [
      "\u001b[0;31m---------------------------------------------------------------------------\u001b[0m",
      "\u001b[0;31mAttributeError\u001b[0m                            Traceback (most recent call last)",
      "\u001b[0;32m<ipython-input-24-eb9392e4e1d2>\u001b[0m in \u001b[0;36m<module>\u001b[0;34m\u001b[0m\n\u001b[0;32m----> 1\u001b[0;31m \u001b[0mavance\u001b[0m\u001b[0;34m(\u001b[0m\u001b[0;34m)\u001b[0m\u001b[0;34m\u001b[0m\u001b[0;34m\u001b[0m\u001b[0m\n\u001b[0m",
      "\u001b[0;32m~/Bureau/Ter/Laby_Pyth/laby-jupyter/global_fr.py\u001b[0m in \u001b[0;36mavance\u001b[0;34m()\u001b[0m\n\u001b[1;32m     10\u001b[0m \u001b[0;34m\u001b[0m\u001b[0m\n\u001b[1;32m     11\u001b[0m \u001b[0;32mdef\u001b[0m \u001b[0mavance\u001b[0m\u001b[0;34m(\u001b[0m\u001b[0;34m)\u001b[0m\u001b[0;34m:\u001b[0m\u001b[0;34m\u001b[0m\u001b[0;34m\u001b[0m\u001b[0m\n\u001b[0;32m---> 12\u001b[0;31m     \u001b[0mapp\u001b[0m\u001b[0;34m.\u001b[0m\u001b[0mvalue\u001b[0m\u001b[0;34m.\u001b[0m\u001b[0mavance\u001b[0m\u001b[0;34m(\u001b[0m\u001b[0;34m)\u001b[0m\u001b[0;34m\u001b[0m\u001b[0;34m\u001b[0m\u001b[0m\n\u001b[0m\u001b[1;32m     13\u001b[0m \u001b[0;34m\u001b[0m\u001b[0m\n\u001b[1;32m     14\u001b[0m \u001b[0;32mdef\u001b[0m \u001b[0mdroite\u001b[0m\u001b[0;34m(\u001b[0m\u001b[0;34m)\u001b[0m\u001b[0;34m:\u001b[0m\u001b[0;34m\u001b[0m\u001b[0;34m\u001b[0m\u001b[0m\n",
      "\u001b[0;31mAttributeError\u001b[0m: type object 'laby_SVG_view_player_app' has no attribute 'value'"
     ]
    }
   ],
   "source": [
    "avance()"
   ]
  },
  {
   "cell_type": "code",
   "execution_count": null,
   "metadata": {},
   "outputs": [],
   "source": []
  },
  {
   "cell_type": "code",
   "execution_count": 25,
   "metadata": {},
   "outputs": [],
   "source": [
    " from ipywidgets import Layout"
   ]
  },
  {
   "cell_type": "code",
   "execution_count": null,
   "metadata": {
    "scrolled": true
   },
   "outputs": [],
   "source": []
  },
  {
   "cell_type": "code",
   "execution_count": 26,
   "metadata": {},
   "outputs": [],
   "source": [
    "output = widgets.Output()\n",
    "\n",
    "def fast_backward_clicked(b):\n",
    "    with output:\n",
    "        player.begin()\n",
    "        player.pause()\n",
    "    \n",
    "def backward_clicked(b):\n",
    "    with output:\n",
    "        player.backward()\n",
    "def step_backward_clicked(b):\n",
    "    with output: \n",
    "        player.pause()\n",
    "        player.step_backward()\n",
    "def pause_clicked(b):\n",
    "    with output:\n",
    "        player.pause()\n",
    "def step_forward_clicked(b):\n",
    "    with output:\n",
    "        player.pause()\n",
    "        player.step_forward()\n",
    "\n",
    "def play_clicked(b):\n",
    "    with output:\n",
    "        player.play()\n",
    "def fast_forward_clicked(b):\n",
    "    with output:\n",
    "        player.pause()\n",
    "        player.end()\n",
    "                        \n",
    "    "
   ]
  },
  {
   "cell_type": "code",
   "execution_count": 27,
   "metadata": {},
   "outputs": [],
   "source": [
    "%run widget.py"
   ]
  },
  {
   "cell_type": "code",
   "execution_count": 28,
   "metadata": {},
   "outputs": [],
   "source": [
    "play= widgets.Button(description=\"\",icon='fa-play',   \n",
    "\n",
    "    layout=Layout(width='25px'),\n",
    "    \n",
    ")"
   ]
  },
  {
   "cell_type": "code",
   "execution_count": 29,
   "metadata": {},
   "outputs": [],
   "source": [
    "# int_range = widgets.IntSlider()\n",
    "# output2 = widgets.Output()\n",
    "\n",
    "# display(int_range, output2)\n",
    "\n",
    "# def on_value_change(change):\n",
    "#     with output2:\n",
    "#         print(change['new'])\n",
    "\n",
    "# int_range.observe(on_value_change, names='value')"
   ]
  },
  {
   "cell_type": "code",
   "execution_count": 30,
   "metadata": {},
   "outputs": [],
   "source": [
    "output2 = widgets.Output()\n",
    "slider=widgets.FloatSlider(\n",
    "        value=1.0,\n",
    "        min=0.0,\n",
    "        max=5.0,\n",
    "        step=1,\n",
    "        description=\"Speed:\"\n",
    "\n",
    "        )\n",
    "def on_value_change(change,player):\n",
    "    fps=1\n",
    "    value=int (change['new'])\n",
    "    for i in range (0,value):\n",
    "        fps=fps*2\n",
    "    player.set_fps(fps)\n",
    "slider.observe(on_value_change, names='value')"
   ]
  },
  {
   "cell_type": "code",
   "execution_count": 31,
   "metadata": {},
   "outputs": [],
   "source": [
    "import ipywidgets as widgets\n",
    "from ipywidgets import Button, HBox, VBox\n",
    "import numpy as np"
   ]
  },
  {
   "cell_type": "code",
   "execution_count": 32,
   "metadata": {},
   "outputs": [
    {
     "data": {
      "application/vnd.jupyter.widget-view+json": {
       "model_id": "cc40f293d56f4b768f324697d7e4a87e",
       "version_major": 2,
       "version_minor": 0
      },
      "text/plain": [
       "FloatSlider(value=1.0, description='Speed:', max=5.0, step=1.0)"
      ]
     },
     "metadata": {},
     "output_type": "display_data"
    },
    {
     "data": {
      "application/vnd.jupyter.widget-view+json": {
       "model_id": "643607dfdfcf445a976cd0a76ab077bc",
       "version_major": 2,
       "version_minor": 0
      },
      "text/plain": [
       "Output()"
      ]
     },
     "metadata": {},
     "output_type": "display_data"
    }
   ],
   "source": [
    "display(slider, output2)"
   ]
  },
  {
   "cell_type": "code",
   "execution_count": 33,
   "metadata": {},
   "outputs": [
    {
     "data": {
      "text/plain": [
       "<laby.labyrinth at 0x7f966c3ceac0>"
      ]
     },
     "execution_count": 33,
     "metadata": {},
     "output_type": "execute_result"
    }
   ],
   "source": [
    "laby = labyrinth(\"share/laby/levels/this-is-crazy.laby\" )\n",
    "laby"
   ]
  },
  {
   "cell_type": "code",
   "execution_count": 34,
   "metadata": {},
   "outputs": [],
   "source": [
    "# class labyrinth_SVG_view(labyrinth_view):\n",
    "# #     public:\n",
    "# #     xw::vbox widget;\n",
    "#     cells = []\n",
    "# #     taille\n",
    "#     def __init__(self,labyrinth ):\n",
    "#         labyrinth_view.__init__(self,labyrinth) \n",
    "#         self.update()\n",
    "        \n",
    "#     def display(self):\n",
    "#         return display(self.widget)\n",
    "       \n",
    "#     def update(self):\n",
    "#         if ( self.value != position ):  ##size initializer ?\n",
    "# #             self.size = self.value.size();\n",
    "#             size = self.value\n",
    "#             # Reconstruct the array of tiles\n",
    "# #             widget = xw::vbox();\n",
    "#             Vertical_Box = VBox\n",
    "#             #taille de notre niveau\n",
    "# #             cells = std::vector<std::vector<xw::html>>(size.i);\n",
    "#             taille_ligne = size.size()[0]\n",
    "#             taille_colonne = size.size()[1]\n",
    "#             cells = np.arange(taille_ligne*taille_colonne).reshape(taille_ligne,taille_colonne)\n",
    "# #             cells = [[]]\n",
    "# #             print(type(cells))\n",
    "#             a = cells.tolist()\n",
    "# #             print(type(a))\n",
    "#             for cell_row in a:\n",
    "#                 row = HBox;\n",
    "#                 cell_row = []\n",
    "#                 #cell_row = std::vector<xw::html>(size.j);\n",
    "#                 for c in cell_row:\n",
    "#                     row.add(c);\n",
    "                    \n",
    "# #                 widget.add(std::move(row));\n",
    "# #         for (int i=0; i<size.i; i++)\n",
    "#         for i in range(0,(size.size()[0])):\n",
    "#             for j in range (0,(size.size()[1])):\n",
    "# #             for (int j=0; j<size.j; j++)\n",
    "# #                 print((self.value.get(position(i,j))))\n",
    "# #                 print(len(cells))\n",
    "    \n",
    "# #                 print(cells[i][j])\n",
    "#                 a[i][j] = (self.value.get(position(i,j)));        \n",
    "# #                 cells[i][j].value = (self.value.get(position(i,j)));\n",
    "# #         carte = laby.board.plateau # verifi w[i][j existe]\n",
    "#         items=[]\n",
    "#         taille_ligne =0\n",
    "\n",
    "#         for j in range (0,taille_ligne):\n",
    "#             taille_ligne = taille_ligne\n",
    "#             for i in range (0,taille_colonne):\n",
    "#                 if(j==laby.position[0] and i==laby.position[1]):\n",
    "#                     tuile= laby.dirToAnt()\n",
    "#                 else:\n",
    "#                     tuile = laby.board.get(position(j,i))\n",
    "\n",
    "#                 pof = tuile.name\n",
    "#                 image = \"include/laby/tiles_png/\" + pof + \".png\"\n",
    "#                 file = open (image,'rb')\n",
    "#                 image_lu = file.read()\n",
    "#                 items.append(widgets.Image(value = image_lu, format='png', layout=widgets.Layout(display=\"flex\",\n",
    "#                 margin=\"1px\", width=\"100%\"\n",
    "#                 )))\n",
    "#                 w=widgets.GridBox(items,layout=widgets.Layout(grid_template_columns=\"repeat(\"+str(taille_ligne)+\", 50px)\"))"
   ]
  },
  {
   "cell_type": "code",
   "execution_count": 35,
   "metadata": {},
   "outputs": [],
   "source": [
    "class labyrinth_SVG_view(labyrinth_view):\n",
    "#     public:\n",
    "#     xw::vbox widget;\n",
    "    \n",
    "    cells = []\n",
    "#     taille\n",
    "    def __init__(self,labyrinth ):\n",
    "        labyrinth_view.__init__(self,labyrinth) \n",
    "        self.widget=widgets.GridBox\n",
    "        self.update()\n",
    "        \n",
    "    def display(self):\n",
    "        return display(self.widget)\n",
    "    def update(self):\n",
    "            if ( self.value != position ):  ##size initializer ?\n",
    "    #             self.size = self.value.size();\n",
    "                size = self.value\n",
    "                # Reconstruct the array of tiles\n",
    "    #             widget = xw::vbox();\n",
    "                Vertical_Box = VBox\n",
    "                #taille de notre niveau\n",
    "    #             cells = std::vector<std::vector<xw::html>>(size.i);\n",
    "                taille_ligne = size.size()[0]\n",
    "                taille_colonne = size.size()[1]\n",
    "                cells = np.arange(taille_ligne*taille_colonne).reshape(taille_ligne,taille_colonne)\n",
    "    #             cells = [[]]\n",
    "    #             print(type(cells))\n",
    "                a = cells.tolist()\n",
    "    #             print(type(a))\n",
    "                for cell_row in a:\n",
    "                    row = HBox;\n",
    "                    cell_row = []\n",
    "                    #cell_row = std::vector<xw::html>(size.j);\n",
    "                    for c in cell_row:\n",
    "                        row.add(c);\n",
    "\n",
    "    #                 widget.add(std::move(row));\n",
    "    #         for (int i=0; i<size.i; i++)\n",
    "            for i in range(0,(size.size()[0])):\n",
    "                for j in range (0,(size.size()[1])):\n",
    "    #             for (int j=0; j<size.j; j++)\n",
    "    #                 print((self.value.get(position(i,j))))\n",
    "    #                 print(len(cells))\n",
    "\n",
    "    #                 print(cells[i][j])\n",
    "                    a[i][j] = (self.value.get(position(i,j)));        \n",
    "    #                 cells[i][j].value = (self.value.get(position(i,j)));\n",
    "    #         carte = laby.board.plateau # verifi w[i][j existe]\n",
    "            items=[]\n",
    "            taille_ligne =0\n",
    "\n",
    "            for j in range (0,taille_ligne):\n",
    "                taille_ligne = taille_ligne\n",
    "                for i in range (0,taille_colonne):\n",
    "                    if(j==laby.position[0] and i==laby.position[1]):\n",
    "                        tuile= laby.dirToAnt()\n",
    "                    else:\n",
    "                        tuile = laby.board.get(position(j,i))\n",
    "\n",
    "                    pof = tuile.name\n",
    "                    image = \"include/laby/tiles_png/\" + pof + \".png\"\n",
    "                    file = open (image,'rb')\n",
    "                    image_lu = file.read()\n",
    "                    items.append(widgets.Image(value = image_lu, format='png', layout=widgets.Layout(display=\"flex\",\n",
    "                    margin=\"1px\", width=\"100%\"\n",
    "                    )))## mettre a jour le grid box ==> et ehétiter de gridbox\n",
    "            self.widget=widgets.GridBox(items,layout=widgets.Layout(grid_template_columns=\"repeat(\"+str(taille_ligne)+\", 50px)\"))"
   ]
  },
  {
   "cell_type": "code",
   "execution_count": 36,
   "metadata": {},
   "outputs": [
    {
     "data": {
      "text/plain": [
       "<__main__.labyrinth_SVG_view at 0x7f966c3d52b0>"
      ]
     },
     "execution_count": 36,
     "metadata": {},
     "output_type": "execute_result"
    }
   ],
   "source": [
    "laby_svg = labyrinth_SVG_view(laby)\n",
    "laby_svg"
   ]
  },
  {
   "cell_type": "code",
   "execution_count": 37,
   "metadata": {
    "scrolled": true
   },
   "outputs": [],
   "source": [
    "laby_svg.update()"
   ]
  },
  {
   "cell_type": "code",
   "execution_count": 38,
   "metadata": {},
   "outputs": [],
   "source": [
    "labyrinth_SVG_view(laby).update()"
   ]
  },
  {
   "cell_type": "code",
   "execution_count": 39,
   "metadata": {},
   "outputs": [],
   "source": [
    "laby_svg.to_string()"
   ]
  },
  {
   "cell_type": "code",
   "execution_count": 40,
   "metadata": {},
   "outputs": [
    {
     "data": {
      "application/vnd.jupyter.widget-view+json": {
       "model_id": "bbfcd00010c34110acc131e597b9529d",
       "version_major": 2,
       "version_minor": 0
      },
      "text/plain": [
       "GridBox(layout=Layout(grid_template_columns='repeat(0, 50px)'))"
      ]
     },
     "metadata": {},
     "output_type": "display_data"
    }
   ],
   "source": [
    "laby_svg.display()"
   ]
  },
  {
   "cell_type": "code",
   "execution_count": null,
   "metadata": {},
   "outputs": [],
   "source": []
  },
  {
   "cell_type": "code",
   "execution_count": null,
   "metadata": {},
   "outputs": [],
   "source": []
  },
  {
   "cell_type": "code",
   "execution_count": 41,
   "metadata": {},
   "outputs": [],
   "source": [
    "slider=widgets.FloatSlider(\n",
    "value=1.0,\n",
    "min=0.0,\n",
    "max=5.0,\n",
    "step=1,\n",
    "    description=\"Speed:\"\n",
    ")"
   ]
  },
  {
   "cell_type": "code",
   "execution_count": 42,
   "metadata": {
    "scrolled": true
   },
   "outputs": [
    {
     "data": {
      "application/vnd.jupyter.widget-view+json": {
       "model_id": "e0593c55c70f45009ccf004695360b03",
       "version_major": 2,
       "version_minor": 0
      },
      "text/plain": [
       "HBox(children=(Button(icon='fast-backward', layout=Layout(width='35px'), style=ButtonStyle()), Button(icon='ba…"
      ]
     },
     "metadata": {},
     "output_type": "display_data"
    }
   ],
   "source": [
    "fast_backward= widgets.Button(description=\"\",icon='fa-fast-backward',layout=Layout(width='35px'))\n",
    "backward= widgets.Button(description=\"\",icon='fa-backward',layout=Layout(width='35px'))\n",
    "step_backward= widgets.Button(description=\"\",icon='fa-step-backward',layout=Layout(width='35px'))\n",
    "pause= widgets.Button(description=\"\",icon='fa-pause',layout=Layout(width='35px'))\n",
    "step_forward= widgets.Button(description=\"\",icon='fa-step-forward',layout=Layout(width='35px'))\n",
    "fast_forward= widgets.Button(description=\"\",icon='fa-fast-forward',layout=Layout(width='35px'))\n",
    "play.on_click(play_clicked)\n",
    "fast_backward.on_click(fast_backward_clicked)\n",
    "backward.on_click(backward_clicked)\n",
    "step_backward.on_click(step_backward_clicked)\n",
    "pause.on_click(pause_clicked)\n",
    "step_forward.on_click(step_forward_clicked)\n",
    "fast_forward.on_click(fast_forward_clicked)\n",
    "#slider = widgets.FloatSlider()\n",
    "#widgets.jslink((play, 'value'), (slider, 'value'))\n",
    "widgets.HBox([fast_backward,backward,step_backward,pause,step_forward,play,fast_forward,slider])"
   ]
  },
  {
   "cell_type": "code",
   "execution_count": null,
   "metadata": {},
   "outputs": [],
   "source": []
  },
  {
   "cell_type": "code",
   "execution_count": null,
   "metadata": {},
   "outputs": [],
   "source": []
  },
  {
   "cell_type": "code",
   "execution_count": null,
   "metadata": {},
   "outputs": [],
   "source": []
  },
  {
   "cell_type": "code",
   "execution_count": null,
   "metadata": {},
   "outputs": [],
   "source": []
  },
  {
   "cell_type": "code",
   "execution_count": null,
   "metadata": {},
   "outputs": [],
   "source": [
    "\n"
   ]
  },
  {
   "cell_type": "code",
   "execution_count": 43,
   "metadata": {},
   "outputs": [],
   "source": [
    "from functools import partial "
   ]
  },
  {
   "cell_type": "code",
   "execution_count": null,
   "metadata": {},
   "outputs": [],
   "source": []
  },
  {
   "cell_type": "code",
   "execution_count": 44,
   "metadata": {},
   "outputs": [],
   "source": [
    "class LabyrinthView:\n",
    "    \n",
    "    def __init__(self,labyrinth ):\n",
    "        self.value=labyrinth\n",
    "    def to_string(self):\n",
    "        return value.to_string()\n",
    "    def update(self):\n",
    "        pass"
   ]
  },
  {
   "cell_type": "code",
   "execution_count": 45,
   "metadata": {
    "scrolled": true
   },
   "outputs": [],
   "source": [
    "# ############################################################################################################\n",
    "#         def __init__(self, i=0, j=0):\n",
    "\n",
    "# 15:32\n",
    "\n",
    "# Dimension()\n",
    "\n",
    "# 15:32\n",
    "\n",
    "# Dimension(1)\n",
    "\n",
    "# 15:33\n",
    "\n",
    "# Dimension(1,2)\n",
    "\n",
    "# 15:33\n",
    "\n",
    "# Dimension(j=2)\n",
    "\n",
    "# 15:43\n",
    "\n",
    "# docs.python.org/2/library/threading.html#timer-objects\n"
   ]
  },
  {
   "cell_type": "code",
   "execution_count": null,
   "metadata": {},
   "outputs": [],
   "source": []
  },
  {
   "cell_type": "code",
   "execution_count": null,
   "metadata": {},
   "outputs": [],
   "source": []
  },
  {
   "cell_type": "code",
   "execution_count": null,
   "metadata": {},
   "outputs": [],
   "source": []
  },
  {
   "cell_type": "code",
   "execution_count": 46,
   "metadata": {},
   "outputs": [],
   "source": [
    "from enum import Enum\n",
    "import ipywidgets\n",
    "from functools import partial \n",
    "from ipywidgets import HBox, VBox ,Layout\n",
    "PlayDirection = Enum('PlayDirection','Forward Backward None')\n",
    "from threading import *"
   ]
  },
  {
   "cell_type": "code",
   "execution_count": 47,
   "metadata": {},
   "outputs": [],
   "source": [
    "class player(VBox) :\n",
    "    \n",
    "        def __init__(self, _view):\n",
    "            self.view = _view\n",
    "            self.original_value=self.view.value\n",
    "            self.play_direction=PlayDirection.Forward\n",
    "            self.play_fps=1\n",
    "            self.reset(self.original_value)\n",
    "            self.timer = Timer ( partial( self.tick ), self.play_fps)\n",
    "            self.history=[]\n",
    "       \n",
    "\n",
    "        def run(self):\n",
    "            self.timer.run()\n",
    "        \n",
    "        def update(self):\n",
    "            self.value = self.history[self.time]\n",
    "            self.view.update()\n",
    "        def get_value(self):\n",
    "            \n",
    "            return self.history[len(self.history)-1]\n",
    "        \n",
    "        def set_value(self,value): ## = player.value=data\n",
    "            if (len(self.history) > 10000):\n",
    "                raise RunTimeError(\"Votre programme a pris plus de 1000 étapes\")\n",
    "                \n",
    "            self.history.append(value)\n",
    "            if ( not self.timer.running() and self.time == len(self.history) -2):\n",
    "                self.time=self.time+1\n",
    "                self.update()\n",
    "        def tick(self):\n",
    "            if(self.play_direction == PlayDirection.Forward ):  \n",
    "                self.step_forward()\n",
    "            else:\n",
    "                self.step_backward()\n",
    "        \n",
    "        def reset(self,value):      \n",
    "                self.time=0\n",
    "                self.history=[value]\n",
    "                self.update()\n",
    "        \n",
    "        def begin(self):\n",
    "            self.time=0\n",
    "            self.update()\n",
    "        \n",
    "        def end(self):\n",
    "            self.time= len(self.history)-1  \n",
    "            self.update()\n",
    "        def step_backward(self):\n",
    "            if( self.time >0):\n",
    "                self.time=self.time-1\n",
    "                self.update()\n",
    "        def step_forward(self):\n",
    "            if( self.time <len(self.history)-1):  \n",
    "                self.time=self.time+1\n",
    "                self.update()        \n",
    "        def backward (self):\n",
    "            self.play_direction = PlayDirection.Backward # a check\n",
    "            self.timer.set_fps(self.play_fps)\n",
    "        \n",
    "        def play(self):\n",
    "            self. play_direction = PlayDirection.Forward # a check\n",
    "            self.timer.set_fps(self.play_fps)\n",
    "        \n",
    "        def pause(self):\n",
    "            self.play_direction=None\n",
    "            self.timer.set_fps(0)\n",
    "        \n",
    "        def set_fps(self,fps):\n",
    "            self.play_fps=fps\n",
    "            if(self.play_direction != None):\n",
    "                self.timer.set_fps(fps)\n",
    "        \n",
    "        def won(self):\n",
    "            return self.history[len(self.history)-1].won()\n",
    "\n",
    " "
   ]
  },
  {
   "cell_type": "code",
   "execution_count": 48,
   "metadata": {},
   "outputs": [],
   "source": [
    "class player_view:\n",
    "    def __init__(self,player):\n",
    "        widget=widgets.HTML(\n",
    "        value=\"\",\n",
    "        placeholder='',\n",
    "        description='',\n",
    "        )\n",
    "        output = widgets.Output()\n",
    "\n",
    "        def fast_backward_clicked(b):\n",
    "            with output:\n",
    "                player.begin()\n",
    "                player.pause()\n",
    "            \n",
    "        def backward_clicked(b):\n",
    "            with output:\n",
    "                player.backward()\n",
    "        def step_backward_clicked(b):\n",
    "            with output: \n",
    "                player.pause()\n",
    "                player.step_backward()\n",
    "        def pause_clicked(b):\n",
    "            with output:\n",
    "                player.pause()\n",
    "        def step_forward_clicked(b):\n",
    "            with output:\n",
    "                player.pause()\n",
    "                player.step_forward()\n",
    "\n",
    "        def play_clicked(b):\n",
    "            with output:\n",
    "                player.play()\n",
    "        def fast_forward_clicked(b):\n",
    "            with output:\n",
    "                player.pause()\n",
    "                player.end()\n",
    "                            \n",
    "\n",
    "        slider=widgets.FloatSlider(\n",
    "        value=1.0,\n",
    "        min=0.0,\n",
    "        max=5.0,\n",
    "        step=1,\n",
    "            description=\"Speed:\"\n",
    "        )\n",
    "\n",
    "        def on_value_change(change,player):\n",
    "            fps=1\n",
    "            value=int (change['new'])\n",
    "            for i in range (0,value):\n",
    "                fps=fps*2\n",
    "            player.set_fps(fps)\n",
    "        \n",
    "        slider.observe(on_value_change, names='value')\n",
    "\n",
    "        play= widgets.Button(description=\"\",icon='fa-play',layout=Layout(width='25px'))\n",
    "        fast_backward= widgets.Button(description=\"\",icon='fa-fast-backward',layout=Layout(width='35px'))\n",
    "        backward= widgets.Button(description=\"\",icon='fa-backward',layout=Layout(width='35px'))\n",
    "        step_backward= widgets.Button(description=\"\",icon='fa-step-backward',layout=Layout(width='35px'))\n",
    "        pause= widgets.Button(description=\"\",icon='fa-pause',layout=Layout(width='35px'))\n",
    "        step_forward= widgets.Button(description=\"\",icon='fa-step-forward',layout=Layout(width='35px'))\n",
    "        fast_forward= widgets.Button(description=\"\",icon='fa-fast-forward',layout=Layout(width='35px'))\n",
    "\n",
    "        play.on_click(play_clicked)\n",
    "        fast_backward.on_click(fast_backward_clicked)\n",
    "        backward.on_click(backward_clicked)\n",
    "        step_backward.on_click(step_backward_clicked)\n",
    "        pause.on_click(pause_clicked)\n",
    "        step_forward.on_click(step_forward_clicked)\n",
    "        fast_forward.on_click(fast_forward_clicked)\n",
    "\n",
    "        widgets.HBox([fast_backward,backward,step_backward,pause,step_forward,play,fast_forward,slider])\n",
    "    def display(self):\n",
    "        return display(self.widget)"
   ]
  },
  {
   "cell_type": "code",
   "execution_count": 49,
   "metadata": {},
   "outputs": [
    {
     "ename": "NameError",
     "evalue": "name 'self' is not defined",
     "output_type": "error",
     "traceback": [
      "\u001b[0;31m---------------------------------------------------------------------------\u001b[0m",
      "\u001b[0;31mNameError\u001b[0m                                 Traceback (most recent call last)",
      "\u001b[0;32m<ipython-input-49-342516b115d5>\u001b[0m in \u001b[0;36m<module>\u001b[0;34m\u001b[0m\n\u001b[0;32m----> 1\u001b[0;31m \u001b[0mplayer\u001b[0m\u001b[0;34m.\u001b[0m\u001b[0mtick\u001b[0m\u001b[0;34m(\u001b[0m\u001b[0mself\u001b[0m\u001b[0;34m)\u001b[0m\u001b[0;34m\u001b[0m\u001b[0;34m\u001b[0m\u001b[0m\n\u001b[0m",
      "\u001b[0;31mNameError\u001b[0m: name 'self' is not defined"
     ]
    }
   ],
   "source": [
    "player.tick(self)"
   ]
  },
  {
   "cell_type": "code",
   "execution_count": 50,
   "metadata": {},
   "outputs": [
    {
     "ename": "NameError",
     "evalue": "name 'tick' is not defined",
     "output_type": "error",
     "traceback": [
      "\u001b[0;31m---------------------------------------------------------------------------\u001b[0m",
      "\u001b[0;31mNameError\u001b[0m                                 Traceback (most recent call last)",
      "\u001b[0;32m<ipython-input-50-7fe71a754a1d>\u001b[0m in \u001b[0;36m<module>\u001b[0;34m\u001b[0m\n\u001b[0;32m----> 1\u001b[0;31m \u001b[0mtimer\u001b[0m \u001b[0;34m=\u001b[0m \u001b[0mTimer\u001b[0m \u001b[0;34m(\u001b[0m \u001b[0mpartial\u001b[0m\u001b[0;34m(\u001b[0m \u001b[0mtick\u001b[0m \u001b[0;34m)\u001b[0m\u001b[0;34m,\u001b[0m \u001b[0mself\u001b[0m\u001b[0;34m.\u001b[0m\u001b[0mplay_fps\u001b[0m\u001b[0;34m)\u001b[0m\u001b[0;34m\u001b[0m\u001b[0;34m\u001b[0m\u001b[0m\n\u001b[0m",
      "\u001b[0;31mNameError\u001b[0m: name 'tick' is not defined"
     ]
    }
   ],
   "source": [
    "timer = Timer ( partial( tick ), self.play_fps)"
   ]
  },
  {
   "cell_type": "code",
   "execution_count": null,
   "metadata": {},
   "outputs": [],
   "source": []
  },
  {
   "cell_type": "code",
   "execution_count": null,
   "metadata": {},
   "outputs": [],
   "source": []
  },
  {
   "cell_type": "code",
   "execution_count": 60,
   "metadata": {
    "scrolled": true
   },
   "outputs": [
    {
     "name": "stdout",
     "output_type": "stream",
     "text": [
      "ipsem lorem\n",
      "ipsem lorem\n"
     ]
    }
   ],
   "source": [
    "from threading import Timer,Thread,Event\n",
    "\n",
    "\n",
    "class perpetualTimer():\n",
    "\n",
    "    def __init__(self,t,hFunction):\n",
    "        self.t=t\n",
    "        self.hFunction = hFunction\n",
    "        self.thread = Timer(self.t,self.handle_function)\n",
    "\n",
    "    def handle_function(self):\n",
    "        self.hFunction()\n",
    "        self.thread = Timer(self.t,self.handle_function)\n",
    "        self.start()\n",
    "\n",
    "    def start(self):\n",
    "        self.thread.start()\n",
    "\n",
    "    def cancel(self):\n",
    "        self.thread.cancel()\n",
    "\n",
    "def printer():\n",
    "    print ('ipsem lorem')\n",
    "\n",
    "t = perpetualTimer(5,printer)\n",
    "t.start()"
   ]
  },
  {
   "cell_type": "code",
   "execution_count": 61,
   "metadata": {},
   "outputs": [
    {
     "name": "stdout",
     "output_type": "stream",
     "text": [
      "ipsem lorem\n",
      "ipsem lorem\n"
     ]
    }
   ],
   "source": [
    "t.t=1\n"
   ]
  },
  {
   "cell_type": "code",
   "execution_count": 63,
   "metadata": {},
   "outputs": [],
   "source": [
    "t.cancel()\n"
   ]
  },
  {
   "cell_type": "code",
   "execution_count": 66,
   "metadata": {},
   "outputs": [
    {
     "name": "stdout",
     "output_type": "stream",
     "text": [
      "Moe's last name is 5 \n",
      "Age changed from 0 to 10 \n"
     ]
    }
   ],
   "source": [
    "from traits.api import Delegate, HasTraits, Instance,Int, Str\n",
    "class Parent ( HasTraits ):\n",
    "\n",
    "    # INITIALIZATION: last_name' is initialized to '':\n",
    "    last_name = Int\n",
    "\n",
    "\n",
    "class Child ( HasTraits ):\n",
    "\n",
    "    age = Int\n",
    "\n",
    "    # VALIDATION: 'father' must be a Parent instance:\n",
    "    father = Instance( Parent )\n",
    "\n",
    "    # DELEGATION: 'last_name' is delegated to father's 'last_name':\n",
    "    last_name = Delegate( 'father' )\n",
    "\n",
    "    # NOTIFICATION: This method is called when 'age' changes:\n",
    "    def _age_changed ( self, old, new ):\n",
    "        print('Age changed from %s to %s ' % ( old, new ))\n",
    "\n",
    "# Set up the example:\n",
    "joe = Parent()\n",
    "joe.last_name = 5\n",
    "moe = Child()\n",
    "moe.father = joe\n",
    "\n",
    "# DELEGATION in action:\n",
    "print(\"Moe's last name is %s \" % moe.last_name)\n",
    "# Result:\n",
    "# Moe's last name is Johnson\n",
    "\n",
    "# NOTIFICATION in action\n",
    "moe.age = 10\n",
    "# Result:\n",
    "# Age changed from 0 to 10"
   ]
  },
  {
   "cell_type": "code",
   "execution_count": 67,
   "metadata": {},
   "outputs": [],
   "source": [
    "joe.last_name=1"
   ]
  },
  {
   "cell_type": "code",
   "execution_count": 68,
   "metadata": {},
   "outputs": [
    {
     "name": "stdout",
     "output_type": "stream",
     "text": [
      "Moe's last name is 1 \n"
     ]
    }
   ],
   "source": [
    "print(\"Moe's last name is %s \" % moe.last_name)"
   ]
  },
  {
   "cell_type": "code",
   "execution_count": 56,
   "metadata": {},
   "outputs": [],
   "source": [
    "t.cancel()"
   ]
  },
  {
   "cell_type": "code",
   "execution_count": null,
   "metadata": {},
   "outputs": [],
   "source": []
  },
  {
   "cell_type": "code",
   "execution_count": null,
   "metadata": {},
   "outputs": [],
   "source": []
  },
  {
   "cell_type": "code",
   "execution_count": null,
   "metadata": {},
   "outputs": [],
   "source": []
  },
  {
   "cell_type": "code",
   "execution_count": null,
   "metadata": {},
   "outputs": [],
   "source": []
  }
 ],
 "metadata": {
  "kernelspec": {
   "display_name": "Python 3",
   "language": "python",
   "name": "python3"
  }
 },
 "nbformat": 4,
 "nbformat_minor": 4
}
