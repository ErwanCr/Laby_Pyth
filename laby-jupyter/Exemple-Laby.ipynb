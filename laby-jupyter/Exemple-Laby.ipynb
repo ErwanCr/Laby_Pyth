{
 "cells": [
  {
   "cell_type": "code",
   "execution_count": 17,
   "metadata": {},
   "outputs": [
    {
     "ename": "SyntaxError",
     "evalue": "invalid syntax (global_fr.py, line 1)",
     "output_type": "error",
     "traceback": [
      "Traceback \u001b[0;36m(most recent call last)\u001b[0m:\n",
      "  File \u001b[1;32m\"/home/nicolas/miniconda2/envs/laby-jupyter/lib/python3.8/site-packages/IPython/core/interactiveshell.py\"\u001b[0m, line \u001b[1;32m3331\u001b[0m, in \u001b[1;35mrun_code\u001b[0m\n    exec(code_obj, self.user_global_ns, self.user_ns)\n",
      "\u001b[0;36m  File \u001b[0;32m\"<ipython-input-17-b49a5a53cf1f>\"\u001b[0;36m, line \u001b[0;32m1\u001b[0;36m, in \u001b[0;35m<module>\u001b[0;36m\u001b[0m\n\u001b[0;31m    from global_fr import *\u001b[0m\n",
      "\u001b[0;36m  File \u001b[0;32m\"/home/nicolas/Bureau/Ter/Laby_Pyth/laby-jupyter/global_fr.py\"\u001b[0;36m, line \u001b[0;32m1\u001b[0m\n\u001b[0;31m    from widget\u001b[0m\n\u001b[0m               ^\u001b[0m\n\u001b[0;31mSyntaxError\u001b[0m\u001b[0;31m:\u001b[0m invalid syntax\n"
     ]
    }
   ],
   "source": [
    "from global_fr import *"
   ]
  },
  {
   "cell_type": "code",
   "execution_count": 18,
   "metadata": {
    "scrolled": true
   },
   "outputs": [
    {
     "data": {
      "application/vnd.jupyter.widget-view+json": {
       "model_id": "a2da170984b84d4392486eb7fc5d19f4",
       "version_major": 2,
       "version_minor": 0
      },
      "text/plain": [
       "GridBox(children=(Image(value=b'\\x89PNG\\r\\n\\x1a\\n\\x00\\x00\\x00\\rIHDR\\x00\\x00\\x00 \\x00\\x00\\x00 \\x08\\x06\\x00\\x00\\…"
      ]
     },
     "metadata": {},
     "output_type": "display_data"
    }
   ],
   "source": [
    "%run laby.py"
   ]
  },
  {
   "cell_type": "code",
   "execution_count": 19,
   "metadata": {
    "scrolled": true
   },
   "outputs": [
    {
     "ename": "NameError",
     "evalue": "name 'avance' is not defined",
     "output_type": "error",
     "traceback": [
      "\u001b[0;31m---------------------------------------------------------------------------\u001b[0m",
      "\u001b[0;31mNameError\u001b[0m                                 Traceback (most recent call last)",
      "\u001b[0;32m<ipython-input-19-eb9392e4e1d2>\u001b[0m in \u001b[0;36m<module>\u001b[0;34m\u001b[0m\n\u001b[0;32m----> 1\u001b[0;31m \u001b[0mavance\u001b[0m\u001b[0;34m(\u001b[0m\u001b[0;34m)\u001b[0m\u001b[0;34m\u001b[0m\u001b[0;34m\u001b[0m\u001b[0m\n\u001b[0m",
      "\u001b[0;31mNameError\u001b[0m: name 'avance' is not defined"
     ]
    }
   ],
   "source": [
    "avance()"
   ]
  },
  {
   "cell_type": "code",
   "execution_count": 20,
   "metadata": {},
   "outputs": [],
   "source": [
    " from ipywidgets import Layout"
   ]
  },
  {
   "cell_type": "code",
   "execution_count": null,
   "metadata": {
    "scrolled": true
   },
   "outputs": [],
   "source": []
  },
  {
   "cell_type": "code",
   "execution_count": 21,
   "metadata": {},
   "outputs": [],
   "source": [
    "output = widgets.Output()\n",
    "\n",
    "def fast_backward_clicked(b):\n",
    "    with output:\n",
    "        player.begin()\n",
    "        player.pause()\n",
    "    \n",
    "def backward_clicked(b):\n",
    "    with output:\n",
    "        player.backward()\n",
    "def step_backward_clicked(b):\n",
    "    with output: \n",
    "        player.pause()\n",
    "        player.step_backward()\n",
    "def pause_clicked(b):\n",
    "    with output:\n",
    "        player.pause()\n",
    "def step_forward_clicked(b):\n",
    "    with output:\n",
    "        player.pause()\n",
    "        player.step_forward()\n",
    "\n",
    "def play_clicked(b):\n",
    "    with output:\n",
    "        player.play()\n",
    "def fast_forward_clicked(b):\n",
    "    with output:\n",
    "        player.pause()\n",
    "        player.end()\n",
    "                        \n",
    "    "
   ]
  },
  {
   "cell_type": "code",
   "execution_count": 22,
   "metadata": {},
   "outputs": [
    {
     "data": {
      "application/vnd.jupyter.widget-view+json": {
       "model_id": "5d83f4298fc94170b13368914e1c08dd",
       "version_major": 2,
       "version_minor": 0
      },
      "text/plain": [
       "GridBox(children=(Image(value=b'\\x89PNG\\r\\n\\x1a\\n\\x00\\x00\\x00\\rIHDR\\x00\\x00\\x00 \\x00\\x00\\x00 \\x08\\x06\\x00\\x00\\…"
      ]
     },
     "metadata": {},
     "output_type": "display_data"
    }
   ],
   "source": [
    "%run widget.py"
   ]
  },
  {
   "cell_type": "code",
   "execution_count": 23,
   "metadata": {},
   "outputs": [],
   "source": [
    "play= widgets.Button(description=\"\",icon='fa-play',   \n",
    "\n",
    "    layout=Layout(width='25px'),\n",
    "    \n",
    ")"
   ]
  },
  {
   "cell_type": "code",
   "execution_count": null,
   "metadata": {},
   "outputs": [],
   "source": []
  },
  {
   "cell_type": "code",
   "execution_count": 24,
   "metadata": {},
   "outputs": [],
   "source": [
    "# int_range = widgets.IntSlider()\n",
    "# output2 = widgets.Output()\n",
    "\n",
    "# display(int_range, output2)\n",
    "\n",
    "# def on_value_change(change):\n",
    "#     with output2:\n",
    "#         print(change['new'])\n",
    "\n",
    "# int_range.observe(on_value_change, names='value')"
   ]
  },
  {
   "cell_type": "code",
   "execution_count": 47,
   "metadata": {},
   "outputs": [],
   "source": [
    "output2 = widgets.Output()\n",
    "slider=widgets.FloatSlider(\n",
    "        value=1.0,\n",
    "        min=0.0,\n",
    "        max=5.0,\n",
    "        step=1,\n",
    "        description=\"Speed:\"\n",
    "\n",
    "        )\n",
    "def on_value_change(change,player):\n",
    "    fps=1\n",
    "    value=int (change['new'])\n",
    "    for i in range (0,value):\n",
    "        fps=fps*2\n",
    "    player.set_fps(fps)\n",
    "slider.observe(on_value_change, names='value')"
   ]
  },
  {
   "cell_type": "code",
   "execution_count": null,
   "metadata": {},
   "outputs": [],
   "source": []
  },
  {
   "cell_type": "code",
   "execution_count": 48,
   "metadata": {},
   "outputs": [
    {
     "data": {
      "application/vnd.jupyter.widget-view+json": {
       "model_id": "ac226631094e4c97ac08f9b65c64f311",
       "version_major": 2,
       "version_minor": 0
      },
      "text/plain": [
       "FloatSlider(value=1.0, description='Speed:', max=5.0, step=1.0)"
      ]
     },
     "metadata": {},
     "output_type": "display_data"
    },
    {
     "data": {
      "application/vnd.jupyter.widget-view+json": {
       "model_id": "7295b64f18fc4d218051589001e97809",
       "version_major": 2,
       "version_minor": 0
      },
      "text/plain": [
       "Output()"
      ]
     },
     "metadata": {},
     "output_type": "display_data"
    }
   ],
   "source": [
    "display(slider, output2)"
   ]
  },
  {
   "cell_type": "code",
   "execution_count": 28,
   "metadata": {},
   "outputs": [
    {
     "ename": "SyntaxError",
     "evalue": "invalid syntax (<ipython-input-28-b86e03207196>, line 2)",
     "output_type": "error",
     "traceback": [
      "\u001b[0;36m  File \u001b[0;32m\"<ipython-input-28-b86e03207196>\"\u001b[0;36m, line \u001b[0;32m2\u001b[0m\n\u001b[0;31m    public:\u001b[0m\n\u001b[0m           ^\u001b[0m\n\u001b[0;31mSyntaxError\u001b[0m\u001b[0;31m:\u001b[0m invalid syntax\n"
     ]
    }
   ],
   "source": [
    "class labyrinth_SVG_view(labyrinth_view):\n",
    "    public:\n",
    "    xw::vbox widget;\n",
    "            \n",
    "    std::vector<std::vector<xw::html>> cells;\n",
    "    Dimension size;\n",
    "    \n",
    "    def display(self):\n",
    "        return display(self.widget)\n",
    "    \n",
    "    def __init__(self,labyrinth ):\n",
    "        labyrinth_view.__init__(self,labyrinth) \n",
    "        self.update()\n",
    "    \n",
    "    \n",
    "    def update() {\n",
    "        if ( value.size() != size ):  ##size initializer ?\n",
    "            self.size = self.value.size();\n",
    "            // Reconstruct the array of tiles\n",
    "            widget = xw::vbox();\n",
    "            cells = std::vector<std::vector<xw::html>>(size.i);\n",
    "            for (auto &cell_row: cells) {\n",
    "                xw::hbox row;\n",
    "                cell_row = std::vector<xw::html>(size.j);\n",
    "                for (auto &c: cell_row)\n",
    "                    row.add(c);\n",
    "                widget.add(std::move(row));\n",
    "            }\n",
    "        }\n",
    "        for (int i=0; i<size.i; i++)\n",
    "            for (int j=0; j<size.j; j++)\n",
    "                cells[i][j].value = svg_image(value.get(Position(i,j)));\n",
    "    }\n",
    "};\n",
    "\n",
    "\n",
    "carte = laby.board.plateau # verifi w[i][j existe]\n",
    "    items=[]\n",
    "    taille_ligne =0\n",
    "    \n",
    "    for j in range (0,len(carte)):\n",
    "        taille_ligne = len(carte[0])\n",
    "        for i in range (0,len(carte[0])):\n",
    "            if(j==laby.position[0] and i==laby.position[1]):\n",
    "                tuile= laby.dirToAnt()\n",
    "            else:\n",
    "                tuile = l.board.get(position(j,i))\n",
    "            \n",
    "            pof = tuile.name\n",
    "            image = \"include/laby/tiles_png/\" + pof + \".png\"\n",
    "            file = open (image,'rb')\n",
    "            image_lu = file.read()\n",
    "            items.append(widgets.Image(value = image_lu, format='png', layout=widgets.Layout(display=\"flex\",\n",
    "            margin=\"1px\", width=\"100%\"\n",
    "            )))\n",
    "            w=widgets.GridBox(items,layout=widgets.Layout(grid_template_columns=\"repeat(\"+str(taille_ligne)+\", 50px)\"))"
   ]
  },
  {
   "cell_type": "code",
   "execution_count": null,
   "metadata": {},
   "outputs": [],
   "source": []
  },
  {
   "cell_type": "code",
   "execution_count": null,
   "metadata": {},
   "outputs": [],
   "source": []
  },
  {
   "cell_type": "code",
   "execution_count": 29,
   "metadata": {},
   "outputs": [],
   "source": [
    "slider=widgets.FloatSlider(\n",
    "value=1.0,\n",
    "min=0.0,\n",
    "max=5.0,\n",
    "step=1,\n",
    "    description=\"Speed:\"\n",
    ")"
   ]
  },
  {
   "cell_type": "code",
   "execution_count": 30,
   "metadata": {
    "scrolled": true
   },
   "outputs": [
    {
     "ename": "NameError",
     "evalue": "name 'widget' is not defined",
     "output_type": "error",
     "traceback": [
      "\u001b[0;31m---------------------------------------------------------------------------\u001b[0m",
      "\u001b[0;31mNameError\u001b[0m                                 Traceback (most recent call last)",
      "\u001b[0;32m<ipython-input-30-3372fd47c2dd>\u001b[0m in \u001b[0;36m<module>\u001b[0;34m\u001b[0m\n\u001b[1;32m     14\u001b[0m \u001b[0;31m#slider = widgets.FloatSlider()\u001b[0m\u001b[0;34m\u001b[0m\u001b[0;34m\u001b[0m\u001b[0;34m\u001b[0m\u001b[0m\n\u001b[1;32m     15\u001b[0m \u001b[0;31m#widgets.jslink((play, 'value'), (slider, 'value'))\u001b[0m\u001b[0;34m\u001b[0m\u001b[0;34m\u001b[0m\u001b[0;34m\u001b[0m\u001b[0m\n\u001b[0;32m---> 16\u001b[0;31m \u001b[0mwidgets\u001b[0m\u001b[0;34m.\u001b[0m\u001b[0mHBox\u001b[0m\u001b[0;34m(\u001b[0m\u001b[0;34m[\u001b[0m\u001b[0mfast_backward\u001b[0m\u001b[0;34m,\u001b[0m\u001b[0mbackward\u001b[0m\u001b[0;34m,\u001b[0m\u001b[0mstep_backward\u001b[0m\u001b[0;34m,\u001b[0m\u001b[0mpause\u001b[0m\u001b[0;34m,\u001b[0m\u001b[0mstep_forward\u001b[0m\u001b[0;34m,\u001b[0m\u001b[0mplay\u001b[0m\u001b[0;34m,\u001b[0m\u001b[0mfast_forward\u001b[0m\u001b[0;34m,\u001b[0m\u001b[0mslider\u001b[0m\u001b[0;34m,\u001b[0m\u001b[0mwidget\u001b[0m\u001b[0;34m]\u001b[0m\u001b[0;34m)\u001b[0m\u001b[0;34m\u001b[0m\u001b[0;34m\u001b[0m\u001b[0m\n\u001b[0m",
      "\u001b[0;31mNameError\u001b[0m: name 'widget' is not defined"
     ]
    }
   ],
   "source": [
    "fast_backward= widgets.Button(description=\"\",icon='fa-fast-backward',layout=Layout(width='35px'))\n",
    "backward= widgets.Button(description=\"\",icon='fa-backward',layout=Layout(width='35px'))\n",
    "step_backward= widgets.Button(description=\"\",icon='fa-step-backward',layout=Layout(width='35px'))\n",
    "pause= widgets.Button(description=\"\",icon='fa-pause',layout=Layout(width='35px'))\n",
    "step_forward= widgets.Button(description=\"\",icon='fa-step-forward',layout=Layout(width='35px'))\n",
    "fast_forward= widgets.Button(description=\"\",icon='fa-fast-forward',layout=Layout(width='35px'))\n",
    "play.on_click(play_clicked)\n",
    "fast_backward.on_click(fast_backward_clicked)\n",
    "backward.on_click(backward_clicked)\n",
    "step_backward.on_click(step_backward_clicked)\n",
    "pause.on_click(pause_clicked)\n",
    "step_forward.on_click(step_forward_clicked)\n",
    "fast_forward.on_click(fast_forward_clicked)\n",
    "#slider = widgets.FloatSlider()\n",
    "#widgets.jslink((play, 'value'), (slider, 'value'))\n",
    "widgets.HBox([fast_backward,backward,step_backward,pause,step_forward,play,fast_forward,slider,widget])"
   ]
  },
  {
   "cell_type": "code",
   "execution_count": null,
   "metadata": {},
   "outputs": [],
   "source": []
  },
  {
   "cell_type": "code",
   "execution_count": null,
   "metadata": {},
   "outputs": [],
   "source": []
  },
  {
   "cell_type": "code",
   "execution_count": null,
   "metadata": {},
   "outputs": [],
   "source": []
  },
  {
   "cell_type": "code",
   "execution_count": null,
   "metadata": {},
   "outputs": [],
   "source": []
  },
  {
   "cell_type": "code",
   "execution_count": null,
   "metadata": {},
   "outputs": [],
   "source": [
    "\n"
   ]
  },
  {
   "cell_type": "code",
   "execution_count": 9,
   "metadata": {},
   "outputs": [],
   "source": [
    "from functools import partial "
   ]
  },
  {
   "cell_type": "code",
   "execution_count": null,
   "metadata": {},
   "outputs": [],
   "source": []
  },
  {
   "cell_type": "code",
   "execution_count": 10,
   "metadata": {},
   "outputs": [],
   "source": [
    "class LabyrinthView:\n",
    "    \n",
    "    def __init__(self,labyrinth ):\n",
    "        self.value=labyrinth\n",
    "    def to_string(self):\n",
    "        return value.to_string()\n",
    "    def update(self):\n",
    "        pass"
   ]
  },
  {
   "cell_type": "code",
   "execution_count": 11,
   "metadata": {
    "scrolled": true
   },
   "outputs": [],
   "source": [
    "# ############################################################################################################\n",
    "#         def __init__(self, i=0, j=0):\n",
    "\n",
    "# 15:32\n",
    "\n",
    "# Dimension()\n",
    "\n",
    "# 15:32\n",
    "\n",
    "# Dimension(1)\n",
    "\n",
    "# 15:33\n",
    "\n",
    "# Dimension(1,2)\n",
    "\n",
    "# 15:33\n",
    "\n",
    "# Dimension(j=2)\n",
    "\n",
    "# 15:43\n",
    "\n",
    "# docs.python.org/2/library/threading.html#timer-objects\n"
   ]
  },
  {
   "cell_type": "code",
   "execution_count": null,
   "metadata": {},
   "outputs": [],
   "source": []
  },
  {
   "cell_type": "code",
   "execution_count": null,
   "metadata": {},
   "outputs": [],
   "source": []
  },
  {
   "cell_type": "code",
   "execution_count": null,
   "metadata": {},
   "outputs": [],
   "source": []
  },
  {
   "cell_type": "code",
   "execution_count": null,
   "metadata": {},
   "outputs": [],
   "source": []
  },
  {
   "cell_type": "code",
   "execution_count": null,
   "metadata": {},
   "outputs": [],
   "source": []
  },
  {
   "cell_type": "code",
   "execution_count": null,
   "metadata": {},
   "outputs": [],
   "source": []
  },
  {
   "cell_type": "code",
   "execution_count": null,
   "metadata": {},
   "outputs": [],
   "source": []
  },
  {
   "cell_type": "code",
   "execution_count": null,
   "metadata": {},
   "outputs": [],
   "source": []
  },
  {
   "cell_type": "code",
   "execution_count": null,
   "metadata": {},
   "outputs": [],
   "source": []
  },
  {
   "cell_type": "code",
   "execution_count": null,
   "metadata": {},
   "outputs": [],
   "source": []
  }
 ],
 "metadata": {
  "kernelspec": {
   "display_name": "Python 3",
   "language": "python",
   "name": "python3"
  },
  "language_info": {
   "codemirror_mode": {
    "name": "ipython",
    "version": 3
   },
   "file_extension": ".py",
   "mimetype": "text/x-python",
   "name": "python",
   "nbconvert_exporter": "python",
   "pygments_lexer": "ipython3",
   "version": "3.8.2"
  }
 },
 "nbformat": 4,
 "nbformat_minor": 4
}
