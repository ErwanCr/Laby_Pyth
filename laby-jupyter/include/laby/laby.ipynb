{
 "cells": [
  {
   "cell_type": "code",
   "execution_count": 226,
   "metadata": {},
   "outputs": [],
   "source": [
    "from enum import Enum\n",
    "from collections import namedtuple\n",
    "import matplotlib.image as mpimg\n",
    "import matplotlib.pyplot as plt\n",
    "from PIL import Image \n",
    "import ipywidgets as widgets\n",
    "import os\n",
    "from IPython.display import display\n",
    "from ipywidgets import HBox, VBox\n",
    "import PIL\n",
    "import numpy as np\n",
    "import re"
   ]
  },
  {
   "cell_type": "code",
   "execution_count": 3,
   "metadata": {},
   "outputs": [],
   "source": [
    "def move(self, direction):\n",
    "    if direction == 'North':\n",
    "        self.y += STEP\n",
    "    elif direction == 'South':\n",
    "        self.y -= STEP\n",
    "    elif direction == 'West':\n",
    "        self.x -= STEP\n",
    "    elif direction == 'East':\n",
    "        self.x += STEP"
   ]
  },
  {
   "cell_type": "code",
   "execution_count": 4,
   "metadata": {},
   "outputs": [],
   "source": [
    "entries = os.listdir('tiles_png/')\n",
    "path = \"tiles_png\"\n",
    "path_mur = \"tiles\\wall.svg\""
   ]
  },
  {
   "cell_type": "code",
   "execution_count": 5,
   "metadata": {},
   "outputs": [],
   "source": [
    "Tile = namedtuple(\"Tile\",[\"name\",\"char\"])"
   ]
  },
  {
   "cell_type": "code",
   "execution_count": 6,
   "metadata": {},
   "outputs": [],
   "source": [
    "# class Tiles:\n",
    "#     def __init__ (self):\n",
    "#         self.Tiles.Ant_N=Tile(name=\"ant-n\",char=\"↑\")\n",
    "    "
   ]
  },
  {
   "cell_type": "code",
   "execution_count": 248,
   "metadata": {},
   "outputs": [],
   "source": [
    "class Tiles():\n",
    "        Ant_E=Tile(name=\"ant-e\",char=\"→\")\n",
    "        Ant_N=Tile(name=\"ant-n\",char=\"↑\")\n",
    "        Ant_S=Tile(name=\"ant-s\",char=\"↓\")\n",
    "        Ant_W=Tile(name=\"ant-w\",char=\"←\")\n",
    "        Exit=Tile(name=\"exit\",char=\"x\")\n",
    "        SmallRock=Tile(name=\"nrock\",char=\"ŕ\")\n",
    "        SmallWeb=Tile(name=\"nweb\",char=\"ẃ\")\n",
    "        Rock=Tile(name=\"rock\",char=\"r\")\n",
    "        Void=Tile(name=\"void\",char=\".\")\n",
    "        Wall=Tile(name=\"wall\",char=\"o\")\n",
    "        Web=Tile(name=\"web\",char=\"w\")\n",
    "        Outside=Tile(name=\"void\",char=\" \")\n",
    "        RandomRock=Tile(name=\"void\",char=\"R\")\n",
    "        RandomWeb=Tile(name=\"void\",char=\"W\")\n",
    "        \n",
    "        def __init__(self):\n",
    "            self.char2N=dict()\n",
    "            self.char2T=dict()\n",
    "            self.char2Name()\n",
    "            self.char2Tile()\n",
    "        \n",
    "        #@staticmethod\n",
    "        def char2Name(self):\n",
    "            for t in Tiles.__dict__.values():\n",
    "                if isinstance(t, Tile):\n",
    "                    self.char2N[t.char]=t.name\n",
    "        def char2Tile(self):\n",
    "            p=re.compile('[A-Z]+(\\w)*')\n",
    "            for t in Tiles.__dict__.keys() :\n",
    "                z=p.match(t)\n",
    "                if (z!=None):\n",
    "                    d=z.group()\n",
    "                    self.char2T[getattr(Tiles,t).char]=d"
   ]
  },
  {
   "cell_type": "code",
   "execution_count": 230,
   "metadata": {
    "scrolled": true
   },
   "outputs": [
    {
     "name": "stdout",
     "output_type": "stream",
     "text": [
      "ant-e\n",
      "ant-n\n",
      "ant-s\n",
      "ant-w\n",
      "exit\n",
      "nrock\n",
      "nweb\n",
      "rock\n",
      "void\n",
      "wall\n",
      "web\n",
      "void\n",
      "void\n",
      "void\n"
     ]
    }
   ],
   "source": [
    "for t in Tiles.__dict__.values():\n",
    "    \n",
    "    if isinstance(t, Tile):\n",
    "        print(t.name)"
   ]
  },
  {
   "cell_type": "code",
   "execution_count": 437,
   "metadata": {
    "scrolled": true
   },
   "outputs": [
    {
     "data": {
      "text/plain": [
       "{'→': 'ant-e',\n",
       " '↑': 'ant-n',\n",
       " '↓': 'ant-s',\n",
       " '←': 'ant-w',\n",
       " 'x': 'exit',\n",
       " 'ŕ': 'nrock',\n",
       " 'ẃ': 'nweb',\n",
       " 'r': 'rock',\n",
       " '.': 'void',\n",
       " 'o': 'wall',\n",
       " 'w': 'web',\n",
       " ' ': 'void',\n",
       " 'R': 'void',\n",
       " 'W': 'void'}"
      ]
     },
     "execution_count": 437,
     "metadata": {},
     "output_type": "execute_result"
    }
   ],
   "source": [
    "til = Tiles()\n",
    "til.char2Tile()\n",
    "til.char2Name()\n",
    "t = til.char2N\n",
    "til.char2N"
   ]
  },
  {
   "cell_type": "code",
   "execution_count": 10,
   "metadata": {},
   "outputs": [],
   "source": [
    "# def affichage(img):\n",
    "#     file = open(img, \"rb\")\n",
    "#     image = file.read()\n",
    "#     return widgets.Image(\n",
    "#         value=image,\n",
    "#         format='png',\n",
    "#         width=30,\n",
    "#         height=30,\n",
    "#     )"
   ]
  },
  {
   "cell_type": "code",
   "execution_count": 80,
   "metadata": {},
   "outputs": [
    {
     "data": {
      "text/plain": [
       "'../../share/laby/levels/'"
      ]
     },
     "execution_count": 80,
     "metadata": {},
     "output_type": "execute_result"
    }
   ],
   "source": [
    "path_level = \"../../share/laby/levels/\"\n",
    "path_level"
   ]
  },
  {
   "cell_type": "code",
   "execution_count": 450,
   "metadata": {
    "scrolled": true
   },
   "outputs": [],
   "source": [
    "def charger(nom_niveau):\n",
    "    fichier = open(nom_niveau, 'r+')\n",
    "    tab = []\n",
    "    for line in fichier:\n",
    "        if (len(line)>0 and (line[0] == \"o\" or line[0] ==\".\" or line[0] ==\"x\")):\n",
    "            x = line.split()\n",
    "            tab.append(x)\n",
    "    return tab"
   ]
  },
  {
   "cell_type": "code",
   "execution_count": 451,
   "metadata": {},
   "outputs": [
    {
     "data": {
      "text/plain": [
       "[['o', 'o', 'o', 'o', 'o', 'o'],\n",
       " ['o', 'w', '.', '.', '.', 'x'],\n",
       " ['o', '.', '.', '.', '.', 'o'],\n",
       " ['o', '.', '.', '.', '.', 'o'],\n",
       " ['o', '.', '↑', '.', 'r', 'o'],\n",
       " ['o', 'o', 'o', 'o', 'o', 'o']]"
      ]
     },
     "execution_count": 451,
     "metadata": {},
     "output_type": "execute_result"
    }
   ],
   "source": [
    "charger(path_level + \"0.laby\")"
   ]
  },
  {
   "cell_type": "code",
   "execution_count": 259,
   "metadata": {},
   "outputs": [],
   "source": [
    "#rajout fonction aléa"
   ]
  },
  {
   "cell_type": "code",
   "execution_count": 260,
   "metadata": {},
   "outputs": [],
   "source": [
    "# def affichage_niveau(nom_niveau):\n",
    "#     charger_niveau = charger(nom_niveau)\n",
    "#     items=[]\n",
    "#     taille_ligne =0\n",
    "#     for line in charger_niveau:\n",
    "#         taille_ligne = len(line)\n",
    "#         for caractere in line:\n",
    "#             image = \"\"\n",
    "#             image = \"tiles_png/\" + til.char2N[caractere] + \".png\"\n",
    "#             file = open (image,'rb')\n",
    "#             image_lu = file.read()\n",
    "#             items.append(widgets.Image(value = image_lu, format='png', layout=widgets.Layout(display=\"flex\",\n",
    "#             margin=\"1px\", width=\"100%\"\n",
    "#             )))\n",
    "#     display(widgets.GridBox(items,layout=widgets.Layout(grid_template_columns=\"repeat(\"+str(taille_ligne)+\", 50px)\")))\n",
    "\n",
    "# ANcienne version d'affichage_niveau"
   ]
  },
  {
   "cell_type": "code",
   "execution_count": 396,
   "metadata": {},
   "outputs": [],
   "source": [
    "# def affichage_niveau(nom_niveau):\n",
    "#     charger_niveau = charger(nom_niveau)\n",
    "#     items=[]\n",
    "#     taille_ligne =0\n",
    "#     for line in charger_niveau:\n",
    "#         taille_ligne = len(line)\n",
    "#         for caractere in line:\n",
    "#             pof=getattr(Tiles,til.char2T[caractere]).name\n",
    "#             image = \"\"\n",
    "#             image = \"tiles_png/\" + pof + \".png\"\n",
    "#             file = open (image,'rb')\n",
    "#             image_lu = file.read()\n",
    "#             items.append(widgets.Image(value = image_lu, format='png', layout=widgets.Layout(display=\"flex\",\n",
    "#             margin=\"1px\", width=\"100%\"\n",
    "#             )))\n",
    "#     display(widgets.GridBox(items,layout=widgets.Layout(grid_template_columns=\"repeat(\"+str(taille_ligne)+\", 50px)\")))"
   ]
  },
  {
   "cell_type": "code",
   "execution_count": 448,
   "metadata": {},
   "outputs": [],
   "source": [
    "def affichage_niveau(nom_niveau):\n",
    "    charger_niveau = remplir_plateau(nom_niveau)\n",
    "    items=[]\n",
    "    taille_ligne =0\n",
    "    for line in charger_niveau:\n",
    "        taille_ligne = len(line)\n",
    "        for caractere in line:\n",
    "           # print(til.char2T[caractere])\n",
    "            pof=getattr(Tiles,caractere).name\n",
    "            image = \"\"\n",
    "            image = \"tiles_png/\" + pof + \".png\"\n",
    "#             print(image)\n",
    "            file = open (image,'rb')\n",
    "            image_lu = file.read()\n",
    "            items.append(widgets.Image(value = image_lu, format='png', layout=widgets.Layout(display=\"flex\",\n",
    "            margin=\"1px\", width=\"100%\"\n",
    "            )))\n",
    "    display(widgets.GridBox(items,layout=widgets.Layout(grid_template_columns=\"repeat(\"+str(taille_ligne)+\", 50px)\")))"
   ]
  },
  {
   "cell_type": "code",
   "execution_count": 449,
   "metadata": {},
   "outputs": [
    {
     "data": {
      "application/vnd.jupyter.widget-view+json": {
       "model_id": "72c02b2dca5f4646b94c5a4de4442f00",
       "version_major": 2,
       "version_minor": 0
      },
      "text/plain": [
       "GridBox(children=(Image(value=b'\\x89PNG\\r\\n\\x1a\\n\\x00\\x00\\x00\\rIHDR\\x00\\x00\\x00 \\x00\\x00\\x00 \\x08\\x06\\x00\\x00\\…"
      ]
     },
     "metadata": {},
     "output_type": "display_data"
    }
   ],
   "source": [
    "affichage_niveau(path_level + \"0.laby\")"
   ]
  },
  {
   "cell_type": "code",
   "execution_count": 309,
   "metadata": {},
   "outputs": [],
   "source": [
    "# def remplir_plateau(nom_niveau):\n",
    "#     charger_niveau = charger(nom_niveau)\n",
    "#     plateau=[]\n",
    "#     taille_ligne =0\n",
    "#     for line in charger_niveau:\n",
    "#         taille_ligne = len(line)\n",
    "#         for caractere in line:\n",
    "#             image = \"\"\n",
    "#             image = til.char2T[caractere]\n",
    "#             plateau.append(image)\n",
    "#     return plateau\n",
    "\n",
    "\n",
    "\n",
    "# ANcienne version de remplir_tableau"
   ]
  },
  {
   "cell_type": "code",
   "execution_count": 454,
   "metadata": {},
   "outputs": [],
   "source": [
    "def remplir_plateau(nom_niveau):\n",
    "    fichier = open(nom_niveau, 'r+')\n",
    "    tab = []\n",
    "    for line in fichier:\n",
    "        if (len(line)>0 and (line[0] == \"o\" or line[0] ==\".\" or line[0] ==\"x\")):\n",
    "            x = line.split()\n",
    "            tab_line = []\n",
    "            for i in x:\n",
    "                bloc = til.char2T[i]\n",
    "                tab_line.append(bloc)\n",
    "            tab.append(tab_line)\n",
    "    return tab"
   ]
  },
  {
   "cell_type": "code",
   "execution_count": 401,
   "metadata": {},
   "outputs": [],
   "source": [
    "# def remplir_plateau(nom_niveau):\n",
    "#     charger_niveau = charger(nom_niveau)\n",
    "#     tab = []\n",
    "#     for line in charger_niveau:\n",
    "#         print(line)\n",
    "#         tab_line = []\n",
    "#         for x in line:\n",
    "#             print(x)\n",
    "#             bloc = til.char2[i]\n",
    "#             tab_line.append(bloc)\n",
    "#             tab.append(tab_line)\n",
    "#     return tab"
   ]
  },
  {
   "cell_type": "code",
   "execution_count": 452,
   "metadata": {},
   "outputs": [],
   "source": [
    "# def remplir_plateau(nom_niveau):\n",
    "#     charger_niveau = charger(nom_niveau)\n",
    "#     tab = []\n",
    "#     for line in charger_niveau:\n",
    "#         print(line)\n",
    "#         tab_line = []\n",
    "#         for i in x:\n",
    "#             print(i)\n",
    "#             bloc = til.char2T[i]\n",
    "#             tab_line.append(bloc)\n",
    "#             tab.append(tab_line)\n",
    "#     return tab"
   ]
  },
  {
   "cell_type": "code",
   "execution_count": 455,
   "metadata": {
    "scrolled": true
   },
   "outputs": [
    {
     "data": {
      "text/plain": [
       "[['Wall', 'Wall', 'Wall', 'Wall', 'Wall', 'Wall'],\n",
       " ['Wall', 'Web', 'Void', 'Void', 'Void', 'Exit'],\n",
       " ['Wall', 'Void', 'Void', 'Void', 'Void', 'Wall'],\n",
       " ['Wall', 'Void', 'Void', 'Void', 'Void', 'Wall'],\n",
       " ['Wall', 'Void', 'Ant_N', 'Void', 'Rock', 'Wall'],\n",
       " ['Wall', 'Wall', 'Wall', 'Wall', 'Wall', 'Wall']]"
      ]
     },
     "execution_count": 455,
     "metadata": {},
     "output_type": "execute_result"
    }
   ],
   "source": [
    "remplir_plateau(path_level + \"0.laby\")"
   ]
  },
  {
   "cell_type": "code",
   "execution_count": 398,
   "metadata": {},
   "outputs": [
    {
     "data": {
      "application/vnd.jupyter.widget-view+json": {
       "model_id": "101996a7ed8143dcaffcb8530624b071",
       "version_major": 2,
       "version_minor": 0
      },
      "text/plain": [
       "GridBox(children=(Image(value=b'\\x89PNG\\r\\n\\x1a\\n\\x00\\x00\\x00\\rIHDR\\x00\\x00\\x00 \\x00\\x00\\x00 \\x08\\x06\\x00\\x00\\…"
      ]
     },
     "metadata": {},
     "output_type": "display_data"
    }
   ],
   "source": [
    "affichage_niveau(path_level + \"0.laby\")"
   ]
  },
  {
   "cell_type": "code",
   "execution_count": 164,
   "metadata": {},
   "outputs": [],
   "source": [
    "# def affichage_level(nom):\n",
    "#     items=[]\n",
    "#     x = load(nom)\n",
    "#     for i in x:\n",
    "#         print(i)\n",
    "# #         for j in i:\n",
    "# #             print(j)\n",
    "# #             print(til.char2T[j])\n",
    "    \n",
    "\n",
    "#         for caractere in x:\n",
    "#             print(caractere)\n",
    "#             im=\"\"\n",
    "#             im=\"tiles_png/\" + til.char2T[caractere] + \".png\"\n",
    "#             file = open (im,'rb')\n",
    "#             image=file.read()\n",
    "#             items.append(widgets.Image(value = image, format='png', layout=widgets.Layout(display=\"flex\",\n",
    "#              margin=\"1px\", width =\"100%\"\n",
    "#              )))\n",
    "\n",
    "#         display(widgets.GridBox(items,layout=widgets.Layout(grid_template_columns=\"repeat(\"+str(c)+\", 50px)\")))"
   ]
  },
  {
   "cell_type": "code",
   "execution_count": 183,
   "metadata": {},
   "outputs": [],
   "source": [
    "# def affichage_level(nom):\n",
    "#     f = open(nom, 'r+')\n",
    "#     text=str(f.read())\n",
    "#     # print(text)\n",
    "#     items=[]\n",
    "#     c=0\n",
    "#     lines=text.split('\\n')\n",
    "#     for line in lines:\n",
    "#     #     print(\"test\")\n",
    "#     #     print(line)\n",
    "#         if (len(line)>0 and (line[0] == \"o\" or line[0] ==\".\" or line[0] ==\"x\")):\n",
    "#     #         print(\"        test\")\n",
    "#             x = line.split()\n",
    "#             c=len(x)\n",
    "#             for caractere in x:\n",
    "#     #             print(\"    test\")\n",
    "#                 #print(til.char2T[caractere])\n",
    "#     #             print(\"tiles_png/\" + til.char2T[caractere] + \".png\")\n",
    "#                 im=\"\"\n",
    "#                 if til.char2T[caractere]==\"↑\":\n",
    "#                     im=\"tiles_png/ant-n.png\"\n",
    "#                 else:\n",
    "#                     im=\"tiles_png/\" + til.char2T[caractere] + \".png\"\n",
    "#                 file = open (im,'rb')\n",
    "#                 image=file.read()\n",
    "#                 items.append(widgets.Image(value = image, format='png', layout=widgets.Layout(display=\"flex\",\n",
    "#     #             flex_flow=\"row\", border=\"none\",padding=\"-2px\", grid_gap=\"0%\",\n",
    "#                 margin=\"1px\", width =\"100%\"\n",
    "#                 )))\n",
    "\n",
    "#     display(widgets.GridBox(items,layout=widgets.Layout(grid_template_columns=\"repeat(\"+str(c)+\", 50px)\")))"
   ]
  },
  {
   "cell_type": "code",
   "execution_count": 159,
   "metadata": {},
   "outputs": [
    {
     "data": {
      "application/vnd.jupyter.widget-view+json": {
       "model_id": "bb3a5f3753a940beaf177c49827569b9",
       "version_major": 2,
       "version_minor": 0
      },
      "text/plain": [
       "GridBox(children=(Image(value=b'\\x89PNG\\r\\n\\x1a\\n\\x00\\x00\\x00\\rIHDR\\x00\\x00\\x00 \\x00\\x00\\x00 \\x08\\x06\\x00\\x00\\…"
      ]
     },
     "metadata": {},
     "output_type": "display_data"
    }
   ],
   "source": [
    "# affichage_level(path_level + \"0.laby\")"
   ]
  },
  {
   "cell_type": "code",
   "execution_count": 18,
   "metadata": {
    "scrolled": true
   },
   "outputs": [],
   "source": [
    "# f = open(\"1a.laby\")\n",
    "# for line in f:\n",
    "#     if (line[0] == \"o\"):\n",
    "#         x = line.split()\n",
    "#         for caractere in x:\n",
    "#             x = Image(filename=\"tiles_png/\" + til.char2T[caractere] + \".png\")\n",
    "#             display(x)"
   ]
  },
  {
   "cell_type": "code",
   "execution_count": null,
   "metadata": {},
   "outputs": [],
   "source": []
  },
  {
   "cell_type": "code",
   "execution_count": 19,
   "metadata": {},
   "outputs": [
    {
     "data": {
      "image/png": "[encoded data removed]",
      "text/plain": [
       "<IPython.core.display.Image object>"
      ]
     },
     "metadata": {},
     "output_type": "display_data"
    },
    {
     "data": {
      "image/png": "[encoded data removed]",
      "text/plain": [
       "<IPython.core.display.Image object>"
      ]
     },
     "metadata": {},
     "output_type": "display_data"
    },
    {
     "data": {
      "image/png": "[encoded data removed]",
      "text/plain": [
       "<IPython.core.display.Image object>"
      ]
     },
     "metadata": {},
     "output_type": "display_data"
    },
    {
     "data": {
      "image/png": "[encoded data removed]",
      "text/plain": [
       "<IPython.core.display.Image object>"
      ]
     },
     "metadata": {},
     "output_type": "display_data"
    },
    {
     "data": {
      "image/png": "[encoded data removed]",
      "text/plain": [
       "<IPython.core.display.Image object>"
      ]
     },
     "metadata": {},
     "output_type": "display_data"
    },
    {
     "data": {
      "image/png": "[encoded data removed]",
      "text/plain": [
       "<IPython.core.display.Image object>"
      ]
     },
     "metadata": {},
     "output_type": "display_data"
    },
    {
     "data": {
      "image/png": "[encoded data removed]",
      "text/plain": [
       "<IPython.core.display.Image object>"
      ]
     },
     "metadata": {},
     "output_type": "display_data"
    },
    {
     "data": {
      "image/png": "[encoded data removed]",
      "text/plain": [
       "<IPython.core.display.Image object>"
      ]
     },
     "metadata": {},
     "output_type": "display_data"
    },
    {
     "data": {
      "image/png": "[encoded data removed]",
      "text/plain": [
       "<IPython.core.display.Image object>"
      ]
     },
     "metadata": {},
     "output_type": "display_data"
    },
    {
     "data": {
      "image/png": "[encoded data removed]",
      "text/plain": [
       "<IPython.core.display.Image object>"
      ]
     },
     "metadata": {},
     "output_type": "display_data"
    },
    {
     "data": {
      "image/png": "[encoded data removed]",
      "text/plain": [
       "<IPython.core.display.Image object>"
      ]
     },
     "metadata": {},
     "output_type": "display_data"
    }
   ],
   "source": [
    "from IPython.display import Image\n",
    "from IPython.display import display\n",
    "touteslesimages = []\n",
    "for image in entries:\n",
    "        imagesans = image.split(\".\")\n",
    "        nom_image = imagesans[0]\n",
    "#         print(\"image_nom: \" + nom_image)\n",
    "        touteslesimages.append(nom_image)\n",
    "#         print(touteslesimages)\n",
    "#         x = Image(filename=\"tiles_png/\" + imagesans[0] + \".png\") \n",
    "#         y = Image(filename=\"tiles_png/\" + imagesans[0] + \".png\") \n",
    "#         display(x, y)\n",
    "# print(touteslesimages)\n",
    "\n",
    "\n",
    "for elm in touteslesimages:\n",
    "#     print(elm)\n",
    "    x = Image(filename=\"tiles_png/\" + elm + \".png\")\n",
    "    display(x)"
   ]
  },
  {
   "cell_type": "code",
   "execution_count": 20,
   "metadata": {},
   "outputs": [],
   "source": [
    "# for caractere in t.name:\n",
    "#     print(caractere)"
   ]
  },
  {
   "cell_type": "code",
   "execution_count": 21,
   "metadata": {},
   "outputs": [
    {
     "name": "stdout",
     "output_type": "stream",
     "text": [
      "ant-e\n",
      "ant-n\n",
      "ant-s\n",
      "ant-w\n",
      "exit\n",
      "nrock\n",
      "nweb\n",
      "rock\n",
      "void\n",
      "wall\n",
      "web\n",
      "void\n",
      "void\n",
      "void\n"
     ]
    }
   ],
   "source": [
    "for t in Tiles.__dict__.values():\n",
    "    if isinstance(t, Tile):\n",
    "        print(t.name)\n",
    "        til.char2T[t.char] = t.name"
   ]
  },
  {
   "cell_type": "code",
   "execution_count": 245,
   "metadata": {},
   "outputs": [
    {
     "data": {
      "text/plain": [
       "[]"
      ]
     },
     "execution_count": 245,
     "metadata": {},
     "output_type": "execute_result"
    }
   ],
   "source": [
    "remplir_plateau(path_level + \"4a.laby\")"
   ]
  },
  {
   "cell_type": "code",
   "execution_count": 219,
   "metadata": {},
   "outputs": [],
   "source": [
    "class Board : public std::vector<std::vector<Tile>> {\n",
    "    public:\n",
    "    Tile get(Position position) {\n",
    "        if (position.i < 0 or\n",
    "            position.j < 0 or\n",
    "            position.i >= size() or\n",
    "            position.j >= at(0).size()) {\n",
    "            return Tile::Outside;\n",
    "        }\n",
    "        return at(position.i)[position.j];\n",
    "    }\n",
    "    void set(Position position, Tile tile) {\n",
    "        if (position.i < 0 or\n",
    "            position.j < 0 or\n",
    "            position.i >= size() or\n",
    "            position.j >= at(0).size()) {\n",
    "            // TODO: use a more precise exception\n",
    "            throw std::runtime_error(\"position out of the board\");\n",
    "        }\n",
    "        at(position.i)[position.j] = tile;\n",
    "    }\n",
    "};"
   ]
  },
  {
   "cell_type": "code",
   "execution_count": 254,
   "metadata": {},
   "outputs": [
    {
     "ename": "SyntaxError",
     "evalue": "unexpected EOF while parsing (<ipython-input-254-755b16528cbc>, line 4)",
     "output_type": "error",
     "traceback": [
      "\u001b[0;36m  File \u001b[0;32m\"<ipython-input-254-755b16528cbc>\"\u001b[0;36m, line \u001b[0;32m4\u001b[0m\n\u001b[0;31m    \u001b[0m\n\u001b[0m    ^\u001b[0m\n\u001b[0;31mSyntaxError\u001b[0m\u001b[0;31m:\u001b[0m unexpected EOF while parsing\n"
     ]
    }
   ],
   "source": [
    "class Board():\n",
    "    \n",
    "    \n",
    "    "
   ]
  },
  {
   "cell_type": "code",
   "execution_count": null,
   "metadata": {},
   "outputs": [],
   "source": []
  },
  {
   "cell_type": "code",
   "execution_count": null,
   "metadata": {},
   "outputs": [],
   "source": []
  }
 ],
 "metadata": {
  "kernelspec": {
   "display_name": "Python 3",
   "language": "python",
   "name": "python3"
  },
  "language_info": {
   "codemirror_mode": {
    "name": "ipython",
    "version": 3
   },
   "file_extension": ".py",
   "mimetype": "text/x-python",
   "name": "python",
   "nbconvert_exporter": "python",
   "pygments_lexer": "ipython3",
   "version": "3.7.3"
  }
 },
 "nbformat": 4,
 "nbformat_minor": 2
}
