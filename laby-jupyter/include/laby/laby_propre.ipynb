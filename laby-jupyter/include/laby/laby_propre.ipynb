{
 "cells": [
  {
   "cell_type": "code",
   "execution_count": 149,
   "metadata": {},
   "outputs": [],
   "source": [
    "from enum import Enum\n",
    "from collections import namedtuple\n",
    "import re"
   ]
  },
  {
   "cell_type": "code",
   "execution_count": 150,
   "metadata": {},
   "outputs": [],
   "source": [
    "position = namedtuple (\"position\",[\"i\",\"j\"])"
   ]
  },
  {
   "cell_type": "code",
   "execution_count": 151,
   "metadata": {},
   "outputs": [],
   "source": [
    "class  board: \n",
    "    def __init__(self,niveau):\n",
    "        self.plateau=niveau\n",
    "    \n",
    "    def get(self,position):\n",
    "        if (position.i<0 or position.j<0 or position.i >= len(self.plateau)or position.j>=len(self.plateau[0])):\n",
    "            return Tiles.Outside\n",
    "        else:\n",
    "            return self.plateau[position.i][position.j] \n",
    "    \n",
    "    def set(self,position,tuile):\n",
    "        if (position.i<0 or position.j<0 or position.i >= len(self.plateau)or position.j>=len(self.plateau[0])):\n",
    "             print('erreur !!')   \n",
    "        self.plateau[position.i][position.j]=tuile   "
   ]
  },
  {
   "cell_type": "code",
   "execution_count": 152,
   "metadata": {},
   "outputs": [],
   "source": [
    "direction = { \"0\":[-1,0], # North  \n",
    "               \"1\":[0,1], #East\n",
    "               \"2\":[1,0],  #South\n",
    "               \"3\":[0,-1]}  #Weast"
   ]
  },
  {
   "cell_type": "code",
   "execution_count": 153,
   "metadata": {},
   "outputs": [],
   "source": [
    "def load2(nom_niveau):\n",
    "    fichier = open(nom_niveau, 'r+')\n",
    "    tab = []\n",
    "    i=0\n",
    "    j=0\n",
    "    stockI=-1\n",
    "    stockJ=-1\n",
    "    dire=0;\n",
    "    for line in fichier:\n",
    "        \n",
    "        j=0\n",
    "        bleau=[]\n",
    "        if (len(line)>0 and (line[0] == \"o\" or line[0] ==\".\" or line[0] ==\"x\")):\n",
    "            x = line.split()\n",
    "            for nimportequoi in x: \n",
    "                if (nimportequoi==\"←\"):\n",
    "                    stockI=i\n",
    "                    stockJ=j\n",
    "                    dire=\"3\"\n",
    "                if (nimportequoi==\"↓\"):\n",
    "                    stockI=i\n",
    "                    stockJ=j\n",
    "                    dire=\"2\"\n",
    "                if (nimportequoi==\"↑\"): \n",
    "                    stockI=i\n",
    "                    stockJ=j\n",
    "                    dire=\"0\"\n",
    "                if (nimportequoi ==\"→\"):\n",
    "                    stockI=i\n",
    "                    stockJ=j\n",
    "                    dire=\"1\"\n",
    "                bleau.append(Tiles.char2Tile[nimportequoi])\n",
    "                j+=1\n",
    "            tab.append(bleau)\n",
    "            i+=1\n",
    "    return [tab,stockI,stockJ,dire]\n"
   ]
  },
  {
   "cell_type": "code",
   "execution_count": 4,
   "metadata": {},
   "outputs": [],
   "source": [
    "class Labyrinth:\n",
    "    def __init__(self,s):\n",
    "        self.tile=Tiles\n",
    "        self._won =False\n",
    "        self.carry=Tiles.Void\n",
    "        \n",
    "        temp=load2(s)\n",
    "        self.direction=temp[3]\n",
    "        self.board=board(temp[0])\n",
    "        self.position=position(temp[1],temp[2])\n",
    "        self.message=\"\"\n",
    "        \n",
    "    \n",
    "    \n",
    "    def dirToAnt(self):\n",
    "        if self.direction ==\"0\":\n",
    "            return Tiles.Ant_N\n",
    "        elif self.direction ==\"1\":\n",
    "            return Tiles.Ant_E\n",
    "        elif self.direction ==\"2\":\n",
    "            return Tiles.Ant_S\n",
    "        elif self.direction ==\"3\":\n",
    "            return Tiles.Ant_W     \n",
    "        \n",
    "    def size(self):\n",
    "        return (len(self.board.plateau),len(self.board.plateau[0]))\n",
    "    \n",
    "    def devant(self):\n",
    "        po= position(self.position.i+int(direction[self.direction][0]),self.position.j+int(direction[self.direction][1]));\n",
    "        return po\n",
    "    \n",
    "    def gauche(self):\n",
    "        self.direction= str((int(self.direction)-1)%4)\n",
    "        self.message=\"\"\n",
    "        return True;\n",
    "    \n",
    "    def droite(self):\n",
    "        self.direction= str((int(self.direction)+1)%4)\n",
    "        self.message=\"\"\n",
    "        return True;\n",
    "    \n",
    "    def win(self):\n",
    "        self._won=True\n",
    "        message=\"J'ai gagné !\"\n",
    "    \n",
    "    def won(self):\n",
    "        return self._won\n",
    "    \n",
    "    def pose(self):\n",
    "        if (self.carry==Tiles.Rock and (self.regarde()==Tiles.Void or self.regarde()==Tiles.Web or self.regarde()==Tiles.SmallWeb or self.regarde()==Tiles.SmallRock  )):\n",
    "            self.carry=Tiles.Void\n",
    "            self.board.set(self.devant(),Tiles.Rock)\n",
    "            message=\"\"\n",
    "            return True\n",
    "        message=\"Je ne peux pas poser.\"\n",
    "        return False\n",
    "    \n",
    "    def regarde(self):\n",
    "        message=\"\"\n",
    "        return self.board.get(self.devant())\n",
    "    \n",
    "    def get(self,pos):\n",
    "        if (pos.i==self.position.i and pos.j==self.position.j):\n",
    "            return self.dirToAnt()\n",
    "        else:\n",
    "            return self.board.get(pos)\n",
    "    \n",
    "    def ouvre(self):\n",
    "        if self.regarde()!=Tiles.Exit :\n",
    "            message = \"Je ne peux pas ouvrir.\"\n",
    "            return False\n",
    "        if carry != Tiles.Void:\n",
    "            message = \"Je ne peux pas ouvrir en portant un objet.\"\n",
    "            return False\n",
    "        self.position=self.devant()\n",
    "        self.win()\n",
    "        return True\n",
    "    \n",
    "    def prend(self):\n",
    "        if (self.carry==Tiles.Void and self.regarde()==Tiles.Rock):\n",
    "            self.carry=Tiles.Rock\n",
    "            self.board.set(self.devant(),Tiles.Void)\n",
    "            message=\"\"\n",
    "            return True\n",
    "        message = \"Je ne peux pas prendre.\"\n",
    "        return False\n",
    "    def avance(self):\n",
    "        tile=self.board.get(self.position)\n",
    "        tile_devant=self.board.get(self.devant())\n",
    "        if(tile==Tiles.Web or tile==Tiles.Exit or tile_devant==Tiles.Outside or tile_devant==Tiles.Exit or tile_devant==Tiles.Rock or tile_devant==Tiles.Wall):\n",
    "            self.message=\"je ne peux pas avancer.\"\n",
    "            return False\n",
    "        self.message=\"\"\n",
    "        self.position=devant()\n",
    "        return True\n",
    "            \n",
    "        \n",
    "    def sow(self):\n",
    "        tile = self.board.get(self.position)\n",
    "        if ( tile == Tiles.Web or\n",
    "             tile == Tiles.Exit ):\n",
    "            message = \"Je ne peux pas semer.\"\n",
    "            return false\n",
    "        \n",
    "        self.board.set(position, Tiles.SmallRock)\n",
    "        return true\n",
    "  \n",
    "\n",
    "    #def randomize(self):\n",
    "     #   n_random_rocks=0\n",
    "     #   n_random_webs=0\n",
    "      #  for \n",
    "       #     for\n",
    "        #        if(c==RandomRock):\n",
    "         #           n_random_rocks++\n",
    "          #      if(c==RandomWeb)\n",
    "           #         n_random_webs++\n",
    "       # r_rock            ##"
   ]
  },
  {
   "cell_type": "code",
   "execution_count": 155,
   "metadata": {},
   "outputs": [],
   "source": [
    "Tile= namedtuple(\"Tile\",[\"name\",\"char\"])"
   ]
  },
  {
   "cell_type": "code",
   "execution_count": 156,
   "metadata": {},
   "outputs": [],
   "source": [
    "class Tiles():\n",
    "        Ant_E=Tile(name=\"ant-e\",char=\"→\")\n",
    "        Ant_N=Tile(name=\"ant-n\",char=\"↑\")\n",
    "        Ant_S=Tile(name=\"ant-s\",char=\"↓\")\n",
    "        Ant_W=Tile(name=\"ant-w\",char=\"←\")\n",
    "        Exit=Tile(name=\"exit\",char=\"x\")\n",
    "        SmallRock=Tile(name=\"nrock\",char=\"ŕ\")\n",
    "        SmallWeb=Tile(name=\"nweb\",char=\"ẃ\")\n",
    "        Rock=Tile(name=\"rock\",char=\"r\")\n",
    "        Void=Tile(name=\"void\",char=\".\")\n",
    "        Wall=Tile(name=\"wall\",char=\"o\")\n",
    "        Web=Tile(name=\"web\",char=\"w\")\n",
    "        Outside=Tile(name=\"void\",char=\" \")\n",
    "        RandomRock=Tile(name=\"void\",char=\"R\")\n",
    "        RandomWeb=Tile(name=\"void\",char=\"W\")\n",
    "        \n",
    "       \n",
    "        \n",
    "        \n",
    "Tiles.char2N=dict()\n",
    "Tiles.char2Tile=dict()\n",
    "for t in Tiles.__dict__.values():\n",
    "    if isinstance(t, Tile):\n",
    "        Tiles.char2N[t.char]=t.name\n",
    "        Tiles.char2Tile[t.char]=t\n",
    "                    \n",
    "\n",
    "Tiles.char2T=dict()\n",
    "p=re.compile('[A-Z]+(\\w)*')\n",
    "for t in Tiles.__dict__.keys() :\n",
    "    z=p.match(t)\n",
    "    if (z!=None):\n",
    "        d=z.group()\n",
    "        Tiles.char2T[getattr(Tiles,t).char]=d"
   ]
  },
  {
   "cell_type": "code",
   "execution_count": 157,
   "metadata": {},
   "outputs": [],
   "source": [
    "l=Labyrinth(\"1a.laby\" )"
   ]
  },
  {
   "cell_type": "code",
   "execution_count": 158,
   "metadata": {},
   "outputs": [
    {
     "data": {
      "text/plain": [
       "position(i=3, j=2)"
      ]
     },
     "execution_count": 158,
     "metadata": {},
     "output_type": "execute_result"
    }
   ],
   "source": [
    "l.position"
   ]
  },
  {
   "cell_type": "code",
   "execution_count": 159,
   "metadata": {},
   "outputs": [
    {
     "data": {
      "text/plain": [
       "Tile(name='ant-n', char='↑')"
      ]
     },
     "execution_count": 159,
     "metadata": {},
     "output_type": "execute_result"
    }
   ],
   "source": [
    "l.get(l.position)"
   ]
  },
  {
   "cell_type": "code",
   "execution_count": 160,
   "metadata": {},
   "outputs": [
    {
     "data": {
      "text/plain": [
       "Tile(name='ant-n', char='↑')"
      ]
     },
     "execution_count": 160,
     "metadata": {},
     "output_type": "execute_result"
    }
   ],
   "source": [
    "l.board.get(position(3,2))"
   ]
  },
  {
   "cell_type": "code",
   "execution_count": 161,
   "metadata": {},
   "outputs": [
    {
     "data": {
      "text/plain": [
       "Tile(name='ant-n', char='↑')"
      ]
     },
     "execution_count": 161,
     "metadata": {},
     "output_type": "execute_result"
    }
   ],
   "source": [
    "l.get(position(3,2))"
   ]
  },
  {
   "cell_type": "code",
   "execution_count": 162,
   "metadata": {},
   "outputs": [
    {
     "data": {
      "text/plain": [
       "Tile(name='void', char='.')"
      ]
     },
     "execution_count": 162,
     "metadata": {},
     "output_type": "execute_result"
    }
   ],
   "source": [
    "l.board.get(position(2,3))"
   ]
  },
  {
   "cell_type": "code",
   "execution_count": null,
   "metadata": {},
   "outputs": [],
   "source": []
  },
  {
   "cell_type": "code",
   "execution_count": 163,
   "metadata": {},
   "outputs": [],
   "source": [
    "def affichage_niveau_recursif(nom_niveau):\n",
    "    carte = l.board.plateau\n",
    "    items=[]\n",
    "    taille_ligne =0\n",
    "    \n",
    "#     x = alea(path_level + nom_niveau)\n",
    "    \n",
    "    for j in range (0,len(carte)):\n",
    "        for i in (0,len(carte[0])):\n",
    "               l.board.get(position(i,j))\n",
    "            "
   ]
  },
  {
   "cell_type": "code",
   "execution_count": 164,
   "metadata": {},
   "outputs": [],
   "source": [
    "affichage_niveau_recursif(l)"
   ]
  },
  {
   "cell_type": "code",
   "execution_count": 165,
   "metadata": {},
   "outputs": [
    {
     "data": {
      "text/plain": [
       "Tile(name='wall', char='o')"
      ]
     },
     "execution_count": 165,
     "metadata": {},
     "output_type": "execute_result"
    }
   ],
   "source": [
    "Tiles.char2Tile['o']"
   ]
  },
  {
   "cell_type": "code",
   "execution_count": 166,
   "metadata": {},
   "outputs": [
    {
     "data": {
      "text/plain": [
       "[[Tile(name='wall', char='o'),\n",
       "  Tile(name='wall', char='o'),\n",
       "  Tile(name='wall', char='o'),\n",
       "  Tile(name='wall', char='o'),\n",
       "  Tile(name='wall', char='o'),\n",
       "  Tile(name='exit', char='x'),\n",
       "  Tile(name='wall', char='o')],\n",
       " [Tile(name='wall', char='o'),\n",
       "  Tile(name='void', char='.'),\n",
       "  Tile(name='void', char='.'),\n",
       "  Tile(name='void', char='.'),\n",
       "  Tile(name='void', char='.'),\n",
       "  Tile(name='void', char='.'),\n",
       "  Tile(name='wall', char='o')],\n",
       " [Tile(name='wall', char='o'),\n",
       "  Tile(name='void', char='.'),\n",
       "  Tile(name='void', char='.'),\n",
       "  Tile(name='void', char='.'),\n",
       "  Tile(name='void', char='.'),\n",
       "  Tile(name='void', char='.'),\n",
       "  Tile(name='wall', char='o')],\n",
       " [Tile(name='wall', char='o'),\n",
       "  Tile(name='void', char='.'),\n",
       "  Tile(name='ant-n', char='↑'),\n",
       "  Tile(name='void', char='.'),\n",
       "  Tile(name='void', char='.'),\n",
       "  Tile(name='void', char='.'),\n",
       "  Tile(name='wall', char='o')],\n",
       " [Tile(name='wall', char='o'),\n",
       "  Tile(name='wall', char='o'),\n",
       "  Tile(name='wall', char='o'),\n",
       "  Tile(name='wall', char='o'),\n",
       "  Tile(name='wall', char='o'),\n",
       "  Tile(name='wall', char='o'),\n",
       "  Tile(name='wall', char='o')]]"
      ]
     },
     "execution_count": 166,
     "metadata": {},
     "output_type": "execute_result"
    }
   ],
   "source": [
    "l.board.plateau"
   ]
  },
  {
   "cell_type": "code",
   "execution_count": 167,
   "metadata": {},
   "outputs": [
    {
     "data": {
      "text/plain": [
       "Tile(name='void', char='.')"
      ]
     },
     "execution_count": 167,
     "metadata": {},
     "output_type": "execute_result"
    }
   ],
   "source": [
    "l.regarde()\n"
   ]
  },
  {
   "cell_type": "code",
   "execution_count": null,
   "metadata": {},
   "outputs": [],
   "source": []
  },
  {
   "cell_type": "code",
   "execution_count": null,
   "metadata": {},
   "outputs": [],
   "source": []
  },
  {
   "cell_type": "code",
   "execution_count": null,
   "metadata": {},
   "outputs": [],
   "source": []
  },
  {
   "cell_type": "code",
   "execution_count": null,
   "metadata": {},
   "outputs": [],
   "source": []
  },
  {
   "cell_type": "code",
   "execution_count": null,
   "metadata": {},
   "outputs": [],
   "source": []
  }
 ],
 "metadata": {
  "kernelspec": {
   "display_name": "Python 3",
   "language": "python",
   "name": "python3"
  },
  "language_info": {
   "codemirror_mode": {
    "name": "ipython",
    "version": 3
   },
   "file_extension": ".py",
   "mimetype": "text/x-python",
   "name": "python",
   "nbconvert_exporter": "python",
   "pygments_lexer": "ipython3",
   "version": "3.6.7"
  }
 },
 "nbformat": 4,
 "nbformat_minor": 2
}
