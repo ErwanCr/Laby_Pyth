{
 "cells": [
  {
   "cell_type": "code",
   "execution_count": 6,
   "metadata": {},
   "outputs": [],
   "source": [
    "from enum import Enum\n",
    "from collections import namedtuple\n",
    "import re"
   ]
  },
  {
   "cell_type": "code",
   "execution_count": 7,
   "metadata": {},
   "outputs": [],
   "source": [
    "position = namedtuple (\"position\",[\"i\",\"j\"])"
   ]
  },
  {
   "cell_type": "code",
   "execution_count": 8,
   "metadata": {},
   "outputs": [],
   "source": [
    "class  board: \n",
    "    def __init__(self,niveau):\n",
    "        self.plateau=niveau\n",
    "    \n",
    "    def get(self,position):\n",
    "        if (position.i<0 or position.j<0 or position.i >= len(self.plateau)or position.j>=len(self.plateau[0])):\n",
    "            return Tiles.Outside\n",
    "        else:\n",
    "            return self.plateau[position.i][position.j] \n",
    "    \n",
    "    def set(self,position,tuile):\n",
    "        if (position.i<0 or position.j<0 or position.i >= len(self.plateau)or position.j>=len(self.plateau[0])):\n",
    "             print('erreur !!')   \n",
    "        self.plateau[position.i][position.j]=tuile   "
   ]
  },
  {
   "cell_type": "code",
   "execution_count": 9,
   "metadata": {},
   "outputs": [],
   "source": [
    "direction = { \"0\":[-1,0], # North  \n",
    "               \"1\":[0,1], #East\n",
    "               \"2\":[1,0],  #South\n",
    "               \"3\":[0,-1]}  #Weast"
   ]
  },
  {
   "cell_type": "code",
   "execution_count": 10,
   "metadata": {},
   "outputs": [],
   "source": [
    "def load2(nom_niveau):\n",
    "    fichier = open(nom_niveau, 'r+')\n",
    "    tab = []\n",
    "    i=0\n",
    "    j=0\n",
    "    stockI=-1\n",
    "    stockJ=-1\n",
    "    dire=0;\n",
    "    for line in fichier:\n",
    "        \n",
    "        j=0\n",
    "        bleau=[]\n",
    "        if (len(line)>0 and (line[0] == \"o\" or line[0] ==\".\" or line[0] ==\"x\")):\n",
    "            x = line.split()\n",
    "            for nimportequoi in x: \n",
    "                if (nimportequoi==\"←\"):\n",
    "                    stockI=i\n",
    "                    stockJ=j\n",
    "                    dire=\"3\"\n",
    "                if (nimportequoi==\"↓\"):\n",
    "                    stockI=i\n",
    "                    stockJ=j\n",
    "                    dire=\"2\"\n",
    "                if (nimportequoi==\"↑\"): \n",
    "                    stockI=i\n",
    "                    stockJ=j\n",
    "                    dire=\"0\"\n",
    "                if (nimportequoi ==\"→\"):\n",
    "                    stockI=i\n",
    "                    stockJ=j\n",
    "                    dire=\"1\"\n",
    "                bleau.append(Tiles.char2Tile[nimportequoi])\n",
    "                j+=1\n",
    "            tab.append(bleau)\n",
    "            i+=1\n",
    "    return [tab,stockI,stockJ,dire]\n"
   ]
  },
  {
   "cell_type": "code",
   "execution_count": 11,
   "metadata": {},
   "outputs": [],
   "source": [
    "class Labyrinth:\n",
    "    def __init__(self,s):\n",
    "        self.tile=Tiles\n",
    "        self._won =False\n",
    "        self.carry=Tiles.Void\n",
    "        \n",
    "        temp=load2(s)\n",
    "        self.direction=temp[3]\n",
    "        self.board=board(temp[0])\n",
    "        self.randomize()\n",
    "        self.position=position(temp[1],temp[2])\n",
    "        self.message=\"\"\n",
    "        \n",
    "    \n",
    "    \n",
    "    def dirToAnt(self):\n",
    "        if self.direction ==\"0\":\n",
    "            return Tiles.Ant_N\n",
    "        elif self.direction ==\"1\":\n",
    "            return Tiles.Ant_E\n",
    "        elif self.direction ==\"2\":\n",
    "            return Tiles.Ant_S\n",
    "        elif self.direction ==\"3\":\n",
    "            return Tiles.Ant_W     \n",
    "        \n",
    "    def size(self):\n",
    "        return (len(self.board.plateau),len(self.board.plateau[0]))\n",
    "    \n",
    "    def devant(self):\n",
    "        po= position(self.position.i+int(direction[self.direction][0]),self.position.j+int(direction[self.direction][1]));\n",
    "        return po\n",
    "    \n",
    "    def gauche(self):\n",
    "        self.direction= str((int(self.direction)-1)%4)\n",
    "        self.message=\"\"\n",
    "        return True;\n",
    "    \n",
    "    def droite(self):\n",
    "        self.direction= str((int(self.direction)+1)%4)\n",
    "        self.message=\"\"\n",
    "        return True;\n",
    "    \n",
    "    def win(self):\n",
    "        self._won=True\n",
    "        message=\"J'ai gagné !\"\n",
    "    \n",
    "    def won(self):\n",
    "        return self._won\n",
    "    \n",
    "    def pose(self):\n",
    "        if (self.carry==Tiles.Rock and (self.regarde()==Tiles.Void or self.regarde()==Tiles.Web or self.regarde()==Tiles.SmallWeb or self.regarde()==Tiles.SmallRock  )):\n",
    "            self.carry=Tiles.Void\n",
    "            self.board.set(self.devant(),Tiles.Rock)\n",
    "            message=\"\"\n",
    "            return True\n",
    "        message=\"Je ne peux pas poser.\"\n",
    "        return False\n",
    "    \n",
    "    def regarde(self):\n",
    "        message=\"\"\n",
    "        return self.board.get(self.devant())\n",
    "    \n",
    "    def get(self,pos):\n",
    "        if (pos.i==self.position.i and pos.j==self.position.j):\n",
    "            return self.dirToAnt()\n",
    "        else:\n",
    "            return self.board.get(pos)\n",
    "    \n",
    "    def ouvre(self):\n",
    "        if self.regarde()!=Tiles.Exit :\n",
    "            message = \"Je ne peux pas ouvrir.\"\n",
    "            return False\n",
    "        if carry != Tiles.Void:\n",
    "            message = \"Je ne peux pas ouvrir en portant un objet.\"\n",
    "            return False\n",
    "        self.position=self.devant()\n",
    "        self.win()\n",
    "        return True\n",
    "    \n",
    "    def prend(self):\n",
    "        if (self.carry==Tiles.Void and self.regarde()==Tiles.Rock):\n",
    "            self.carry=Tiles.Rock\n",
    "            self.board.set(self.devant(),Tiles.Void)\n",
    "            message=\"\"\n",
    "            return True\n",
    "        message = \"Je ne peux pas prendre.\"\n",
    "        return False\n",
    "    def avance(self):\n",
    "        tile=self.board.get(self.position)\n",
    "        tile_devant=self.board.get(self.devant())\n",
    "        if(tile==Tiles.Web or tile==Tiles.Exit or tile_devant==Tiles.Outside or tile_devant==Tiles.Exit or tile_devant==Tiles.Rock or tile_devant==Tiles.Wall):\n",
    "            self.message=\"je ne peux pas avancer.\"\n",
    "            return False\n",
    "        self.message=\"\"\n",
    "        self.position=devant()\n",
    "        return True\n",
    "            \n",
    "        \n",
    "    def sow(self):\n",
    "        tile = self.board.get(self.position)\n",
    "        if ( tile == Tiles.Web or\n",
    "             tile == Tiles.Exit ):\n",
    "            message = \"Je ne peux pas semer.\"\n",
    "            return false\n",
    "        \n",
    "        self.board.set(position, Tiles.SmallRock)\n",
    "        return true\n",
    "  \n",
    "\n",
    "    def randomize(self):\n",
    "        n_random_rocks=0\n",
    "        n_random_webs=0\n",
    "        for row in self.board.plateau:\n",
    "            for c in row:\n",
    "                if(c==Tiles.RandomRock):\n",
    "                    n_random_rocks =n_random_rocks +1\n",
    "                if(c==Tiles.RandomWeb):\n",
    "                    n_random_webs =n_random_webs +1\n",
    "        r_rock = Math.random() % n_random_rocks if n_random_rocks else 0\n",
    "        r_web = Math.random() % n_random_webs if n_random_webs else 0\n",
    "        n_random_rocks=0\n",
    "        n_random_webs=0\n",
    "        nRow=0\n",
    "        nC=0\n",
    "        for row in self.board.plateau:\n",
    "            for c in row:\n",
    "                if (c == Tiles.RandomRock):\n",
    "                    if (n_random_rocks == r_rock):\n",
    "                         self.board.plateau[nRow][nC]= Tiles.SmallRock\n",
    "                    else:\n",
    "                        self.board.plateau[nRow][nC] = Tiles.Rock\n",
    "                    n_random_rocks =n_random_rocks +1\n",
    "                \n",
    "                if (c == RandomWeb):\n",
    "                    if (n_random_webs == r_web):\n",
    "                        self.board.plateau[nRow][nC] = Tiles.SmallWeb\n",
    "                    else:\n",
    "                        self.board.plateau[nRow][nC] = Tiles.Web\n",
    "                    n_random_webs =n_random_webs +1\n",
    "                nC=nC+1\n",
    "            nRow=nRow+1       "
   ]
  },
  {
   "cell_type": "code",
   "execution_count": 12,
   "metadata": {},
   "outputs": [],
   "source": [
    "Tile= namedtuple(\"Tile\",[\"name\",\"char\"])"
   ]
  },
  {
   "cell_type": "code",
   "execution_count": 13,
   "metadata": {},
   "outputs": [],
   "source": [
    "class Tiles():\n",
    "        Ant_E=Tile(name=\"ant-e\",char=\"→\")\n",
    "        Ant_N=Tile(name=\"ant-n\",char=\"↑\")\n",
    "        Ant_S=Tile(name=\"ant-s\",char=\"↓\")\n",
    "        Ant_W=Tile(name=\"ant-w\",char=\"←\")\n",
    "        Exit=Tile(name=\"exit\",char=\"x\")\n",
    "        SmallRock=Tile(name=\"nrock\",char=\"ŕ\")\n",
    "        SmallWeb=Tile(name=\"nweb\",char=\"ẃ\")\n",
    "        Rock=Tile(name=\"rock\",char=\"r\")\n",
    "        Void=Tile(name=\"void\",char=\".\")\n",
    "        Wall=Tile(name=\"wall\",char=\"o\")\n",
    "        Web=Tile(name=\"web\",char=\"w\")\n",
    "        Outside=Tile(name=\"void\",char=\" \")\n",
    "        RandomRock=Tile(name=\"void\",char=\"R\")\n",
    "        RandomWeb=Tile(name=\"void\",char=\"W\")\n",
    "        \n",
    "       \n",
    "        \n",
    "        \n",
    "Tiles.char2N=dict()\n",
    "Tiles.char2Tile=dict()\n",
    "for t in Tiles.__dict__.values():\n",
    "    if isinstance(t, Tile):\n",
    "        Tiles.char2N[t.char]=t.name\n",
    "        Tiles.char2Tile[t.char]=t\n",
    "                    \n",
    "\n",
    "Tiles.char2T=dict()\n",
    "p=re.compile('[A-Z]+(\\w)*')\n",
    "for t in Tiles.__dict__.keys() :\n",
    "    z=p.match(t)\n",
    "    if (z!=None):\n",
    "        d=z.group()\n",
    "        Tiles.char2T[getattr(Tiles,t).char]=d"
   ]
  },
  {
   "cell_type": "code",
   "execution_count": 14,
   "metadata": {},
   "outputs": [
    {
     "ename": "NameError",
     "evalue": "name 'RandomWeb' is not defined",
     "output_type": "error",
     "traceback": [
      "\u001b[0;31m---------------------------------------------------------------------------\u001b[0m",
      "\u001b[0;31mNameError\u001b[0m                                 Traceback (most recent call last)",
      "\u001b[0;32m<ipython-input-14-ef9fa2f54a32>\u001b[0m in \u001b[0;36m<module>\u001b[0;34m\u001b[0m\n\u001b[0;32m----> 1\u001b[0;31m \u001b[0ml\u001b[0m\u001b[0;34m=\u001b[0m\u001b[0mLabyrinth\u001b[0m\u001b[0;34m(\u001b[0m\u001b[0;34m\"1a.laby\"\u001b[0m \u001b[0;34m)\u001b[0m\u001b[0;34m\u001b[0m\u001b[0;34m\u001b[0m\u001b[0m\n\u001b[0m",
      "\u001b[0;32m<ipython-input-11-7ac5f31efb08>\u001b[0m in \u001b[0;36m__init__\u001b[0;34m(self, s)\u001b[0m\n\u001b[1;32m      8\u001b[0m         \u001b[0mself\u001b[0m\u001b[0;34m.\u001b[0m\u001b[0mdirection\u001b[0m\u001b[0;34m=\u001b[0m\u001b[0mtemp\u001b[0m\u001b[0;34m[\u001b[0m\u001b[0;36m3\u001b[0m\u001b[0;34m]\u001b[0m\u001b[0;34m\u001b[0m\u001b[0;34m\u001b[0m\u001b[0m\n\u001b[1;32m      9\u001b[0m         \u001b[0mself\u001b[0m\u001b[0;34m.\u001b[0m\u001b[0mboard\u001b[0m\u001b[0;34m=\u001b[0m\u001b[0mboard\u001b[0m\u001b[0;34m(\u001b[0m\u001b[0mtemp\u001b[0m\u001b[0;34m[\u001b[0m\u001b[0;36m0\u001b[0m\u001b[0;34m]\u001b[0m\u001b[0;34m)\u001b[0m\u001b[0;34m\u001b[0m\u001b[0;34m\u001b[0m\u001b[0m\n\u001b[0;32m---> 10\u001b[0;31m         \u001b[0mself\u001b[0m\u001b[0;34m.\u001b[0m\u001b[0mrandomize\u001b[0m\u001b[0;34m(\u001b[0m\u001b[0;34m)\u001b[0m\u001b[0;34m\u001b[0m\u001b[0;34m\u001b[0m\u001b[0m\n\u001b[0m\u001b[1;32m     11\u001b[0m         \u001b[0mself\u001b[0m\u001b[0;34m.\u001b[0m\u001b[0mposition\u001b[0m\u001b[0;34m=\u001b[0m\u001b[0mposition\u001b[0m\u001b[0;34m(\u001b[0m\u001b[0mtemp\u001b[0m\u001b[0;34m[\u001b[0m\u001b[0;36m1\u001b[0m\u001b[0;34m]\u001b[0m\u001b[0;34m,\u001b[0m\u001b[0mtemp\u001b[0m\u001b[0;34m[\u001b[0m\u001b[0;36m2\u001b[0m\u001b[0;34m]\u001b[0m\u001b[0;34m)\u001b[0m\u001b[0;34m\u001b[0m\u001b[0;34m\u001b[0m\u001b[0m\n\u001b[1;32m     12\u001b[0m         \u001b[0mself\u001b[0m\u001b[0;34m.\u001b[0m\u001b[0mmessage\u001b[0m\u001b[0;34m=\u001b[0m\u001b[0;34m\"\"\u001b[0m\u001b[0;34m\u001b[0m\u001b[0;34m\u001b[0m\u001b[0m\n",
      "\u001b[0;32m<ipython-input-11-7ac5f31efb08>\u001b[0m in \u001b[0;36mrandomize\u001b[0;34m(self)\u001b[0m\n\u001b[1;32m    132\u001b[0m                     \u001b[0mn_random_rocks\u001b[0m \u001b[0;34m=\u001b[0m\u001b[0mn_random_rocks\u001b[0m \u001b[0;34m+\u001b[0m\u001b[0;36m1\u001b[0m\u001b[0;34m\u001b[0m\u001b[0;34m\u001b[0m\u001b[0m\n\u001b[1;32m    133\u001b[0m \u001b[0;34m\u001b[0m\u001b[0m\n\u001b[0;32m--> 134\u001b[0;31m                 \u001b[0;32mif\u001b[0m \u001b[0;34m(\u001b[0m\u001b[0mc\u001b[0m \u001b[0;34m==\u001b[0m \u001b[0mRandomWeb\u001b[0m\u001b[0;34m)\u001b[0m\u001b[0;34m:\u001b[0m\u001b[0;34m\u001b[0m\u001b[0;34m\u001b[0m\u001b[0m\n\u001b[0m\u001b[1;32m    135\u001b[0m                     \u001b[0;32mif\u001b[0m \u001b[0;34m(\u001b[0m\u001b[0mn_random_webs\u001b[0m \u001b[0;34m==\u001b[0m \u001b[0mr_web\u001b[0m\u001b[0;34m)\u001b[0m\u001b[0;34m:\u001b[0m\u001b[0;34m\u001b[0m\u001b[0;34m\u001b[0m\u001b[0m\n\u001b[1;32m    136\u001b[0m                         \u001b[0mself\u001b[0m\u001b[0;34m.\u001b[0m\u001b[0mboard\u001b[0m\u001b[0;34m.\u001b[0m\u001b[0mplateau\u001b[0m\u001b[0;34m[\u001b[0m\u001b[0mnRow\u001b[0m\u001b[0;34m]\u001b[0m\u001b[0;34m[\u001b[0m\u001b[0mnC\u001b[0m\u001b[0;34m]\u001b[0m \u001b[0;34m=\u001b[0m \u001b[0mTiles\u001b[0m\u001b[0;34m.\u001b[0m\u001b[0mSmallWeb\u001b[0m\u001b[0;34m\u001b[0m\u001b[0;34m\u001b[0m\u001b[0m\n",
      "\u001b[0;31mNameError\u001b[0m: name 'RandomWeb' is not defined"
     ]
    }
   ],
   "source": [
    "l=Labyrinth(\"1a.laby\" )"
   ]
  },
  {
   "cell_type": "code",
   "execution_count": 15,
   "metadata": {},
   "outputs": [
    {
     "ename": "NameError",
     "evalue": "name 'l' is not defined",
     "output_type": "error",
     "traceback": [
      "\u001b[0;31m---------------------------------------------------------------------------\u001b[0m",
      "\u001b[0;31mNameError\u001b[0m                                 Traceback (most recent call last)",
      "\u001b[0;32m<ipython-input-15-3d8d4296ea1b>\u001b[0m in \u001b[0;36m<module>\u001b[0;34m\u001b[0m\n\u001b[0;32m----> 1\u001b[0;31m \u001b[0ml\u001b[0m\u001b[0;34m.\u001b[0m\u001b[0mposition\u001b[0m\u001b[0;34m\u001b[0m\u001b[0;34m\u001b[0m\u001b[0m\n\u001b[0m",
      "\u001b[0;31mNameError\u001b[0m: name 'l' is not defined"
     ]
    }
   ],
   "source": [
    "l.position"
   ]
  },
  {
   "cell_type": "code",
   "execution_count": 16,
   "metadata": {},
   "outputs": [
    {
     "ename": "NameError",
     "evalue": "name 'l' is not defined",
     "output_type": "error",
     "traceback": [
      "\u001b[0;31m---------------------------------------------------------------------------\u001b[0m",
      "\u001b[0;31mNameError\u001b[0m                                 Traceback (most recent call last)",
      "\u001b[0;32m<ipython-input-16-454bd22ef818>\u001b[0m in \u001b[0;36m<module>\u001b[0;34m\u001b[0m\n\u001b[0;32m----> 1\u001b[0;31m \u001b[0ml\u001b[0m\u001b[0;34m.\u001b[0m\u001b[0mget\u001b[0m\u001b[0;34m(\u001b[0m\u001b[0ml\u001b[0m\u001b[0;34m.\u001b[0m\u001b[0mposition\u001b[0m\u001b[0;34m)\u001b[0m\u001b[0;34m\u001b[0m\u001b[0;34m\u001b[0m\u001b[0m\n\u001b[0m",
      "\u001b[0;31mNameError\u001b[0m: name 'l' is not defined"
     ]
    }
   ],
   "source": [
    "l.get(l.position)"
   ]
  },
  {
   "cell_type": "code",
   "execution_count": 17,
   "metadata": {},
   "outputs": [
    {
     "ename": "NameError",
     "evalue": "name 'l' is not defined",
     "output_type": "error",
     "traceback": [
      "\u001b[0;31m---------------------------------------------------------------------------\u001b[0m",
      "\u001b[0;31mNameError\u001b[0m                                 Traceback (most recent call last)",
      "\u001b[0;32m<ipython-input-17-0b119eb766fd>\u001b[0m in \u001b[0;36m<module>\u001b[0;34m\u001b[0m\n\u001b[0;32m----> 1\u001b[0;31m \u001b[0ml\u001b[0m\u001b[0;34m.\u001b[0m\u001b[0mboard\u001b[0m\u001b[0;34m.\u001b[0m\u001b[0mget\u001b[0m\u001b[0;34m(\u001b[0m\u001b[0mposition\u001b[0m\u001b[0;34m(\u001b[0m\u001b[0;36m3\u001b[0m\u001b[0;34m,\u001b[0m\u001b[0;36m2\u001b[0m\u001b[0;34m)\u001b[0m\u001b[0;34m)\u001b[0m\u001b[0;34m\u001b[0m\u001b[0;34m\u001b[0m\u001b[0m\n\u001b[0m",
      "\u001b[0;31mNameError\u001b[0m: name 'l' is not defined"
     ]
    }
   ],
   "source": [
    "l.board.get(position(3,2))"
   ]
  },
  {
   "cell_type": "code",
   "execution_count": 18,
   "metadata": {},
   "outputs": [
    {
     "ename": "NameError",
     "evalue": "name 'l' is not defined",
     "output_type": "error",
     "traceback": [
      "\u001b[0;31m---------------------------------------------------------------------------\u001b[0m",
      "\u001b[0;31mNameError\u001b[0m                                 Traceback (most recent call last)",
      "\u001b[0;32m<ipython-input-18-4256bd339e9c>\u001b[0m in \u001b[0;36m<module>\u001b[0;34m\u001b[0m\n\u001b[0;32m----> 1\u001b[0;31m \u001b[0ml\u001b[0m\u001b[0;34m.\u001b[0m\u001b[0mget\u001b[0m\u001b[0;34m(\u001b[0m\u001b[0mposition\u001b[0m\u001b[0;34m(\u001b[0m\u001b[0;36m3\u001b[0m\u001b[0;34m,\u001b[0m\u001b[0;36m2\u001b[0m\u001b[0;34m)\u001b[0m\u001b[0;34m)\u001b[0m\u001b[0;34m\u001b[0m\u001b[0;34m\u001b[0m\u001b[0m\n\u001b[0m",
      "\u001b[0;31mNameError\u001b[0m: name 'l' is not defined"
     ]
    }
   ],
   "source": [
    "l.get(position(3,2))"
   ]
  },
  {
   "cell_type": "code",
   "execution_count": 19,
   "metadata": {},
   "outputs": [
    {
     "ename": "NameError",
     "evalue": "name 'l' is not defined",
     "output_type": "error",
     "traceback": [
      "\u001b[0;31m---------------------------------------------------------------------------\u001b[0m",
      "\u001b[0;31mNameError\u001b[0m                                 Traceback (most recent call last)",
      "\u001b[0;32m<ipython-input-19-e9aba25dbaf4>\u001b[0m in \u001b[0;36m<module>\u001b[0;34m\u001b[0m\n\u001b[0;32m----> 1\u001b[0;31m \u001b[0ml\u001b[0m\u001b[0;34m.\u001b[0m\u001b[0mboard\u001b[0m\u001b[0;34m.\u001b[0m\u001b[0mget\u001b[0m\u001b[0;34m(\u001b[0m\u001b[0mposition\u001b[0m\u001b[0;34m(\u001b[0m\u001b[0;36m2\u001b[0m\u001b[0;34m,\u001b[0m\u001b[0;36m3\u001b[0m\u001b[0;34m)\u001b[0m\u001b[0;34m)\u001b[0m\u001b[0;34m\u001b[0m\u001b[0;34m\u001b[0m\u001b[0m\n\u001b[0m",
      "\u001b[0;31mNameError\u001b[0m: name 'l' is not defined"
     ]
    }
   ],
   "source": [
    "l.board.get(position(2,3))"
   ]
  },
  {
   "cell_type": "code",
   "execution_count": null,
   "metadata": {},
   "outputs": [],
   "source": []
  },
  {
   "cell_type": "code",
   "execution_count": 20,
   "metadata": {},
   "outputs": [],
   "source": [
    "def affichage_niveau_recursif(nom_niveau):\n",
    "    carte = l.board.plateau\n",
    "    items=[]\n",
    "    taille_ligne =0\n",
    "    \n",
    "#     x = alea(path_level + nom_niveau)\n",
    "    \n",
    "    for j in range (0,len(carte)):\n",
    "        for i in (0,len(carte[0])):\n",
    "               l.board.get(position(i,j))\n",
    "            "
   ]
  },
  {
   "cell_type": "code",
   "execution_count": 21,
   "metadata": {},
   "outputs": [
    {
     "ename": "NameError",
     "evalue": "name 'l' is not defined",
     "output_type": "error",
     "traceback": [
      "\u001b[0;31m---------------------------------------------------------------------------\u001b[0m",
      "\u001b[0;31mNameError\u001b[0m                                 Traceback (most recent call last)",
      "\u001b[0;32m<ipython-input-21-0c1af533c615>\u001b[0m in \u001b[0;36m<module>\u001b[0;34m\u001b[0m\n\u001b[0;32m----> 1\u001b[0;31m \u001b[0maffichage_niveau_recursif\u001b[0m\u001b[0;34m(\u001b[0m\u001b[0ml\u001b[0m\u001b[0;34m)\u001b[0m\u001b[0;34m\u001b[0m\u001b[0;34m\u001b[0m\u001b[0m\n\u001b[0m",
      "\u001b[0;31mNameError\u001b[0m: name 'l' is not defined"
     ]
    }
   ],
   "source": [
    "affichage_niveau_recursif(l)"
   ]
  },
  {
   "cell_type": "code",
   "execution_count": 22,
   "metadata": {},
   "outputs": [
    {
     "data": {
      "text/plain": [
       "Tile(name='wall', char='o')"
      ]
     },
     "execution_count": 22,
     "metadata": {},
     "output_type": "execute_result"
    }
   ],
   "source": [
    "Tiles.char2Tile['o']"
   ]
  },
  {
   "cell_type": "code",
   "execution_count": 23,
   "metadata": {},
   "outputs": [
    {
     "ename": "NameError",
     "evalue": "name 'l' is not defined",
     "output_type": "error",
     "traceback": [
      "\u001b[0;31m---------------------------------------------------------------------------\u001b[0m",
      "\u001b[0;31mNameError\u001b[0m                                 Traceback (most recent call last)",
      "\u001b[0;32m<ipython-input-23-4a9abd315d82>\u001b[0m in \u001b[0;36m<module>\u001b[0;34m\u001b[0m\n\u001b[0;32m----> 1\u001b[0;31m \u001b[0ml\u001b[0m\u001b[0;34m.\u001b[0m\u001b[0mboard\u001b[0m\u001b[0;34m.\u001b[0m\u001b[0mplateau\u001b[0m\u001b[0;34m\u001b[0m\u001b[0;34m\u001b[0m\u001b[0m\n\u001b[0m",
      "\u001b[0;31mNameError\u001b[0m: name 'l' is not defined"
     ]
    }
   ],
   "source": [
    "l.board.plateau"
   ]
  },
  {
   "cell_type": "code",
   "execution_count": 24,
   "metadata": {},
   "outputs": [
    {
     "ename": "NameError",
     "evalue": "name 'l' is not defined",
     "output_type": "error",
     "traceback": [
      "\u001b[0;31m---------------------------------------------------------------------------\u001b[0m",
      "\u001b[0;31mNameError\u001b[0m                                 Traceback (most recent call last)",
      "\u001b[0;32m<ipython-input-24-f5991fb60a1e>\u001b[0m in \u001b[0;36m<module>\u001b[0;34m\u001b[0m\n\u001b[0;32m----> 1\u001b[0;31m \u001b[0ml\u001b[0m\u001b[0;34m.\u001b[0m\u001b[0mregarde\u001b[0m\u001b[0;34m(\u001b[0m\u001b[0;34m)\u001b[0m\u001b[0;34m\u001b[0m\u001b[0;34m\u001b[0m\u001b[0m\n\u001b[0m",
      "\u001b[0;31mNameError\u001b[0m: name 'l' is not defined"
     ]
    }
   ],
   "source": [
    "l.regarde()\n"
   ]
  },
  {
   "cell_type": "code",
   "execution_count": null,
   "metadata": {},
   "outputs": [],
   "source": []
  },
  {
   "cell_type": "code",
   "execution_count": null,
   "metadata": {},
   "outputs": [],
   "source": []
  },
  {
   "cell_type": "code",
   "execution_count": null,
   "metadata": {},
   "outputs": [],
   "source": []
  },
  {
   "cell_type": "code",
   "execution_count": null,
   "metadata": {},
   "outputs": [],
   "source": []
  },
  {
   "cell_type": "code",
   "execution_count": null,
   "metadata": {},
   "outputs": [],
   "source": []
  },
  {
   "cell_type": "code",
   "execution_count": null,
   "metadata": {},
   "outputs": [],
   "source": []
  },
  {
   "cell_type": "code",
   "execution_count": null,
   "metadata": {},
   "outputs": [],
   "source": []
  }
 ],
 "metadata": {
  "kernelspec": {
   "display_name": "Python 3",
   "language": "python",
   "name": "python3"
  },
  "language_info": {
   "codemirror_mode": {
    "name": "ipython",
    "version": 3
   },
   "file_extension": ".py",
   "mimetype": "text/x-python",
   "name": "python",
   "nbconvert_exporter": "python",
   "pygments_lexer": "ipython3",
<<<<<<< HEAD
   "version": "3.6.6"
=======
   "version": "3.8.2"
>>>>>>> c16d6fa85d0913c6d9679f6e6b99dba02dee60d1
  }
 },
 "nbformat": 4,
 "nbformat_minor": 2
}
