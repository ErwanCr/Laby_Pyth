{
 "cells": [
  {
   "cell_type": "code",
   "execution_count": 1,
   "metadata": {},
   "outputs": [],
   "source": [
    "from enum import Enum\n",
    "from collections import namedtuple\n",
    "import re"
   ]
  },
  {
   "cell_type": "code",
   "execution_count": 2,
   "metadata": {},
   "outputs": [],
   "source": [
    "position = namedtuple (\"position\",[\"i\",\"j\"])"
   ]
  },
  {
   "cell_type": "code",
   "execution_count": 118,
   "metadata": {},
   "outputs": [],
   "source": [
    "p=position(1,2)"
   ]
  },
  {
   "cell_type": "code",
   "execution_count": 4,
   "metadata": {},
   "outputs": [
    {
     "data": {
      "text/plain": [
       "1"
      ]
     },
     "execution_count": 4,
     "metadata": {},
     "output_type": "execute_result"
    }
   ],
   "source": [
    "p.i"
   ]
  },
  {
   "cell_type": "code",
   "execution_count": 5,
   "metadata": {},
   "outputs": [
    {
     "data": {
      "text/plain": [
       "2"
      ]
     },
     "execution_count": 5,
     "metadata": {},
     "output_type": "execute_result"
    }
   ],
   "source": [
    "p.j"
   ]
  },
  {
   "cell_type": "code",
   "execution_count": 6,
   "metadata": {},
   "outputs": [],
   "source": [
    "##board=namedtuple (\"board\",[\"board\"])"
   ]
  },
  {
   "cell_type": "code",
   "execution_count": 7,
   "metadata": {},
   "outputs": [],
   "source": [
    "##b=board(board)"
   ]
  },
  {
   "cell_type": "code",
   "execution_count": 51,
   "metadata": {},
   "outputs": [],
   "source": [
    "##b\n",
    "b=board(load((\"1a.laby\" )))"
   ]
  },
  {
   "cell_type": "code",
   "execution_count": 52,
   "metadata": {},
   "outputs": [
    {
     "data": {
      "text/plain": [
       "<__main__.board at 0x7f5d285fc5f8>"
      ]
     },
     "execution_count": 52,
     "metadata": {},
     "output_type": "execute_result"
    }
   ],
   "source": [
    "b"
   ]
  },
  {
   "cell_type": "code",
   "execution_count": 110,
   "metadata": {},
   "outputs": [],
   "source": [
    "class  board: \n",
    "    def __init__(self,niveau):\n",
    "        self.plateau=niveau\n",
    "    \n",
    "    def get(self,position):\n",
    "        if (position.i<0 or position.j<0 or position.i >= len(self.plateau)or position.j>=len(self.plateau[0])):\n",
    "            return Tiles.Outside\n",
    "        else:\n",
    "            return self.plateau[position.i][position.j] \n",
    "    \n",
    "    def sett(self,position,tuile):\n",
    "        if (position.i<0 or position.j<0 or position.i >= len(self.plateau)or position.j>=len(self.plateau[0])):\n",
    "             print('erreur !!')   \n",
    "        self.plateau[position.i][position.j]=tuile        \n",
    "        "
   ]
  },
  {
   "cell_type": "code",
   "execution_count": 135,
   "metadata": {},
   "outputs": [],
   "source": [
    "get_valeur_case = l.board.get(position(2,3))"
   ]
  },
  {
   "cell_type": "code",
   "execution_count": 136,
   "metadata": {},
   "outputs": [
    {
     "data": {
      "text/plain": [
       "Tile(name='wall', char='o')"
      ]
     },
     "execution_count": 136,
     "metadata": {},
     "output_type": "execute_result"
    }
   ],
   "source": [
    "get_valeur_case "
   ]
  },
  {
   "cell_type": "code",
   "execution_count": 132,
   "metadata": {},
   "outputs": [],
   "source": [
    "x = l.board.sett(position(2,3),Tiles.Wall)"
   ]
  },
  {
   "cell_type": "code",
   "execution_count": 133,
   "metadata": {},
   "outputs": [],
   "source": [
    "x"
   ]
  },
  {
   "cell_type": "code",
   "execution_count": 138,
   "metadata": {},
   "outputs": [
    {
     "data": {
      "text/plain": [
       "[[Tile(name='wall', char='o'),\n",
       "  Tile(name='wall', char='o'),\n",
       "  Tile(name='wall', char='o'),\n",
       "  Tile(name='wall', char='o'),\n",
       "  Tile(name='wall', char='o'),\n",
       "  Tile(name='exit', char='x'),\n",
       "  Tile(name='wall', char='o')],\n",
       " [Tile(name='wall', char='o'),\n",
       "  Tile(name='void', char='.'),\n",
       "  Tile(name='wall', char='o'),\n",
       "  Tile(name='void', char='.'),\n",
       "  Tile(name='void', char='.'),\n",
       "  Tile(name='void', char='.'),\n",
       "  Tile(name='wall', char='o')],\n",
       " [Tile(name='wall', char='o'),\n",
       "  Tile(name='void', char='.'),\n",
       "  Tile(name='void', char='.'),\n",
       "  Tile(name='wall', char='o'),\n",
       "  Tile(name='void', char='.'),\n",
       "  Tile(name='void', char='.'),\n",
       "  Tile(name='wall', char='o')],\n",
       " [Tile(name='wall', char='o'),\n",
       "  Tile(name='void', char='.'),\n",
       "  Tile(name='ant-n', char='↑'),\n",
       "  Tile(name='void', char='.'),\n",
       "  Tile(name='void', char='.'),\n",
       "  Tile(name='void', char='.'),\n",
       "  Tile(name='wall', char='o')],\n",
       " [Tile(name='wall', char='o'),\n",
       "  Tile(name='wall', char='o'),\n",
       "  Tile(name='wall', char='o'),\n",
       "  Tile(name='wall', char='o'),\n",
       "  Tile(name='wall', char='o'),\n",
       "  Tile(name='wall', char='o'),\n",
       "  Tile(name='wall', char='o')]]"
      ]
     },
     "execution_count": 138,
     "metadata": {},
     "output_type": "execute_result"
    }
   ],
   "source": [
    "l.board.plateau"
   ]
  },
  {
   "cell_type": "code",
   "execution_count": 11,
   "metadata": {},
   "outputs": [],
   "source": [
    "class Labyrinth:\n",
    "    def __init__(self,s):\n",
    "        self.tile=Tiles\n",
    "        self._won =False\n",
    "        self.carry=self.tile.Rock\n",
    "        self.direction=\"0\"\n",
    "        self.board=board(load2(s))\n",
    "        self.position=position(5,5)\n",
    "        self.message=\"\"\n",
    "        \n",
    "    \n",
    "    \n",
    "    def dirToAnt(self):\n",
    "        if self.direction ==\"0\":\n",
    "            return Tiles.Ant_N\n",
    "        elif self.direction ==\"1\":\n",
    "            return Tiles.Ant_E\n",
    "        elif self.direction ==\"2\":\n",
    "            return Tiles.Ant_S\n",
    "        elif self.direction ==\"3\":\n",
    "            return Tiles.Ant_W     \n",
    "        \n",
    "    def size(self):\n",
    "        return (len(self.board.plateau),len(self.board.plateau[0]))\n",
    "    \n",
    "    def devant(self):\n",
    "        po= position(self.position.i+int(direction[self.direction][0]),self.position.j+int(direction[self.direction][1]));\n",
    "        return po\n",
    "    \n",
    "    def gauche(self):\n",
    "        self.direction= str((int(self.direction)-1)%4)\n",
    "        self.message=\"\"\n",
    "        return True;\n",
    "    \n",
    "    def droite(self):\n",
    "        self.direction= str((int(self.direction)+1)%4)\n",
    "        self.message=\"\"\n",
    "        return True;\n",
    "    \n",
    "    def win(self):\n",
    "        self._won=True\n",
    "        message=\"J'ai gagné !\"\n",
    "    \n",
    "    def won(self):\n",
    "        return self._won\n",
    "    \n",
    "    def pose(self):\n",
    "        if (self.carry==self.tile.Rock and (self.regarde()==self.tile.Void or self.regarde()==self.tile.Web or self.regarde()==self.tile.SmallWeb or self.regarde()==self.tile.SmallRock  )):\n",
    "            self.carry=self.tile.Void\n",
    "            self.board.set(self.devant(),self.tile.Rock)\n",
    "            message=\"\"\n",
    "            return True\n",
    "        message=\"Je ne peux pas poser.\"\n",
    "        return False\n",
    "    \n",
    "    def regarde(self):\n",
    "        message=\"\"\n",
    "        return self.board.get(self.devant())\n",
    "    \n",
    "    def get(self,pos):\n",
    "        if (pos.i==self.position.i and pos.j==self.position.j):\n",
    "            return self.dirToAnt()\n",
    "        else:\n",
    "            return self.board.get(pos)\n",
    "    \n",
    "    def ouvre(self):\n",
    "        if self.regarde()!=tile.Exit :\n",
    "            message = \"Je ne peux pas ouvrir.\"\n",
    "            return False\n",
    "        if carry != tile.Void:\n",
    "            message = \"Je ne peux pas ouvrir en portant un objet.\"\n",
    "            return False\n",
    "        self.position=self.devant()\n",
    "        self.win()\n",
    "        return True\n",
    "    \n",
    "    def prend(self):\n",
    "        if (self.carry==self.tile.Void and self.regarde()==self.tile.Rock):\n",
    "            self.carry=self.tile.Rock\n",
    "            self.board.set(self.devant(),self.tile.Void)\n",
    "            message=\"\"\n",
    "            return True\n",
    "        message = \"Je ne peux pas prendre.\"\n",
    "        return False\n",
    "    \n",
    "            \n",
    "            "
   ]
  },
  {
   "cell_type": "code",
   "execution_count": 141,
   "metadata": {},
   "outputs": [
    {
     "data": {
      "text/plain": [
       "5"
      ]
     },
     "execution_count": 141,
     "metadata": {},
     "output_type": "execute_result"
    }
   ],
   "source": [
    "len(l.board.plateau)"
   ]
  },
  {
   "cell_type": "code",
   "execution_count": 142,
   "metadata": {},
   "outputs": [
    {
     "data": {
      "text/plain": [
       "7"
      ]
     },
     "execution_count": 142,
     "metadata": {},
     "output_type": "execute_result"
    }
   ],
   "source": [
    "len(l.board.plateau[0])"
   ]
  },
  {
   "cell_type": "code",
   "execution_count": 53,
   "metadata": {},
   "outputs": [],
   "source": [
    "b=board(load(\"1a.laby\" ))"
   ]
  },
  {
   "cell_type": "code",
   "execution_count": 54,
   "metadata": {},
   "outputs": [
    {
     "data": {
      "text/plain": [
       "<__main__.board at 0x7f5d28616c88>"
      ]
     },
     "execution_count": 54,
     "metadata": {},
     "output_type": "execute_result"
    }
   ],
   "source": [
    "b"
   ]
  },
  {
   "cell_type": "code",
   "execution_count": 55,
   "metadata": {},
   "outputs": [
    {
     "data": {
      "text/plain": [
       "5"
      ]
     },
     "execution_count": 55,
     "metadata": {},
     "output_type": "execute_result"
    }
   ],
   "source": [
    "len(b.plateau)"
   ]
  },
  {
   "cell_type": "code",
   "execution_count": 56,
   "metadata": {},
   "outputs": [
    {
     "data": {
      "text/plain": [
       "[[Tile(name='wall', char='o'),\n",
       "  Tile(name='wall', char='o'),\n",
       "  Tile(name='wall', char='o'),\n",
       "  Tile(name='wall', char='o'),\n",
       "  Tile(name='wall', char='o'),\n",
       "  Tile(name='exit', char='x'),\n",
       "  Tile(name='wall', char='o')],\n",
       " [Tile(name='wall', char='o'),\n",
       "  Tile(name='void', char='.'),\n",
       "  Tile(name='void', char='.'),\n",
       "  Tile(name='void', char='.'),\n",
       "  Tile(name='void', char='.'),\n",
       "  Tile(name='void', char='.'),\n",
       "  Tile(name='wall', char='o')],\n",
       " [Tile(name='wall', char='o'),\n",
       "  Tile(name='void', char='.'),\n",
       "  Tile(name='void', char='.'),\n",
       "  Tile(name='void', char='.'),\n",
       "  Tile(name='void', char='.'),\n",
       "  Tile(name='void', char='.'),\n",
       "  Tile(name='wall', char='o')],\n",
       " [Tile(name='wall', char='o'),\n",
       "  Tile(name='void', char='.'),\n",
       "  Tile(name='ant-n', char='↑'),\n",
       "  Tile(name='void', char='.'),\n",
       "  Tile(name='void', char='.'),\n",
       "  Tile(name='void', char='.'),\n",
       "  Tile(name='wall', char='o')],\n",
       " [Tile(name='wall', char='o'),\n",
       "  Tile(name='wall', char='o'),\n",
       "  Tile(name='wall', char='o'),\n",
       "  Tile(name='wall', char='o'),\n",
       "  Tile(name='wall', char='o'),\n",
       "  Tile(name='wall', char='o'),\n",
       "  Tile(name='wall', char='o')]]"
      ]
     },
     "execution_count": 56,
     "metadata": {},
     "output_type": "execute_result"
    }
   ],
   "source": [
    "b.plateau"
   ]
  },
  {
   "cell_type": "code",
   "execution_count": 61,
   "metadata": {
    "scrolled": true
   },
   "outputs": [
    {
     "ename": "SyntaxError",
     "evalue": "invalid syntax (<ipython-input-61-a3b25c112e20>, line 1)",
     "output_type": "error",
     "traceback": [
      "\u001b[0;36m  File \u001b[0;32m\"<ipython-input-61-a3b25c112e20>\"\u001b[0;36m, line \u001b[0;32m1\u001b[0m\n\u001b[0;31m    t= Tiles()l.tile.Rock\u001b[0m\n\u001b[0m              ^\u001b[0m\n\u001b[0;31mSyntaxError\u001b[0m\u001b[0;31m:\u001b[0m invalid syntax\n"
     ]
    }
   ],
   "source": [
    "t= Tiles()l.tile.Rock\n",
    "\n"
   ]
  },
  {
   "cell_type": "code",
   "execution_count": 62,
   "metadata": {},
   "outputs": [
    {
     "data": {
      "text/plain": [
       "[[Tile(name='wall', char='o'),\n",
       "  Tile(name='wall', char='o'),\n",
       "  Tile(name='wall', char='o'),\n",
       "  Tile(name='wall', char='o'),\n",
       "  Tile(name='wall', char='o'),\n",
       "  Tile(name='exit', char='x'),\n",
       "  Tile(name='wall', char='o')],\n",
       " [Tile(name='wall', char='o'),\n",
       "  Tile(name='void', char='.'),\n",
       "  Tile(name='void', char='.'),\n",
       "  Tile(name='void', char='.'),\n",
       "  Tile(name='void', char='.'),\n",
       "  Tile(name='void', char='.'),\n",
       "  Tile(name='wall', char='o')],\n",
       " [Tile(name='wall', char='o'),\n",
       "  Tile(name='void', char='.'),\n",
       "  Tile(name='void', char='.'),\n",
       "  Tile(name='void', char='.'),\n",
       "  Tile(name='void', char='.'),\n",
       "  Tile(name='void', char='.'),\n",
       "  Tile(name='wall', char='o')],\n",
       " [Tile(name='wall', char='o'),\n",
       "  Tile(name='void', char='.'),\n",
       "  Tile(name='ant-n', char='↑'),\n",
       "  Tile(name='void', char='.'),\n",
       "  Tile(name='void', char='.'),\n",
       "  Tile(name='void', char='.'),\n",
       "  Tile(name='wall', char='o')],\n",
       " [Tile(name='wall', char='o'),\n",
       "  Tile(name='wall', char='o'),\n",
       "  Tile(name='wall', char='o'),\n",
       "  Tile(name='wall', char='o'),\n",
       "  Tile(name='wall', char='o'),\n",
       "  Tile(name='wall', char='o'),\n",
       "  Tile(name='wall', char='o')]]"
      ]
     },
     "execution_count": 62,
     "metadata": {},
     "output_type": "execute_result"
    }
   ],
   "source": [
    "l.board.plateau"
   ]
  },
  {
   "cell_type": "code",
   "execution_count": 63,
   "metadata": {},
   "outputs": [
    {
     "data": {
      "text/plain": [
       "Tile(name='void', char='.')"
      ]
     },
     "execution_count": 63,
     "metadata": {},
     "output_type": "execute_result"
    }
   ],
   "source": [
    "l.get(position(2,3))"
   ]
  },
  {
   "cell_type": "code",
   "execution_count": 60,
   "metadata": {},
   "outputs": [],
   "source": [
    "l=Labyrinth(\"1a.laby\" )"
   ]
  },
  {
   "cell_type": "code",
   "execution_count": 102,
   "metadata": {},
   "outputs": [
    {
     "data": {
      "text/plain": [
       "<__main__.board at 0x7f5d285fc8d0>"
      ]
     },
     "execution_count": 102,
     "metadata": {},
     "output_type": "execute_result"
    }
   ],
   "source": [
    "l.board"
   ]
  },
  {
   "cell_type": "code",
   "execution_count": 64,
   "metadata": {},
   "outputs": [
    {
     "data": {
      "text/plain": [
       "(5, 7)"
      ]
     },
     "execution_count": 64,
     "metadata": {},
     "output_type": "execute_result"
    }
   ],
   "source": [
    "l.size()"
   ]
  },
  {
   "cell_type": "code",
   "execution_count": 65,
   "metadata": {},
   "outputs": [
    {
     "data": {
      "text/plain": [
       "True"
      ]
     },
     "execution_count": 65,
     "metadata": {},
     "output_type": "execute_result"
    }
   ],
   "source": [
    "l.gauche()"
   ]
  },
  {
   "cell_type": "code",
   "execution_count": 66,
   "metadata": {},
   "outputs": [
    {
     "data": {
      "text/plain": [
       "'3'"
      ]
     },
     "execution_count": 66,
     "metadata": {},
     "output_type": "execute_result"
    }
   ],
   "source": [
    "l.direction"
   ]
  },
  {
   "cell_type": "code",
   "execution_count": 77,
   "metadata": {},
   "outputs": [
    {
     "data": {
      "text/plain": [
       "position(i=5, j=4)"
      ]
     },
     "execution_count": 77,
     "metadata": {},
     "output_type": "execute_result"
    }
   ],
   "source": [
    "l.devant()"
   ]
  },
  {
   "cell_type": "code",
   "execution_count": 78,
   "metadata": {},
   "outputs": [
    {
     "data": {
      "text/plain": [
       "'3'"
      ]
     },
     "execution_count": 78,
     "metadata": {},
     "output_type": "execute_result"
    }
   ],
   "source": [
    "l.direction[0]"
   ]
  },
  {
   "cell_type": "code",
   "execution_count": 79,
   "metadata": {},
   "outputs": [
    {
     "data": {
      "text/plain": [
       "5"
      ]
     },
     "execution_count": 79,
     "metadata": {},
     "output_type": "execute_result"
    }
   ],
   "source": [
    "l.position.i"
   ]
  },
  {
   "cell_type": "code",
   "execution_count": 80,
   "metadata": {},
   "outputs": [
    {
     "data": {
      "text/plain": [
       "False"
      ]
     },
     "execution_count": 80,
     "metadata": {},
     "output_type": "execute_result"
    }
   ],
   "source": [
    "l.pose()"
   ]
  },
  {
   "cell_type": "code",
   "execution_count": null,
   "metadata": {},
   "outputs": [],
   "source": []
  },
  {
   "cell_type": "code",
   "execution_count": null,
   "metadata": {},
   "outputs": [],
   "source": []
  },
  {
   "cell_type": "code",
   "execution_count": null,
   "metadata": {},
   "outputs": [],
   "source": []
  },
  {
   "cell_type": "code",
   "execution_count": null,
   "metadata": {},
   "outputs": [],
   "source": []
  },
  {
   "cell_type": "code",
   "execution_count": 81,
   "metadata": {},
   "outputs": [
    {
     "data": {
      "text/plain": [
       "-1"
      ]
     },
     "execution_count": 81,
     "metadata": {},
     "output_type": "execute_result"
    }
   ],
   "source": [
    "direction[l.direction][1]"
   ]
  },
  {
   "cell_type": "code",
   "execution_count": null,
   "metadata": {},
   "outputs": [],
   "source": []
  },
  {
   "cell_type": "code",
   "execution_count": 82,
   "metadata": {},
   "outputs": [
    {
     "data": {
      "text/plain": [
       "Tile(name='wall', char='o')"
      ]
     },
     "execution_count": 82,
     "metadata": {},
     "output_type": "execute_result"
    }
   ],
   "source": [
    "l.board.get(position(0,0))"
   ]
  },
  {
   "cell_type": "code",
   "execution_count": 103,
   "metadata": {},
   "outputs": [
    {
     "ename": "AttributeError",
     "evalue": "'Tile' object has no attribute 'char2T'",
     "output_type": "error",
     "traceback": [
      "\u001b[0;31m---------------------------------------------------------------------------\u001b[0m",
      "\u001b[0;31mAttributeError\u001b[0m                            Traceback (most recent call last)",
      "\u001b[0;32m<ipython-input-103-77c1822cebd9>\u001b[0m in \u001b[0;36m<module>\u001b[0;34m\u001b[0m\n\u001b[0;32m----> 1\u001b[0;31m \u001b[0mgetattr\u001b[0m\u001b[0;34m(\u001b[0m\u001b[0mTiles\u001b[0m\u001b[0;34m,\u001b[0m\u001b[0mt\u001b[0m\u001b[0;34m.\u001b[0m\u001b[0mchar2T\u001b[0m\u001b[0;34m[\u001b[0m\u001b[0ml\u001b[0m\u001b[0;34m.\u001b[0m\u001b[0mboard\u001b[0m\u001b[0;34m.\u001b[0m\u001b[0mget\u001b[0m\u001b[0;34m(\u001b[0m\u001b[0mposition\u001b[0m\u001b[0;34m(\u001b[0m\u001b[0;36m0\u001b[0m\u001b[0;34m,\u001b[0m\u001b[0;36m0\u001b[0m\u001b[0;34m)\u001b[0m\u001b[0;34m)\u001b[0m\u001b[0;34m]\u001b[0m\u001b[0;34m)\u001b[0m\u001b[0;34m\u001b[0m\u001b[0m\n\u001b[0m",
      "\u001b[0;31mAttributeError\u001b[0m: 'Tile' object has no attribute 'char2T'"
     ]
    }
   ],
   "source": [
    "getattr(Tiles,t.char2T[l.board.get(position(0,0))])"
   ]
  },
  {
   "cell_type": "code",
   "execution_count": 69,
   "metadata": {},
   "outputs": [],
   "source": [
    "def load(nom_niveau):\n",
    "    fichier = open(nom_niveau, 'r+')\n",
    "    tab = []\n",
    "    for line in fichier:\n",
    "        bleau=[]\n",
    "        if (len(line)>0 and (line[0] == \"o\" or line[0] ==\".\" or line[0] ==\"x\")):\n",
    "            x = line.split()\n",
    "            for nimportequoi in x:\n",
    "                temp=pouf(nimportequoi)\n",
    "                bleau.append(temp)\n",
    "            tab.append(bleau)    \n",
    "    return tab\n",
    "\n"
   ]
  },
  {
   "cell_type": "code",
   "execution_count": null,
   "metadata": {},
   "outputs": [],
   "source": []
  },
  {
   "cell_type": "code",
   "execution_count": 70,
   "metadata": {},
   "outputs": [],
   "source": [
    "def load2(nom_niveau):\n",
    "    fichier = open(nom_niveau, 'r+')\n",
    "    tab = []\n",
    "    for line in fichier:\n",
    "        bleau=[]\n",
    "        if (len(line)>0 and (line[0] == \"o\" or line[0] ==\".\" or line[0] ==\"x\")):\n",
    "            x = line.split()\n",
    "            for nimportequoi in x:\n",
    "                bleau.append(Tiles.char2Tile[nimportequoi])\n",
    "            tab.append(bleau)    \n",
    "    return tab\n",
    "\n"
   ]
  },
  {
   "cell_type": "code",
   "execution_count": 137,
   "metadata": {},
   "outputs": [
    {
     "data": {
      "text/plain": [
       "[[Tile(name='wall', char='o'),\n",
       "  Tile(name='wall', char='o'),\n",
       "  Tile(name='wall', char='o'),\n",
       "  Tile(name='wall', char='o'),\n",
       "  Tile(name='wall', char='o'),\n",
       "  Tile(name='exit', char='x'),\n",
       "  Tile(name='wall', char='o')],\n",
       " [Tile(name='wall', char='o'),\n",
       "  Tile(name='void', char='.'),\n",
       "  Tile(name='void', char='.'),\n",
       "  Tile(name='void', char='.'),\n",
       "  Tile(name='void', char='.'),\n",
       "  Tile(name='void', char='.'),\n",
       "  Tile(name='wall', char='o')],\n",
       " [Tile(name='wall', char='o'),\n",
       "  Tile(name='void', char='.'),\n",
       "  Tile(name='void', char='.'),\n",
       "  Tile(name='void', char='.'),\n",
       "  Tile(name='void', char='.'),\n",
       "  Tile(name='void', char='.'),\n",
       "  Tile(name='wall', char='o')],\n",
       " [Tile(name='wall', char='o'),\n",
       "  Tile(name='void', char='.'),\n",
       "  Tile(name='ant-n', char='↑'),\n",
       "  Tile(name='void', char='.'),\n",
       "  Tile(name='void', char='.'),\n",
       "  Tile(name='void', char='.'),\n",
       "  Tile(name='wall', char='o')],\n",
       " [Tile(name='wall', char='o'),\n",
       "  Tile(name='wall', char='o'),\n",
       "  Tile(name='wall', char='o'),\n",
       "  Tile(name='wall', char='o'),\n",
       "  Tile(name='wall', char='o'),\n",
       "  Tile(name='wall', char='o'),\n",
       "  Tile(name='wall', char='o')]]"
      ]
     },
     "execution_count": 137,
     "metadata": {},
     "output_type": "execute_result"
    }
   ],
   "source": [
    "load(\"1a.laby\")"
   ]
  },
  {
   "cell_type": "code",
   "execution_count": 72,
   "metadata": {},
   "outputs": [
    {
     "data": {
      "text/plain": [
       "[[Tile(name='wall', char='o'),\n",
       "  Tile(name='wall', char='o'),\n",
       "  Tile(name='wall', char='o'),\n",
       "  Tile(name='wall', char='o'),\n",
       "  Tile(name='wall', char='o'),\n",
       "  Tile(name='exit', char='x'),\n",
       "  Tile(name='wall', char='o')],\n",
       " [Tile(name='wall', char='o'),\n",
       "  Tile(name='void', char='.'),\n",
       "  Tile(name='void', char='.'),\n",
       "  Tile(name='void', char='.'),\n",
       "  Tile(name='void', char='.'),\n",
       "  Tile(name='void', char='.'),\n",
       "  Tile(name='wall', char='o')],\n",
       " [Tile(name='wall', char='o'),\n",
       "  Tile(name='void', char='.'),\n",
       "  Tile(name='void', char='.'),\n",
       "  Tile(name='void', char='.'),\n",
       "  Tile(name='void', char='.'),\n",
       "  Tile(name='void', char='.'),\n",
       "  Tile(name='wall', char='o')],\n",
       " [Tile(name='wall', char='o'),\n",
       "  Tile(name='void', char='.'),\n",
       "  Tile(name='ant-n', char='↑'),\n",
       "  Tile(name='void', char='.'),\n",
       "  Tile(name='void', char='.'),\n",
       "  Tile(name='void', char='.'),\n",
       "  Tile(name='wall', char='o')],\n",
       " [Tile(name='wall', char='o'),\n",
       "  Tile(name='wall', char='o'),\n",
       "  Tile(name='wall', char='o'),\n",
       "  Tile(name='wall', char='o'),\n",
       "  Tile(name='wall', char='o'),\n",
       "  Tile(name='wall', char='o'),\n",
       "  Tile(name='wall', char='o')]]"
      ]
     },
     "execution_count": 72,
     "metadata": {},
     "output_type": "execute_result"
    }
   ],
   "source": [
    "load2(\"1a.laby\")"
   ]
  },
  {
   "cell_type": "code",
   "execution_count": 73,
   "metadata": {},
   "outputs": [],
   "source": [
    "def pouf(s):\n",
    "    for t in Tiles.__dict__.values():\n",
    "        if isinstance(t, Tile):\n",
    "            if(t.char==s):\n",
    "                return t"
   ]
  },
  {
   "cell_type": "code",
   "execution_count": 74,
   "metadata": {},
   "outputs": [
    {
     "data": {
      "text/plain": [
       "Tile(name='wall', char='o')"
      ]
     },
     "execution_count": 74,
     "metadata": {},
     "output_type": "execute_result"
    }
   ],
   "source": [
    "pouf('o')"
   ]
  },
  {
   "cell_type": "code",
   "execution_count": 75,
   "metadata": {},
   "outputs": [
    {
     "data": {
      "text/plain": [
       "{'→': Tile(name='ant-e', char='→'),\n",
       " '↑': Tile(name='ant-n', char='↑'),\n",
       " '↓': Tile(name='ant-s', char='↓'),\n",
       " '←': Tile(name='ant-w', char='←'),\n",
       " 'x': Tile(name='exit', char='x'),\n",
       " 'ŕ': Tile(name='nrock', char='ŕ'),\n",
       " 'ẃ': Tile(name='nweb', char='ẃ'),\n",
       " 'r': Tile(name='rock', char='r'),\n",
       " '.': Tile(name='void', char='.'),\n",
       " 'o': Tile(name='wall', char='o'),\n",
       " 'w': Tile(name='web', char='w'),\n",
       " ' ': Tile(name='void', char=' '),\n",
       " 'R': Tile(name='void', char='R'),\n",
       " 'W': Tile(name='void', char='W')}"
      ]
     },
     "execution_count": 75,
     "metadata": {},
     "output_type": "execute_result"
    }
   ],
   "source": [
    "Tiles.char2Tile"
   ]
  },
  {
   "cell_type": "code",
   "execution_count": 143,
   "metadata": {},
   "outputs": [
    {
     "data": {
      "text/plain": [
       "(5, 7)"
      ]
     },
     "execution_count": 143,
     "metadata": {},
     "output_type": "execute_result"
    }
   ],
   "source": [
    "l.size()"
   ]
  },
  {
   "cell_type": "code",
   "execution_count": null,
   "metadata": {},
   "outputs": [],
   "source": []
  },
  {
   "cell_type": "code",
   "execution_count": 76,
   "metadata": {},
   "outputs": [],
   "source": [
    "direction = { \"0\":[-1,0], # North  \n",
    "               \"1\":[0,1], #East\n",
    "               \"2\":[1,0],  #South\n",
    "               \"3\":[0,-1]}  #Weast"
   ]
  },
  {
   "cell_type": "code",
   "execution_count": 28,
   "metadata": {},
   "outputs": [],
   "source": [
    "Tile = namedtuple(\"Tile\",[\"name\",\"char\"])"
   ]
  },
  {
   "cell_type": "code",
   "execution_count": 39,
   "metadata": {},
   "outputs": [],
   "source": [
    "class Tiles:\n",
    "    def __init__ (self):\n",
    "        self.Tiles.Ant_N=Tile(name=\"ant-n\",char=\"↑\")\n",
    "    "
   ]
  },
  {
   "cell_type": "code",
   "execution_count": 85,
   "metadata": {},
   "outputs": [],
   "source": [
    "def avance(position,direction):\n",
    "    position[0],position[1]=position[0]+int(direction[0]),position[1]+direction[1]\n",
    "    return position"
   ]
  },
  {
   "cell_type": "code",
   "execution_count": 45,
   "metadata": {},
   "outputs": [],
   "source": [
    "Tile= namedtuple(\"Tile\",[\"name\",\"char\"])"
   ]
  },
  {
   "cell_type": "code",
   "execution_count": 46,
   "metadata": {},
   "outputs": [],
   "source": [
    "class Tiles():\n",
    "        Ant_E=Tile(name=\"ant-e\",char=\"→\")\n",
    "        Ant_N=Tile(name=\"ant-n\",char=\"↑\")\n",
    "        Ant_S=Tile(name=\"ant-s\",char=\"↓\")\n",
    "        Ant_W=Tile(name=\"ant-w\",char=\"←\")\n",
    "        Exit=Tile(name=\"exit\",char=\"x\")\n",
    "        SmallRock=Tile(name=\"nrock\",char=\"ŕ\")\n",
    "        SmallWeb=Tile(name=\"nweb\",char=\"ẃ\")\n",
    "        Rock=Tile(name=\"rock\",char=\"r\")\n",
    "        Void=Tile(name=\"void\",char=\".\")\n",
    "        Wall=Tile(name=\"wall\",char=\"o\")\n",
    "        Web=Tile(name=\"web\",char=\"w\")\n",
    "        Outside=Tile(name=\"void\",char=\" \")\n",
    "        RandomRock=Tile(name=\"void\",char=\"R\")\n",
    "        RandomWeb=Tile(name=\"void\",char=\"W\")\n",
    "        \n",
    "       \n",
    "        \n",
    "        \n",
    "Tiles.char2N=dict()\n",
    "Tiles.char2Tile=dict()\n",
    "for t in Tiles.__dict__.values():\n",
    "    if isinstance(t, Tile):\n",
    "        Tiles.char2N[t.char]=t.name\n",
    "        Tiles.char2Tile[t.char]=t\n",
    "                    \n",
    "\n",
    "Tiles.char2T=dict()\n",
    "p=re.compile('[A-Z]+(\\w)*')\n",
    "for t in Tiles.__dict__.keys() :\n",
    "    z=p.match(t)\n",
    "    if (z!=None):\n",
    "        d=z.group()\n",
    "        Tiles.char2T[getattr(Tiles,t).char]=d"
   ]
  },
  {
   "cell_type": "code",
   "execution_count": 47,
   "metadata": {},
   "outputs": [],
   "source": [
    "t= Tiles"
   ]
  },
  {
   "cell_type": "code",
   "execution_count": 48,
   "metadata": {},
   "outputs": [
    {
     "data": {
      "text/plain": [
       "{'→': Tile(name='ant-e', char='→'),\n",
       " '↑': Tile(name='ant-n', char='↑'),\n",
       " '↓': Tile(name='ant-s', char='↓'),\n",
       " '←': Tile(name='ant-w', char='←'),\n",
       " 'x': Tile(name='exit', char='x'),\n",
       " 'ŕ': Tile(name='nrock', char='ŕ'),\n",
       " 'ẃ': Tile(name='nweb', char='ẃ'),\n",
       " 'r': Tile(name='rock', char='r'),\n",
       " '.': Tile(name='void', char='.'),\n",
       " 'o': Tile(name='wall', char='o'),\n",
       " 'w': Tile(name='web', char='w'),\n",
       " ' ': Tile(name='void', char=' '),\n",
       " 'R': Tile(name='void', char='R'),\n",
       " 'W': Tile(name='void', char='W')}"
      ]
     },
     "execution_count": 48,
     "metadata": {},
     "output_type": "execute_result"
    }
   ],
   "source": [
    "t.char2Tile"
   ]
  },
  {
   "cell_type": "code",
   "execution_count": 376,
   "metadata": {},
   "outputs": [
    {
     "data": {
      "text/plain": [
       "{'→': 'Ant_E',\n",
       " '↑': 'Ant_N',\n",
       " '↓': 'Ant_S',\n",
       " '←': 'Ant_W',\n",
       " 'x': 'Exit',\n",
       " 'ŕ': 'SmallRock',\n",
       " 'ẃ': 'SmallWeb',\n",
       " 'r': 'Rock',\n",
       " '.': 'Void',\n",
       " 'o': 'Wall',\n",
       " 'w': 'Web',\n",
       " ' ': 'Outside',\n",
       " 'R': 'RandomRock',\n",
       " 'W': 'RandomWeb'}"
      ]
     },
     "execution_count": 376,
     "metadata": {},
     "output_type": "execute_result"
    }
   ],
   "source": [
    "t.char2T"
   ]
  },
  {
   "cell_type": "code",
   "execution_count": 377,
   "metadata": {},
   "outputs": [],
   "source": [
    "v = { 1: \"a\", 2 : \"b\" }"
   ]
  },
  {
   "cell_type": "code",
   "execution_count": 378,
   "metadata": {},
   "outputs": [
    {
     "data": {
      "text/plain": [
       "[(1, 'a'), (2, 'b')]"
      ]
     },
     "execution_count": 378,
     "metadata": {},
     "output_type": "execute_result"
    }
   ],
   "source": [
    "list(v.items())"
   ]
  },
  {
   "cell_type": "code",
   "execution_count": 379,
   "metadata": {},
   "outputs": [],
   "source": [
    "t2 = { l: i for i,l in v.items() if i > 1}"
   ]
  },
  {
   "cell_type": "code",
   "execution_count": 380,
   "metadata": {},
   "outputs": [
    {
     "data": {
      "text/plain": [
       "{'b': 2}"
      ]
     },
     "execution_count": 380,
     "metadata": {},
     "output_type": "execute_result"
    }
   ],
   "source": [
    "t2"
   ]
  },
  {
   "cell_type": "code",
   "execution_count": 381,
   "metadata": {},
   "outputs": [
    {
     "data": {
      "text/plain": [
       "{'→': 'Ant_E',\n",
       " '↑': 'Ant_N',\n",
       " '↓': 'Ant_S',\n",
       " '←': 'Ant_W',\n",
       " 'x': 'Exit',\n",
       " 'ŕ': 'SmallRock',\n",
       " 'ẃ': 'SmallWeb',\n",
       " 'r': 'Rock',\n",
       " '.': 'Void',\n",
       " 'o': 'Wall',\n",
       " 'w': 'Web',\n",
       " ' ': 'Outside',\n",
       " 'R': 'RandomRock',\n",
       " 'W': 'RandomWeb'}"
      ]
     },
     "execution_count": 381,
     "metadata": {},
     "output_type": "execute_result"
    }
   ],
   "source": [
    "t.char2T"
   ]
  },
  {
   "cell_type": "code",
   "execution_count": 372,
   "metadata": {},
   "outputs": [
    {
     "data": {
      "text/plain": [
       "{'→': 'ant-e',\n",
       " '↑': 'ant-n',\n",
       " '↓': 'ant-s',\n",
       " '←': 'ant-w',\n",
       " 'x': 'exit',\n",
       " 'ŕ': 'nrock',\n",
       " 'ẃ': 'nweb',\n",
       " 'r': 'rock',\n",
       " '.': 'void',\n",
       " 'o': 'wall',\n",
       " 'w': 'web',\n",
       " ' ': 'void',\n",
       " 'R': 'void',\n",
       " 'W': 'void'}"
      ]
     },
     "execution_count": 372,
     "metadata": {},
     "output_type": "execute_result"
    }
   ],
   "source": [
    "t.char2N"
   ]
  },
  {
   "cell_type": "code",
   "execution_count": 373,
   "metadata": {},
   "outputs": [
    {
     "data": {
      "text/plain": [
       "{'→': 'Ant_E',\n",
       " '↑': 'Ant_N',\n",
       " '↓': 'Ant_S',\n",
       " '←': 'Ant_W',\n",
       " 'x': 'Exit',\n",
       " 'ŕ': 'SmallRock',\n",
       " 'ẃ': 'SmallWeb',\n",
       " 'r': 'Rock',\n",
       " '.': 'Void',\n",
       " 'o': 'Wall',\n",
       " 'w': 'Web',\n",
       " ' ': 'Outside',\n",
       " 'R': 'RandomRock',\n",
       " 'W': 'RandomWeb'}"
      ]
     },
     "execution_count": 373,
     "metadata": {},
     "output_type": "execute_result"
    }
   ],
   "source": [
    "t.char2T"
   ]
  },
  {
   "cell_type": "code",
   "execution_count": null,
   "metadata": {},
   "outputs": [],
   "source": []
  },
  {
   "cell_type": "code",
   "execution_count": 348,
   "metadata": {},
   "outputs": [],
   "source": [
    "x=Tiles.__dict__.keys()"
   ]
  },
  {
   "cell_type": "code",
   "execution_count": 334,
   "metadata": {},
   "outputs": [
    {
     "data": {
      "text/plain": [
       "dict_keys(['__module__', 'Ant_E', 'Ant_N', 'Ant_S', 'Ant_W', 'Exit', 'SmallRock', 'SmallWeb', 'Rock', 'Void', 'Wall', 'Web', 'Outside', 'RandomRock', 'RandomWeb', '__dict__', '__weakref__', '__doc__'])"
      ]
     },
     "execution_count": 334,
     "metadata": {},
     "output_type": "execute_result"
    }
   ],
   "source": [
    "x"
   ]
  },
  {
   "cell_type": "code",
   "execution_count": 335,
   "metadata": {},
   "outputs": [
    {
     "name": "stdout",
     "output_type": "stream",
     "text": [
      "Ant_E\n",
      "Ant_N\n",
      "Ant_S\n",
      "Ant_W\n",
      "Exit\n",
      "SmallRock\n",
      "SmallWeb\n",
      "Rock\n",
      "Void\n",
      "Wall\n",
      "Web\n",
      "Outside\n",
      "RandomRock\n",
      "RandomWeb\n"
     ]
    }
   ],
   "source": [
    "import re\n",
    "p=re.compile('[A-Z]+(\\w)*')\n",
    "for t in x :\n",
    "    z=p.match(t)\n",
    "    if (z!=None):\n",
    "        print (z.group())"
   ]
  },
  {
   "cell_type": "code",
   "execution_count": 88,
   "metadata": {},
   "outputs": [
    {
     "data": {
      "text/plain": [
       "'rock'"
      ]
     },
     "execution_count": 88,
     "metadata": {},
     "output_type": "execute_result"
    }
   ],
   "source": [
    "t.Rock.name"
   ]
  },
  {
   "cell_type": "code",
   "execution_count": 89,
   "metadata": {},
   "outputs": [
    {
     "ename": "SyntaxError",
     "evalue": "invalid syntax (<ipython-input-89-efa416e1c7d2>, line 1)",
     "output_type": "error",
     "traceback": [
      "\u001b[0;36m  File \u001b[0;32m\"<ipython-input-89-efa416e1c7d2>\"\u001b[0;36m, line \u001b[0;32m1\u001b[0m\n\u001b[0;31m    s=\u001b[0m\n\u001b[0m      ^\u001b[0m\n\u001b[0;31mSyntaxError\u001b[0m\u001b[0;31m:\u001b[0m invalid syntax\n"
     ]
    }
   ],
   "source": [
    "s=\n",
    "for t in Tiles.__dict__.values():\n",
    "    if isinstance(t, Tile):\n",
    "        print(t.name)"
   ]
  },
  {
   "cell_type": "code",
   "execution_count": 90,
   "metadata": {
    "scrolled": true
   },
   "outputs": [
    {
     "name": "stdout",
     "output_type": "stream",
     "text": [
      "ant-e\n",
      "ant-n\n",
      "ant-s\n",
      "ant-w\n",
      "exit\n",
      "nrock\n",
      "nweb\n",
      "rock\n",
      "void\n",
      "wall\n",
      "web\n",
      "void\n",
      "void\n",
      "void\n"
     ]
    }
   ],
   "source": [
    "for t in Tiles.__dict__.values():\n",
    "    if isinstance(t, Tile):\n",
    "        print(t.name)"
   ]
  },
  {
   "cell_type": "code",
   "execution_count": 91,
   "metadata": {},
   "outputs": [],
   "source": [
    "import inspect"
   ]
  },
  {
   "cell_type": "code",
   "execution_count": 108,
   "metadata": {},
   "outputs": [
    {
     "ename": "AttributeError",
     "evalue": "'Tile' object has no attribute '__dict__'",
     "output_type": "error",
     "traceback": [
      "\u001b[0;31m---------------------------------------------------------------------------\u001b[0m",
      "\u001b[0;31mAttributeError\u001b[0m                            Traceback (most recent call last)",
      "\u001b[0;32m<ipython-input-108-22bb04422a92>\u001b[0m in \u001b[0;36m<module>\u001b[0;34m\u001b[0m\n\u001b[0;32m----> 1\u001b[0;31m \u001b[0mTiles\u001b[0m\u001b[0;34m.\u001b[0m\u001b[0mAnt_E\u001b[0m\u001b[0;34m.\u001b[0m\u001b[0m__dict__\u001b[0m\u001b[0;34m\u001b[0m\u001b[0m\n\u001b[0m",
      "\u001b[0;31mAttributeError\u001b[0m: 'Tile' object has no attribute '__dict__'"
     ]
    }
   ],
   "source": [
    "Tiles.Ant_E.__dict__"
   ]
  },
  {
   "cell_type": "code",
   "execution_count": 93,
   "metadata": {},
   "outputs": [],
   "source": [
    "x=Tiles()"
   ]
  },
  {
   "cell_type": "code",
   "execution_count": 94,
   "metadata": {},
   "outputs": [
    {
     "data": {
      "text/plain": [
       "'ant-e'"
      ]
     },
     "execution_count": 94,
     "metadata": {},
     "output_type": "execute_result"
    }
   ],
   "source": [
    "x.Ant_E.name"
   ]
  },
  {
   "cell_type": "code",
   "execution_count": 107,
   "metadata": {},
   "outputs": [
    {
     "ename": "AttributeError",
     "evalue": "type object 'Tiles' has no attribute 'Tile'",
     "output_type": "error",
     "traceback": [
      "\u001b[0;31m---------------------------------------------------------------------------\u001b[0m",
      "\u001b[0;31mAttributeError\u001b[0m                            Traceback (most recent call last)",
      "\u001b[0;32m<ipython-input-107-e5091c44ae3a>\u001b[0m in \u001b[0;36m<module>\u001b[0;34m\u001b[0m\n\u001b[0;32m----> 1\u001b[0;31m \u001b[0;32mfor\u001b[0m \u001b[0mTile\u001b[0m \u001b[0;32min\u001b[0m \u001b[0mTiles\u001b[0m\u001b[0;34m.\u001b[0m\u001b[0mTile\u001b[0m\u001b[0;34m(\u001b[0m\u001b[0;34m)\u001b[0m\u001b[0;34m:\u001b[0m\u001b[0;34m\u001b[0m\u001b[0m\n\u001b[0m\u001b[1;32m      2\u001b[0m                 \u001b[0mdict1\u001b[0m \u001b[0;34m=\u001b[0m \u001b[0;34m{\u001b[0m \u001b[0mTile\u001b[0m\u001b[0;34m.\u001b[0m\u001b[0mchar\u001b[0m \u001b[0;34m:\u001b[0m \u001b[0mTiles\u001b[0m\u001b[0;34m.\u001b[0m\u001b[0mTile\u001b[0m\u001b[0;34m(\u001b[0m\u001b[0;34m)\u001b[0m\u001b[0;34m}\u001b[0m\u001b[0;34m\u001b[0m\u001b[0m\n",
      "\u001b[0;31mAttributeError\u001b[0m: type object 'Tiles' has no attribute 'Tile'"
     ]
    }
   ],
   "source": [
    "for Tile in Tiles.Tile():\n",
    "                dict1 = { Tile.char : Tiles.Tile()}"
   ]
  },
  {
   "cell_type": "code",
   "execution_count": 96,
   "metadata": {},
   "outputs": [
    {
     "ename": "TypeError",
     "evalue": "'dict' object is not callable",
     "output_type": "error",
     "traceback": [
      "\u001b[0;31m---------------------------------------------------------------------------\u001b[0m",
      "\u001b[0;31mTypeError\u001b[0m                                 Traceback (most recent call last)",
      "\u001b[0;32m<ipython-input-96-6399073d59ba>\u001b[0m in \u001b[0;36m<module>\u001b[0;34m\u001b[0m\n\u001b[0;32m----> 1\u001b[0;31m \u001b[0mx\u001b[0m\u001b[0;34m.\u001b[0m\u001b[0mchar2Tile\u001b[0m\u001b[0;34m(\u001b[0m\u001b[0;34m)\u001b[0m\u001b[0;34m\u001b[0m\u001b[0m\n\u001b[0m",
      "\u001b[0;31mTypeError\u001b[0m: 'dict' object is not callable"
     ]
    }
   ],
   "source": [
    "x.char2Tile()\n"
   ]
  },
  {
   "cell_type": "code",
   "execution_count": 97,
   "metadata": {},
   "outputs": [
    {
     "data": {
      "text/plain": [
       "'void'"
      ]
     },
     "execution_count": 97,
     "metadata": {},
     "output_type": "execute_result"
    }
   ],
   "source": [
    "x.char2N['W']"
   ]
  },
  {
   "cell_type": "code",
   "execution_count": 98,
   "metadata": {},
   "outputs": [],
   "source": [
    "def pouf(s):\n",
    "    \n",
    "    for t in Tiles.__dict__.values():\n",
    "        if isinstance(t, Tile):\n",
    "            if(t.char==s):\n",
    "                return t"
   ]
  },
  {
   "cell_type": "code",
   "execution_count": 105,
   "metadata": {},
   "outputs": [
    {
     "data": {
      "text/plain": [
       "Tile(name='wall', char='o')"
      ]
     },
     "execution_count": 105,
     "metadata": {},
     "output_type": "execute_result"
    }
   ],
   "source": [
    "pouf('o')"
   ]
  },
  {
   "cell_type": "code",
   "execution_count": 106,
   "metadata": {},
   "outputs": [
    {
     "ename": "TypeError",
     "evalue": "pouf() missing 1 required positional argument: 's'",
     "output_type": "error",
     "traceback": [
      "\u001b[0;31m---------------------------------------------------------------------------\u001b[0m",
      "\u001b[0;31mTypeError\u001b[0m                                 Traceback (most recent call last)",
      "\u001b[0;32m<ipython-input-106-b7beb5062104>\u001b[0m in \u001b[0;36m<module>\u001b[0;34m\u001b[0m\n\u001b[1;32m      1\u001b[0m \u001b[0;32mfor\u001b[0m \u001b[0mt\u001b[0m \u001b[0;32min\u001b[0m \u001b[0mTiles\u001b[0m\u001b[0;34m.\u001b[0m\u001b[0m__dict__\u001b[0m\u001b[0;34m.\u001b[0m\u001b[0mvalues\u001b[0m\u001b[0;34m(\u001b[0m\u001b[0;34m)\u001b[0m\u001b[0;34m:\u001b[0m\u001b[0;34m\u001b[0m\u001b[0m\n\u001b[1;32m      2\u001b[0m        \u001b[0;32mif\u001b[0m \u001b[0misinstance\u001b[0m\u001b[0;34m(\u001b[0m\u001b[0mt\u001b[0m\u001b[0;34m,\u001b[0m \u001b[0mTile\u001b[0m\u001b[0;34m)\u001b[0m\u001b[0;34m:\u001b[0m\u001b[0;34m\u001b[0m\u001b[0m\n\u001b[0;32m----> 3\u001b[0;31m            \u001b[0;32mif\u001b[0m\u001b[0;34m(\u001b[0m \u001b[0mpouf\u001b[0m\u001b[0;34m(\u001b[0m\u001b[0;34m)\u001b[0m\u001b[0;34m==\u001b[0m \u001b[0mt\u001b[0m\u001b[0;34m)\u001b[0m\u001b[0;34m:\u001b[0m\u001b[0;34m\u001b[0m\u001b[0m\n\u001b[0m\u001b[1;32m      4\u001b[0m                \u001b[0mprint\u001b[0m \u001b[0;34m(\u001b[0m\u001b[0;34m'youpi'\u001b[0m\u001b[0;34m)\u001b[0m\u001b[0;34m\u001b[0m\u001b[0m\n\u001b[1;32m      5\u001b[0m                \u001b[0mprint\u001b[0m \u001b[0;34m(\u001b[0m\u001b[0mt\u001b[0m\u001b[0;34m.\u001b[0m\u001b[0mname\u001b[0m\u001b[0;34m)\u001b[0m\u001b[0;34m\u001b[0m\u001b[0m\n",
      "\u001b[0;31mTypeError\u001b[0m: pouf() missing 1 required positional argument: 's'"
     ]
    }
   ],
   "source": [
    " for t in Tiles.__dict__.values():\n",
    "        if isinstance(t, Tile):\n",
    "            if( pouf()== t):\n",
    "                print ('youpi')\n",
    "                print (t.name)"
   ]
  },
  {
   "cell_type": "code",
   "execution_count": null,
   "metadata": {},
   "outputs": [],
   "source": []
  },
  {
   "cell_type": "code",
   "execution_count": null,
   "metadata": {},
   "outputs": [],
   "source": []
  }
 ],
 "metadata": {
  "kernelspec": {
   "display_name": "Python 3",
   "language": "python",
   "name": "python3"
  },
  "language_info": {
   "codemirror_mode": {
    "name": "ipython",
    "version": 3
   },
   "file_extension": ".py",
   "mimetype": "text/x-python",
   "name": "python",
   "nbconvert_exporter": "python",
   "pygments_lexer": "ipython3",
   "version": "3.6.6"
  }
 },
 "nbformat": 4,
 "nbformat_minor": 2
}
