{
 "cells": [
  {
   "cell_type": "code",
<<<<<<< HEAD
   "execution_count": 1,
   "metadata": {},
=======
   "execution_count": 175,
   "metadata": {
    "scrolled": true
   },
>>>>>>> c16d6fa85d0913c6d9679f6e6b99dba02dee60d1
   "outputs": [],
   "source": [
    "from enum import Enum\n",
    "from collections import namedtuple\n",
    "import re\n",
    "from collections import namedtuple\n",
    "# import matplotlib.image as mpimg\n",
    "# import matplotlib.pyplot as plt\n",
    "# from PIL import Image \n",
    "import ipywidgets as widgets\n",
    "import os\n",
    "import math\n",
    "from IPython.display import display\n",
    "from ipywidgets import HBox, VBox\n",
    "# import PIL\n",
    "# import numpy as np\n",
    "# import re\n",
    "from IPython.display import Image\n",
<<<<<<< HEAD
    "# from IPython.display import display"
=======
    "# from IPython.display import display\n",
    "import random"
   ]
  },
  {
   "cell_type": "code",
   "execution_count": null,
   "metadata": {},
   "outputs": [],
   "source": []
  },
  {
   "cell_type": "code",
   "execution_count": null,
   "metadata": {},
   "outputs": [],
   "source": [
    "\n"
>>>>>>> c16d6fa85d0913c6d9679f6e6b99dba02dee60d1
   ]
  },
  {
   "cell_type": "code",
<<<<<<< HEAD
   "execution_count": 2,
=======
   "execution_count": 176,
>>>>>>> c16d6fa85d0913c6d9679f6e6b99dba02dee60d1
   "metadata": {},
   "outputs": [],
   "source": [
    "direction = { \"0\":[-1,0], # North  \n",
    "               \"1\":[0,1], #East\n",
    "               \"2\":[1,0],  #South\n",
    "               \"3\":[0,-1]}  #Weast"
   ]
  },
  {
   "cell_type": "code",
<<<<<<< HEAD
   "execution_count": 3,
=======
   "execution_count": 177,
>>>>>>> c16d6fa85d0913c6d9679f6e6b99dba02dee60d1
   "metadata": {},
   "outputs": [],
   "source": [
    "class  board: \n",
    "    def __init__(self,niveau):\n",
    "        self.plateau=niveau\n",
    "    \n",
    "    def get(self,position):\n",
    "        if (position.i<0 or position.j<0 or position.i >= len(self.plateau)or position.j>=len(self.plateau[0])):\n",
    "            return Tiles.Outside\n",
    "        else:\n",
    "            return self.plateau[position.i][position.j] \n",
    "    \n",
    "    def set(self,position,tuile):\n",
    "        if (position.i<0 or position.j<0 or position.i >= len(self.plateau)or position.j>=len(self.plateau[0])):\n",
    "             print('erreur !')   \n",
    "        self.plateau[position.i][position.j]=tuile        \n",
    "        "
   ]
  },
  {
   "cell_type": "code",
<<<<<<< HEAD
   "execution_count": 4,
=======
   "execution_count": 178,
>>>>>>> c16d6fa85d0913c6d9679f6e6b99dba02dee60d1
   "metadata": {},
   "outputs": [],
   "source": [
    "def charger(nom_niveau):\n",
    "    fichier = open(nom_niveau, 'r+')\n",
    "    tab = []\n",
    "    i=0\n",
    "    j=0\n",
    "    stockI=-1\n",
    "\n",
    "\n",
    "    stockJ=-1\n",
    "    dire=0;\n",
    "    for line in fichier:\n",
    "       #mettre une case vide a la place de la fourmi \n",
    "        j=0\n",
    "        bleau=[]\n",
    "        if (len(line)>0 and (line[0] == \"o\" or line[0] ==\".\" or line[0] ==\"x\")):\n",
    "            x = line.split()\n",
    "            for nimportequoi in x: \n",
    "                if (nimportequoi==\"←\"):\n",
    "                    stockI=i\n",
    "                    stockJ=j\n",
    "                    dire=\"3\"\n",
    "                    nimportequoi=\".\"\n",
    "                if (nimportequoi==\"↓\"):\n",
    "                    stockI=i\n",
    "                    stockJ=j\n",
    "                    dire=\"2\"\n",
    "                    nimportequoi=\".\"\n",
    "                if (nimportequoi==\"↑\"): \n",
    "                    stockI=i\n",
    "                    stockJ=j\n",
    "                    dire=\"0\"\n",
    "                    nimportequoi=\".\"\n",
    "                if (nimportequoi ==\"→\"):\n",
    "                    stockI=i\n",
    "                    stockJ=j\n",
    "                    dire=\"1\"\n",
    "                    nimportequoi=\".\"\n",
    "                bleau.append(Tiles.char2Tile[nimportequoi])\n",
    "                j+=1\n",
    "            tab.append(bleau)\n",
    "            i+=1\n",
    "    return [tab,stockI,stockJ,dire]"
   ]
  },
  {
   "cell_type": "code",
<<<<<<< HEAD
   "execution_count": 27,
=======
   "execution_count": 195,
>>>>>>> c16d6fa85d0913c6d9679f6e6b99dba02dee60d1
   "metadata": {},
   "outputs": [],
   "source": [
    "class Labyrinth:\n",
    "    def __init__(self,s):\n",
    "        self.tile = Tiles\n",
    "        self._won = False\n",
    "        self.carry = Tiles.Void\n",
    "        \n",
    "        temp = charger(s)\n",
    "        self.direction = temp[3]\n",
    "        self.board = board(temp[0])\n",
<<<<<<< HEAD
=======
    "        self.randomize()\n",
>>>>>>> c16d6fa85d0913c6d9679f6e6b99dba02dee60d1
    "        self.position = position(temp[1],temp[2])\n",
    "        self.message = \"\"\n",
    "        \n",
    "    \n",
    "    \n",
    "    def dirToAnt(self):\n",
    "        if self.direction ==\"0\":\n",
    "            return Tiles.Ant_N\n",
    "        elif self.direction ==\"1\":\n",
    "            return Tiles.Ant_E\n",
    "        elif self.direction ==\"2\":\n",
    "            return Tiles.Ant_S\n",
    "        elif self.direction ==\"3\":\n",
    "            return Tiles.Ant_W     \n",
    "        \n",
    "    def size(self):\n",
    "        return (len(self.board.plateau),len(self.board.plateau[0]))\n",
    "    \n",
    "    def devant(self):\n",
    "        po = position(self.position.i+int(direction[self.direction][0]),self.position.j+int(direction[self.direction][1]));\n",
    "        return po\n",
    "    \n",
    "    def gauche(self):\n",
    "        self.direction = str((int(self.direction)-1)%4)\n",
    "        self.message = \"\"\n",
    "        return True;\n",
    "    \n",
    "    def droite(self):\n",
    "        self.direction = str((int(self.direction)+1)%4)\n",
    "        self.message = \"\"\n",
    "        return True;\n",
    "    \n",
    "    def avance(self):\n",
    "        tile=self.board.get(self.position)\n",
    "        tile_devant=self.board.get(self.devant())\n",
    "        if(tile==Tiles.Web or tile==Tiles.Exit or tile_devant==Tiles.Outside or tile_devant==Tiles.Exit\n",
    "           or tile_devant==Tiles.Rock or tile_devant==Tiles.Wall):\n",
    "            self.message = \"je ne peux pas avancer.\"\n",
    "            return False\n",
    "        self.message = \"\"\n",
    "        self.position = self.devant()\n",
    "        return True\n",
    "    \n",
    "    def win(self):\n",
    "        self._won=True\n",
    "        message=\"J'ai gagné !\"\n",
    "    \n",
    "    def won(self):\n",
    "        return self._won\n",
    "    \n",
    "    def pose(self):\n",
    "        if (self.carry==self.tile.Rock and (self.regarde()==self.tile.Void or self.regarde()==self.tile.Web \n",
    "                or self.regarde()==self.tile.SmallWeb or self.regarde()==self.tile.SmallRock  )):\n",
    "            self.carry=self.tile.Void\n",
    "            self.board.set(self.devant(),self.tile.Rock)\n",
    "            message=\"\"\n",
    "            return True\n",
    "        message=\"Je ne peux pas poser.\"\n",
    "        return False\n",
    "    \n",
    "    def regarde(self):\n",
    "        message=\"\"\n",
    "        return self.board.get(self.devant())\n",
    "    \n",
    "    def get(self,pos):\n",
    "        if (pos[0] == self.position[0] and pos[1] ==self.position[1]):\n",
    "            return self.dirToAnt()\n",
    "        else:\n",
    "            return self.board.get(pos)\n",
    "    \n",
    "    def ouvre(self):\n",
    "        if self.regarde()!= Tiles.Exit :\n",
    "            message = \"Je ne peux pas ouvrir.\"\n",
    "            return False\n",
    "        if self.carry != Tiles.Void:\n",
    "            message = \"Je ne peux pas ouvrir en portant un objet.\"\n",
    "            return False\n",
    "        self.position = self.devant()\n",
    "        self.win()\n",
    "        return True\n",
    "    \n",
    "    def prend(self):\n",
    "        if (self.carry==self.tile.Void and self.regarde()==self.tile.Rock):\n",
    "            self.carry=self.tile.Rock\n",
    "            self.board.set(self.devant(),self.tile.Void)\n",
    "            message=\"\"\n",
    "            return True\n",
    "        message = \"Je ne peux pas prendre.\"\n",
    "        return False\n",
    "     \n",
    "    def randomize(self):\n",
    "        n_random_rocks=0\n",
    "        n_random_webs=0\n",
    "        for row in self.board.plateau:\n",
    "            for c in row:\n",
    "                if(c==Tiles.RandomRock):\n",
    "                    n_random_rocks =n_random_rocks +1\n",
    "                if(c==Tiles.RandomWeb):\n",
    "                    n_random_webs =n_random_webs +1\n",
    "        r_rock = random.random() % n_random_rocks if n_random_rocks else 0\n",
    "        r_web = random.random() % n_random_webs if n_random_webs else 0\n",
    "        n_random_rocks=0\n",
    "        n_random_webs=0\n",
    "        nRow=0\n",
    "        nC=0\n",
    "        for row in self.board.plateau:\n",
    "            for c in row:\n",
    "                if (c == Tiles.RandomRock):\n",
    "                    if (n_random_rocks == r_rock):\n",
    "                         self.board.plateau[nRow][nC]= Tiles.SmallRock\n",
    "                    else:\n",
    "                        self.board.plateau[nRow][nC] = Tiles.Rock\n",
    "                    n_random_rocks =n_random_rocks +1\n",
    "                \n",
    "                if (c == Tiles.RandomWeb):\n",
    "                    if (n_random_webs == r_web):\n",
    "                        self.board.plateau[nRow][nC] = Tiles.SmallWeb\n",
    "                    else:\n",
    "                        self.board.plateau[nRow][nC] = Tiles.Web\n",
    "                    n_random_webs =n_random_webs +1\n",
    "                nC=nC+1\n",
    "            nRow=nRow+1       \n",
    "            "
   ]
  },
  {
   "cell_type": "code",
<<<<<<< HEAD
   "execution_count": 6,
=======
   "execution_count": 196,
>>>>>>> c16d6fa85d0913c6d9679f6e6b99dba02dee60d1
   "metadata": {},
   "outputs": [],
   "source": [
    "Tile= namedtuple(\"Tile\",[\"name\",\"char\"])"
   ]
  },
  {
   "cell_type": "code",
<<<<<<< HEAD
   "execution_count": 7,
=======
   "execution_count": 197,
>>>>>>> c16d6fa85d0913c6d9679f6e6b99dba02dee60d1
   "metadata": {},
   "outputs": [],
   "source": [
    "# def avance(position,direction):\n",
    "#     position[0],position[1]=position[0]+int(direction[0]),position[1]+direction[1]\n",
    "#     return position"
   ]
  },
  {
   "cell_type": "code",
   "execution_count": 198,
   "metadata": {},
   "outputs": [],
   "source": [
    "class Tiles():\n",
    "        Ant_E=Tile(name=\"ant-e\",char=\"→\")\n",
    "        Ant_N=Tile(name=\"ant-n\",char=\"↑\")\n",
    "        Ant_S=Tile(name=\"ant-s\",char=\"↓\")\n",
    "        Ant_W=Tile(name=\"ant-w\",char=\"←\")\n",
    "        Exit=Tile(name=\"exit\",char=\"x\")\n",
    "        SmallRock=Tile(name=\"nrock\",char=\"ŕ\")\n",
    "        SmallWeb=Tile(name=\"nweb\",char=\"ẃ\")\n",
    "        Rock=Tile(name=\"rock\",char=\"r\")\n",
    "        Void=Tile(name=\"void\",char=\".\")\n",
    "        Wall=Tile(name=\"wall\",char=\"o\")\n",
    "        Web=Tile(name=\"web\",char=\"w\")\n",
    "        Outside=Tile(name=\"void\",char=\" \")\n",
    "        RandomRock=Tile(name=\"void\",char=\"R\")\n",
    "        RandomWeb=Tile(name=\"void\",char=\"W\")\n",
    "        \n",
    "       \n",
    "        \n",
    "        \n",
    "Tiles.char2N=dict()\n",
    "Tiles.char2Tile=dict()\n",
    "for t in Tiles.__dict__.values():\n",
    "    if isinstance(t, Tile):\n",
    "        Tiles.char2N[t.char]=t.name\n",
    "        Tiles.char2Tile[t.char]=t\n",
    "                    \n",
    "\n",
    "Tiles.char2T=dict()\n",
    "p=re.compile('[A-Z]+(\\w)*')\n",
    "for t in Tiles.__dict__.keys() :\n",
    "    z=p.match(t)\n",
    "    if (z!=None):\n",
    "        d=z.group()\n",
    "        Tiles.char2T[getattr(Tiles,t).char]=d"
   ]
  },
  {
   "cell_type": "code",
   "execution_count": 199,
   "metadata": {},
   "outputs": [],
   "source": [
    "position = namedtuple (\"position\",[\"i\",\"j\"])\n",
    "l = Labyrinth(\"share/laby/levels/1a.laby\" )"
   ]
  },
  {
   "cell_type": "code",
   "execution_count": 200,
   "metadata": {},
   "outputs": [
    {
     "data": {
      "text/plain": [
<<<<<<< HEAD
       "__main__.position"
=======
       "<__main__.Labyrinth at 0x7ffb9a1e0760>"
>>>>>>> c16d6fa85d0913c6d9679f6e6b99dba02dee60d1
      ]
     },
     "execution_count": 200,
     "metadata": {},
     "output_type": "execute_result"
    }
   ],
   "source": [
    "position"
   ]
  },
  {
   "cell_type": "code",
   "execution_count": 201,
   "metadata": {},
   "outputs": [
    {
     "data": {
      "text/plain": [
       "<__main__.Labyrinth at 0x7f0a00043e48>"
      ]
     },
     "execution_count": 11,
     "metadata": {},
     "output_type": "execute_result"
    }
   ],
   "source": [
    "l"
   ]
  },
  {
   "cell_type": "code",
   "execution_count": 12,
   "metadata": {},
   "outputs": [],
   "source": [
    "path_level = \"share/laby/levels/\"\n",
    "carte = charger(path_level + \"1a.laby\")"
   ]
  },
  {
   "cell_type": "code",
<<<<<<< HEAD
   "execution_count": 13,
=======
   "execution_count": 202,
>>>>>>> c16d6fa85d0913c6d9679f6e6b99dba02dee60d1
   "metadata": {},
   "outputs": [],
   "source": [
    "til = Tiles()\n"
   ]
  },
  {
   "cell_type": "code",
<<<<<<< HEAD
   "execution_count": 14,
=======
   "execution_count": 203,
>>>>>>> c16d6fa85d0913c6d9679f6e6b99dba02dee60d1
   "metadata": {},
   "outputs": [
    {
     "data": {
      "text/plain": [
       "[[[Tile(name='wall', char='o'),\n",
       "   Tile(name='wall', char='o'),\n",
       "   Tile(name='wall', char='o'),\n",
       "   Tile(name='wall', char='o'),\n",
       "   Tile(name='wall', char='o'),\n",
       "   Tile(name='exit', char='x'),\n",
       "   Tile(name='wall', char='o')],\n",
       "  [Tile(name='wall', char='o'),\n",
       "   Tile(name='void', char='.'),\n",
       "   Tile(name='void', char='.'),\n",
       "   Tile(name='void', char='.'),\n",
       "   Tile(name='void', char='.'),\n",
       "   Tile(name='void', char='.'),\n",
       "   Tile(name='wall', char='o')],\n",
       "  [Tile(name='wall', char='o'),\n",
       "   Tile(name='void', char='.'),\n",
       "   Tile(name='void', char='.'),\n",
       "   Tile(name='void', char='.'),\n",
       "   Tile(name='void', char='.'),\n",
       "   Tile(name='void', char='.'),\n",
       "   Tile(name='wall', char='o')],\n",
       "  [Tile(name='wall', char='o'),\n",
       "   Tile(name='void', char='.'),\n",
       "   Tile(name='void', char='.'),\n",
       "   Tile(name='void', char='.'),\n",
       "   Tile(name='void', char='.'),\n",
       "   Tile(name='void', char='.'),\n",
       "   Tile(name='wall', char='o')],\n",
       "  [Tile(name='wall', char='o'),\n",
       "   Tile(name='wall', char='o'),\n",
       "   Tile(name='wall', char='o'),\n",
       "   Tile(name='wall', char='o'),\n",
       "   Tile(name='wall', char='o'),\n",
       "   Tile(name='wall', char='o'),\n",
       "   Tile(name='wall', char='o')]],\n",
       " 3,\n",
       " 2,\n",
       " '0']"
      ]
     },
<<<<<<< HEAD
     "execution_count": 14,
=======
     "execution_count": 203,
>>>>>>> c16d6fa85d0913c6d9679f6e6b99dba02dee60d1
     "metadata": {},
     "output_type": "execute_result"
    }
   ],
   "source": [
    "carte"
   ]
  },
  {
   "cell_type": "code",
<<<<<<< HEAD
   "execution_count": 15,
   "metadata": {},
   "outputs": [
    {
     "data": {
      "text/plain": [
       "[[[Tile(name='wall', char='o'),\n",
       "   Tile(name='wall', char='o'),\n",
       "   Tile(name='wall', char='o'),\n",
       "   Tile(name='wall', char='o'),\n",
       "   Tile(name='wall', char='o'),\n",
       "   Tile(name='exit', char='x'),\n",
       "   Tile(name='wall', char='o')],\n",
       "  [Tile(name='wall', char='o'),\n",
       "   Tile(name='void', char='.'),\n",
       "   Tile(name='void', char='.'),\n",
       "   Tile(name='void', char='.'),\n",
       "   Tile(name='void', char='.'),\n",
       "   Tile(name='void', char='.'),\n",
       "   Tile(name='wall', char='o')],\n",
       "  [Tile(name='wall', char='o'),\n",
       "   Tile(name='void', char='.'),\n",
       "   Tile(name='void', char='.'),\n",
       "   Tile(name='void', char='.'),\n",
       "   Tile(name='void', char='.'),\n",
       "   Tile(name='void', char='.'),\n",
       "   Tile(name='wall', char='o')],\n",
       "  [Tile(name='wall', char='o'),\n",
       "   Tile(name='void', char='.'),\n",
       "   Tile(name='ant-n', char='↑'),\n",
       "   Tile(name='void', char='.'),\n",
       "   Tile(name='void', char='.'),\n",
       "   Tile(name='void', char='.'),\n",
       "   Tile(name='wall', char='o')],\n",
       "  [Tile(name='wall', char='o'),\n",
       "   Tile(name='wall', char='o'),\n",
       "   Tile(name='wall', char='o'),\n",
       "   Tile(name='wall', char='o'),\n",
       "   Tile(name='wall', char='o'),\n",
       "   Tile(name='wall', char='o'),\n",
       "   Tile(name='wall', char='o')]],\n",
       " 3,\n",
       " 2,\n",
       " '0']"
      ]
     },
     "execution_count": 15,
     "metadata": {},
     "output_type": "execute_result"
    }
   ],
   "source": [
    "carte"
   ]
  },
  {
   "cell_type": "code",
   "execution_count": 16,
=======
   "execution_count": 204,
>>>>>>> c16d6fa85d0913c6d9679f6e6b99dba02dee60d1
   "metadata": {},
   "outputs": [
    {
     "ename": "IndexError",
     "evalue": "list assignment index out of range",
     "output_type": "error",
     "traceback": [
      "\u001b[0;31m---------------------------------------------------------------------------\u001b[0m",
      "\u001b[0;31mIndexError\u001b[0m                                Traceback (most recent call last)",
      "\u001b[0;32m<ipython-input-204-6658ee93e1c9>\u001b[0m in \u001b[0;36m<module>\u001b[0;34m\u001b[0m\n\u001b[0;32m----> 1\u001b[0;31m \u001b[0ml\u001b[0m\u001b[0;34m=\u001b[0m\u001b[0mLabyrinth\u001b[0m\u001b[0;34m(\u001b[0m\u001b[0;34m\"share/laby/levels/this-is-crazy.laby\"\u001b[0m \u001b[0;34m)\u001b[0m\u001b[0;34m\u001b[0m\u001b[0;34m\u001b[0m\u001b[0m\n\u001b[0m",
      "\u001b[0;32m<ipython-input-195-d2737aa6aa0b>\u001b[0m in \u001b[0;36m__init__\u001b[0;34m(self, s)\u001b[0m\n\u001b[1;32m      8\u001b[0m         \u001b[0mself\u001b[0m\u001b[0;34m.\u001b[0m\u001b[0mdirection\u001b[0m \u001b[0;34m=\u001b[0m \u001b[0mtemp\u001b[0m\u001b[0;34m[\u001b[0m\u001b[0;36m3\u001b[0m\u001b[0;34m]\u001b[0m\u001b[0;34m\u001b[0m\u001b[0;34m\u001b[0m\u001b[0m\n\u001b[1;32m      9\u001b[0m         \u001b[0mself\u001b[0m\u001b[0;34m.\u001b[0m\u001b[0mboard\u001b[0m \u001b[0;34m=\u001b[0m \u001b[0mboard\u001b[0m\u001b[0;34m(\u001b[0m\u001b[0mtemp\u001b[0m\u001b[0;34m[\u001b[0m\u001b[0;36m0\u001b[0m\u001b[0;34m]\u001b[0m\u001b[0;34m)\u001b[0m\u001b[0;34m\u001b[0m\u001b[0;34m\u001b[0m\u001b[0m\n\u001b[0;32m---> 10\u001b[0;31m         \u001b[0mself\u001b[0m\u001b[0;34m.\u001b[0m\u001b[0mrandomize\u001b[0m\u001b[0;34m(\u001b[0m\u001b[0;34m)\u001b[0m\u001b[0;34m\u001b[0m\u001b[0;34m\u001b[0m\u001b[0m\n\u001b[0m\u001b[1;32m     11\u001b[0m         \u001b[0mself\u001b[0m\u001b[0;34m.\u001b[0m\u001b[0mposition\u001b[0m \u001b[0;34m=\u001b[0m \u001b[0mposition\u001b[0m\u001b[0;34m(\u001b[0m\u001b[0mtemp\u001b[0m\u001b[0;34m[\u001b[0m\u001b[0;36m1\u001b[0m\u001b[0;34m]\u001b[0m\u001b[0;34m,\u001b[0m\u001b[0mtemp\u001b[0m\u001b[0;34m[\u001b[0m\u001b[0;36m2\u001b[0m\u001b[0;34m]\u001b[0m\u001b[0;34m)\u001b[0m\u001b[0;34m\u001b[0m\u001b[0;34m\u001b[0m\u001b[0m\n\u001b[1;32m     12\u001b[0m         \u001b[0mself\u001b[0m\u001b[0;34m.\u001b[0m\u001b[0mmessage\u001b[0m \u001b[0;34m=\u001b[0m \u001b[0;34m\"\"\u001b[0m\u001b[0;34m\u001b[0m\u001b[0;34m\u001b[0m\u001b[0m\n",
      "\u001b[0;32m<ipython-input-195-d2737aa6aa0b>\u001b[0m in \u001b[0;36mrandomize\u001b[0;34m(self)\u001b[0m\n\u001b[1;32m    127\u001b[0m                         \u001b[0mself\u001b[0m\u001b[0;34m.\u001b[0m\u001b[0mboard\u001b[0m\u001b[0;34m.\u001b[0m\u001b[0mplateau\u001b[0m\u001b[0;34m[\u001b[0m\u001b[0mnRow\u001b[0m\u001b[0;34m]\u001b[0m\u001b[0;34m[\u001b[0m\u001b[0mnC\u001b[0m\u001b[0;34m]\u001b[0m \u001b[0;34m=\u001b[0m \u001b[0mTiles\u001b[0m\u001b[0;34m.\u001b[0m\u001b[0mSmallWeb\u001b[0m\u001b[0;34m\u001b[0m\u001b[0;34m\u001b[0m\u001b[0m\n\u001b[1;32m    128\u001b[0m                     \u001b[0;32melse\u001b[0m\u001b[0;34m:\u001b[0m\u001b[0;34m\u001b[0m\u001b[0;34m\u001b[0m\u001b[0m\n\u001b[0;32m--> 129\u001b[0;31m                         \u001b[0mself\u001b[0m\u001b[0;34m.\u001b[0m\u001b[0mboard\u001b[0m\u001b[0;34m.\u001b[0m\u001b[0mplateau\u001b[0m\u001b[0;34m[\u001b[0m\u001b[0mnRow\u001b[0m\u001b[0;34m]\u001b[0m\u001b[0;34m[\u001b[0m\u001b[0mnC\u001b[0m\u001b[0;34m]\u001b[0m \u001b[0;34m=\u001b[0m \u001b[0mTiles\u001b[0m\u001b[0;34m.\u001b[0m\u001b[0mWeb\u001b[0m\u001b[0;34m\u001b[0m\u001b[0;34m\u001b[0m\u001b[0m\n\u001b[0m\u001b[1;32m    130\u001b[0m                     \u001b[0mn_random_webs\u001b[0m \u001b[0;34m=\u001b[0m\u001b[0mn_random_webs\u001b[0m \u001b[0;34m+\u001b[0m\u001b[0;36m1\u001b[0m\u001b[0;34m\u001b[0m\u001b[0;34m\u001b[0m\u001b[0m\n\u001b[1;32m    131\u001b[0m                 \u001b[0mnC\u001b[0m\u001b[0;34m=\u001b[0m\u001b[0mnC\u001b[0m\u001b[0;34m+\u001b[0m\u001b[0;36m1\u001b[0m\u001b[0;34m\u001b[0m\u001b[0;34m\u001b[0m\u001b[0m\n",
      "\u001b[0;31mIndexError\u001b[0m: list assignment index out of range"
     ]
    }
   ],
   "source": [
    "l=Labyrinth(\"share/laby/levels/1a.laby\" )"
   ]
  },
  {
   "cell_type": "code",
<<<<<<< HEAD
   "execution_count": 17,
   "metadata": {},
   "outputs": [
    {
     "data": {
      "text/plain": [
       "<__main__.Labyrinth at 0x7f0a000492e8>"
      ]
     },
     "execution_count": 17,
     "metadata": {},
     "output_type": "execute_result"
    }
   ],
   "source": [
    "l"
   ]
  },
  {
   "cell_type": "code",
   "execution_count": 18,
=======
   "execution_count": 205,
>>>>>>> c16d6fa85d0913c6d9679f6e6b99dba02dee60d1
   "metadata": {},
   "outputs": [],
   "source": [
    "b=board(charger((\"share/laby/levels/this-is-crazy.laby\" )))"
   ]
  },
  {
   "cell_type": "code",
<<<<<<< HEAD
   "execution_count": 19,
   "metadata": {},
   "outputs": [
    {
     "data": {
      "text/plain": [
       "<__main__.board at 0x7f0a00049ef0>"
      ]
     },
     "execution_count": 19,
     "metadata": {},
     "output_type": "execute_result"
    }
   ],
   "source": [
    "b"
   ]
  },
  {
   "cell_type": "code",
   "execution_count": 20,
   "metadata": {},
   "outputs": [
    {
     "data": {
      "text/plain": [
       "[[Tile(name='wall', char='o'),\n",
       "  Tile(name='wall', char='o'),\n",
       "  Tile(name='wall', char='o'),\n",
       "  Tile(name='wall', char='o'),\n",
       "  Tile(name='wall', char='o'),\n",
       "  Tile(name='exit', char='x'),\n",
       "  Tile(name='wall', char='o')],\n",
       " [Tile(name='wall', char='o'),\n",
       "  Tile(name='void', char='.'),\n",
       "  Tile(name='void', char='.'),\n",
       "  Tile(name='void', char='.'),\n",
       "  Tile(name='void', char='.'),\n",
       "  Tile(name='void', char='.'),\n",
       "  Tile(name='wall', char='o')],\n",
       " [Tile(name='wall', char='o'),\n",
       "  Tile(name='void', char='.'),\n",
       "  Tile(name='void', char='.'),\n",
       "  Tile(name='void', char='.'),\n",
       "  Tile(name='void', char='.'),\n",
       "  Tile(name='void', char='.'),\n",
       "  Tile(name='wall', char='o')],\n",
       " [Tile(name='wall', char='o'),\n",
       "  Tile(name='void', char='.'),\n",
       "  Tile(name='ant-n', char='↑'),\n",
       "  Tile(name='void', char='.'),\n",
       "  Tile(name='void', char='.'),\n",
       "  Tile(name='void', char='.'),\n",
       "  Tile(name='wall', char='o')],\n",
       " [Tile(name='wall', char='o'),\n",
       "  Tile(name='wall', char='o'),\n",
       "  Tile(name='wall', char='o'),\n",
       "  Tile(name='wall', char='o'),\n",
       "  Tile(name='wall', char='o'),\n",
       "  Tile(name='wall', char='o'),\n",
       "  Tile(name='wall', char='o')]]"
      ]
     },
     "execution_count": 20,
     "metadata": {},
     "output_type": "execute_result"
    }
   ],
   "source": [
    "l.board.plateau"
   ]
  },
  {
   "cell_type": "code",
   "execution_count": 21,
=======
   "execution_count": 206,
>>>>>>> c16d6fa85d0913c6d9679f6e6b99dba02dee60d1
   "metadata": {},
   "outputs": [],
   "source": [
    "def affichage_niveau(laby):\n",
    "    carte = laby.board.plateau\n",
    "    items=[]\n",
    "    taille_ligne =0\n",
    "    \n",
    "    for j in range (0,len(carte)):\n",
    "        taille_ligne = len(carte[0])\n",
    "        for i in range (0,len(carte[0])):\n",
    "            if(j==laby.position[0] and i==laby.position[1]):\n",
    "                tuile= laby.dirToAnt()\n",
    "            else:\n",
    "                tuile = l.board.get(position(j,i))\n",
    "            \n",
    "            pof = tuile.name\n",
    "            image = \"include/laby/tiles_png/\" + pof + \".png\"\n",
    "            file = open (image,'rb')\n",
    "            image_lu = file.read()\n",
    "            items.append(widgets.Image(value = image_lu, format='png', layout=widgets.Layout(display=\"flex\",\n",
    "            margin=\"1px\", width=\"100%\"\n",
    "            )))\n",
    "    display(widgets.GridBox(items,layout=widgets.Layout(grid_template_columns=\"repeat(\"+str(taille_ligne)+\", 50px)\")))"
   ]
  },
  {
   "cell_type": "code",
<<<<<<< HEAD
   "execution_count": 26,
   "metadata": {},
=======
   "execution_count": 207,
   "metadata": {
    "scrolled": true
   },
>>>>>>> c16d6fa85d0913c6d9679f6e6b99dba02dee60d1
   "outputs": [
    {
     "data": {
      "application/vnd.jupyter.widget-view+json": {
<<<<<<< HEAD
       "model_id": "61b7a9584a4140669e32296b10cf04ca",
=======
       "model_id": "9f9b402af3234d8f9dfebe24a942ba50",
>>>>>>> c16d6fa85d0913c6d9679f6e6b99dba02dee60d1
       "version_major": 2,
       "version_minor": 0
      },
      "text/plain": [
       "GridBox(children=(Image(value=b'\\x89PNG\\r\\n\\x1a\\n\\x00\\x00\\x00\\rIHDR\\x00\\x00\\x00 \\x00\\x00\\x00 \\x08\\x06\\x00\\x00\\…"
      ]
     },
     "metadata": {},
     "output_type": "display_data"
    }
   ],
   "source": [
    "affichage_niveau(l)"
   ]
  },
  {
   "cell_type": "code",
<<<<<<< HEAD
   "execution_count": 23,
=======
   "execution_count": 192,
>>>>>>> c16d6fa85d0913c6d9679f6e6b99dba02dee60d1
   "metadata": {},
   "outputs": [
    {
     "name": "stdout",
     "output_type": "stream",
     "text": [
      "erreur !!\n"
     ]
    },
    {
     "ename": "IndexError",
     "evalue": "list index out of range",
     "output_type": "error",
     "traceback": [
      "\u001b[0;31m---------------------------------------------------------------------------\u001b[0m",
      "\u001b[0;31mIndexError\u001b[0m                                Traceback (most recent call last)",
      "\u001b[0;32m<ipython-input-192-c3b5e3fb89aa>\u001b[0m in \u001b[0;36m<module>\u001b[0;34m\u001b[0m\n\u001b[0;32m----> 1\u001b[0;31m \u001b[0ml\u001b[0m\u001b[0;34m.\u001b[0m\u001b[0mboard\u001b[0m\u001b[0;34m.\u001b[0m\u001b[0mset\u001b[0m\u001b[0;34m(\u001b[0m\u001b[0mposition\u001b[0m\u001b[0;34m(\u001b[0m\u001b[0;36m9\u001b[0m\u001b[0;34m,\u001b[0m\u001b[0;36m2\u001b[0m\u001b[0;34m)\u001b[0m\u001b[0;34m,\u001b[0m\u001b[0mTiles\u001b[0m\u001b[0;34m.\u001b[0m\u001b[0mRock\u001b[0m\u001b[0;34m)\u001b[0m\u001b[0;34m\u001b[0m\u001b[0;34m\u001b[0m\u001b[0m\n\u001b[0m",
      "\u001b[0;32m<ipython-input-177-9d131d46fe6a>\u001b[0m in \u001b[0;36mset\u001b[0;34m(self, position, tuile)\u001b[0m\n\u001b[1;32m     12\u001b[0m         \u001b[0;32mif\u001b[0m \u001b[0;34m(\u001b[0m\u001b[0mposition\u001b[0m\u001b[0;34m.\u001b[0m\u001b[0mi\u001b[0m\u001b[0;34m<\u001b[0m\u001b[0;36m0\u001b[0m \u001b[0;32mor\u001b[0m \u001b[0mposition\u001b[0m\u001b[0;34m.\u001b[0m\u001b[0mj\u001b[0m\u001b[0;34m<\u001b[0m\u001b[0;36m0\u001b[0m \u001b[0;32mor\u001b[0m \u001b[0mposition\u001b[0m\u001b[0;34m.\u001b[0m\u001b[0mi\u001b[0m \u001b[0;34m>=\u001b[0m \u001b[0mlen\u001b[0m\u001b[0;34m(\u001b[0m\u001b[0mself\u001b[0m\u001b[0;34m.\u001b[0m\u001b[0mplateau\u001b[0m\u001b[0;34m)\u001b[0m\u001b[0;32mor\u001b[0m \u001b[0mposition\u001b[0m\u001b[0;34m.\u001b[0m\u001b[0mj\u001b[0m\u001b[0;34m>=\u001b[0m\u001b[0mlen\u001b[0m\u001b[0;34m(\u001b[0m\u001b[0mself\u001b[0m\u001b[0;34m.\u001b[0m\u001b[0mplateau\u001b[0m\u001b[0;34m[\u001b[0m\u001b[0;36m0\u001b[0m\u001b[0;34m]\u001b[0m\u001b[0;34m)\u001b[0m\u001b[0;34m)\u001b[0m\u001b[0;34m:\u001b[0m\u001b[0;34m\u001b[0m\u001b[0;34m\u001b[0m\u001b[0m\n\u001b[1;32m     13\u001b[0m              \u001b[0mprint\u001b[0m\u001b[0;34m(\u001b[0m\u001b[0;34m'erreur !!'\u001b[0m\u001b[0;34m)\u001b[0m\u001b[0;34m\u001b[0m\u001b[0;34m\u001b[0m\u001b[0m\n\u001b[0;32m---> 14\u001b[0;31m         \u001b[0mself\u001b[0m\u001b[0;34m.\u001b[0m\u001b[0mplateau\u001b[0m\u001b[0;34m[\u001b[0m\u001b[0mposition\u001b[0m\u001b[0;34m.\u001b[0m\u001b[0mi\u001b[0m\u001b[0;34m]\u001b[0m\u001b[0;34m[\u001b[0m\u001b[0mposition\u001b[0m\u001b[0;34m.\u001b[0m\u001b[0mj\u001b[0m\u001b[0;34m]\u001b[0m\u001b[0;34m=\u001b[0m\u001b[0mtuile\u001b[0m\u001b[0;34m\u001b[0m\u001b[0;34m\u001b[0m\u001b[0m\n\u001b[0m\u001b[1;32m     15\u001b[0m \u001b[0;34m\u001b[0m\u001b[0m\n",
      "\u001b[0;31mIndexError\u001b[0m: list index out of range"
     ]
    }
   ],
   "source": [
    "# l.board.set(position(9,2),Tiles.Rock)"
   ]
  },
  {
   "cell_type": "code",
<<<<<<< HEAD
   "execution_count": 25,
=======
   "execution_count": null,
   "metadata": {},
   "outputs": [],
   "source": [
    "l.prend()"
   ]
  },
  {
   "cell_type": "code",
   "execution_count": 193,
   "metadata": {},
   "outputs": [
    {
     "data": {
      "text/plain": [
       "Tile(name='void', char='.')"
      ]
     },
     "execution_count": 193,
     "metadata": {},
     "output_type": "execute_result"
    }
   ],
   "source": [
    "l.regarde()"
   ]
  },
  {
   "cell_type": "code",
   "execution_count": 194,
>>>>>>> c16d6fa85d0913c6d9679f6e6b99dba02dee60d1
   "metadata": {},
   "outputs": [
    {
     "data": {
      "text/plain": [
       "position(i=2, j=2)"
      ]
     },
<<<<<<< HEAD
     "execution_count": 25,
=======
     "execution_count": 194,
>>>>>>> c16d6fa85d0913c6d9679f6e6b99dba02dee60d1
     "metadata": {},
     "output_type": "execute_result"
    }
   ],
   "source": [
<<<<<<< HEAD
    "l.position"
=======
    "l.pose()"
>>>>>>> c16d6fa85d0913c6d9679f6e6b99dba02dee60d1
   ]
  },
  {
   "cell_type": "code",
<<<<<<< HEAD
   "execution_count": 38,
=======
   "execution_count": 58,
>>>>>>> c16d6fa85d0913c6d9679f6e6b99dba02dee60d1
   "metadata": {},
   "outputs": [
    {
     "data": {
      "text/plain": [
<<<<<<< HEAD
       "Tile(name='void', char=' ')"
      ]
     },
     "execution_count": 38,
=======
       "Tile(name='ant-e', char='→')"
      ]
     },
     "execution_count": 58,
>>>>>>> c16d6fa85d0913c6d9679f6e6b99dba02dee60d1
     "metadata": {},
     "output_type": "execute_result"
    }
   ],
   "source": [
    "l.dirToAnt()"
   ]
  },
  {
   "cell_type": "code",
<<<<<<< HEAD
   "execution_count": 25,
   "metadata": {
    "scrolled": true
   },
=======
   "execution_count": 79,
   "metadata": {},
>>>>>>> c16d6fa85d0913c6d9679f6e6b99dba02dee60d1
   "outputs": [
    {
     "data": {
      "text/plain": [
       "True"
      ]
     },
<<<<<<< HEAD
     "execution_count": 25,
=======
     "execution_count": 79,
>>>>>>> c16d6fa85d0913c6d9679f6e6b99dba02dee60d1
     "metadata": {},
     "output_type": "execute_result"
    }
   ],
   "source": [
    "l.avance()"
   ]
  },
  {
   "cell_type": "code",
   "execution_count": 26,
   "metadata": {},
   "outputs": [
    {
     "data": {
      "text/plain": [
       "True"
      ]
     },
     "execution_count": 26,
     "metadata": {},
     "output_type": "execute_result"
    }
   ],
   "source": [
    "l.droite()"
   ]
  },
  {
   "cell_type": "code",
   "execution_count": 39,
   "metadata": {},
   "outputs": [
    {
     "data": {
      "text/plain": [
       "position(i=1, j=5)"
      ]
     },
     "execution_count": 39,
     "metadata": {},
     "output_type": "execute_result"
    }
   ],
   "source": [
    "l.position"
   ]
  },
  {
   "cell_type": "code",
   "execution_count": 24,
   "metadata": {},
   "outputs": [
    {
     "data": {
      "text/plain": [
       "True"
      ]
     },
     "execution_count": 24,
     "metadata": {},
     "output_type": "execute_result"
    }
   ],
   "source": [
    "l.avance()"
   ]
  },
  {
   "cell_type": "code",
   "execution_count": 35,
   "metadata": {},
   "outputs": [
    {
     "data": {
      "text/plain": [
       "True"
      ]
     },
     "execution_count": 35,
     "metadata": {},
     "output_type": "execute_result"
    }
   ],
   "source": [
    "l.ouvre()"
   ]
  },
  {
   "cell_type": "code",
   "execution_count": 31,
   "metadata": {},
   "outputs": [
    {
     "data": {
      "text/plain": [
       "True"
      ]
     },
     "execution_count": 31,
     "metadata": {},
     "output_type": "execute_result"
    }
   ],
   "source": [
    "l.gauche()"
   ]
  },
  {
   "cell_type": "code",
   "execution_count": null,
   "metadata": {},
   "outputs": [],
   "source": []
  },
  {
   "cell_type": "code",
   "execution_count": null,
   "metadata": {},
   "outputs": [],
   "source": []
  },
  {
   "cell_type": "code",
   "execution_count": null,
   "metadata": {},
   "outputs": [],
   "source": []
  }
 ],
 "metadata": {
  "kernelspec": {
   "display_name": "Python 3",
   "language": "python",
   "name": "python3"
  },
  "language_info": {
   "codemirror_mode": {
    "name": "ipython",
    "version": 3
   },
   "file_extension": ".py",
   "mimetype": "text/x-python",
   "name": "python",
   "nbconvert_exporter": "python",
   "pygments_lexer": "ipython3",
   "version": "3.8.2"
  }
 },
 "nbformat": 4,
 "nbformat_minor": 2
}
