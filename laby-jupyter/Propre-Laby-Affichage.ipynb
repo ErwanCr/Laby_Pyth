{
 "cells": [
  {
   "cell_type": "code",
   "execution_count": 233,
   "metadata": {
    "scrolled": true
   },
   "outputs": [],
   "source": [
    "from enum import Enum\n",
    "from collections import namedtuple\n",
    "import re\n",
    "from collections import namedtuple\n",
    "# import matplotlib.image as mpimg\n",
    "# import matplotlib.pyplot as plt\n",
    "# from PIL import Image \n",
    "import ipywidgets as widgets\n",
    "import os\n",
    "import math\n",
    "from IPython.display import display\n",
    "from ipywidgets import HBox, VBox\n",
    "# import PIL\n",
    "# import numpy as np\n",
    "# import re\n",
    "from IPython.display import Image\n",
    "# from IPython.display import display\n",
    "import random\n",
    "\n",
    "# %run laby.py\n",
    "#import => mieu mais a voir comment tous marche "
   ]
  },
  {
   "cell_type": "code",
   "execution_count": 234,
   "metadata": {},
   "outputs": [],
   "source": [
    "##import le tous"
   ]
  },
  {
   "cell_type": "code",
   "execution_count": null,
   "metadata": {},
   "outputs": [],
   "source": [
    "\n"
   ]
  },
  {
   "cell_type": "code",
   "execution_count": 235,
   "metadata": {},
   "outputs": [],
   "source": [
    "direction = { \"0\":[-1,0], # North  \n",
    "               \"1\":[0,1], #East\n",
    "               \"2\":[1,0],  #South\n",
    "               \"3\":[0,-1]}  #Weast"
   ]
  },
  {
   "cell_type": "code",
   "execution_count": 236,
   "metadata": {},
   "outputs": [],
   "source": [
    "class  board: \n",
    "    def __init__(self,niveau):\n",
    "        self.plateau=niveau\n",
    "    \n",
    "    def get(self,position):\n",
    "        if (position.i<0 or position.j<0 or position.i >= len(self.plateau)or position.j>=len(self.plateau[0])):\n",
    "            return Tiles.Outside\n",
    "        else:\n",
    "            return self.plateau[position.i][position.j] \n",
    "    \n",
    "    def set(self,position,tuile):\n",
    "        if (position.i<0 or position.j<0 or position.i >= len(self.plateau)or position.j>=len(self.plateau[0])):\n",
    "             print('erreur !!')   \n",
    "        self.plateau[position.i][position.j]=tuile        \n",
    "        "
   ]
  },
  {
   "cell_type": "code",
   "execution_count": 237,
   "metadata": {},
   "outputs": [],
   "source": [
    "def charger(nom_niveau):\n",
    "    fichier = open(nom_niveau, 'r+')\n",
    "    tab = []\n",
    "    i=0\n",
    "    j=0\n",
    "    stockI=-1\n",
    "\n",
    "\n",
    "    stockJ=-1\n",
    "    dire=0;\n",
    "    for line in fichier:\n",
    "        \n",
    "        j=0\n",
    "        bleau=[]\n",
    "        if (len(line)>0 and (line[0] == \"o\" or line[0] ==\".\" or line[0] ==\"x\")):\n",
    "            x = line.split()\n",
    "            for nimportequoi in x: \n",
    "                if (nimportequoi==\"←\"):\n",
    "                    stockI=i\n",
    "                    stockJ=j\n",
    "                    dire=\"3\"\n",
    "                    nimportequoi=\".\"\n",
    "                if (nimportequoi==\"↓\"):\n",
    "                    stockI=i\n",
    "                    stockJ=j\n",
    "                    dire=\"2\"\n",
    "                    nimportequoi=\".\"\n",
    "                if (nimportequoi==\"↑\"): \n",
    "                    stockI=i\n",
    "                    stockJ=j\n",
    "                    dire=\"0\"\n",
    "                    nimportequoi=\".\"\n",
    "                if (nimportequoi ==\"→\"):\n",
    "                    stockI=i\n",
    "                    stockJ=j\n",
    "                    dire=\"1\"\n",
    "                    nimportequoi=\".\"\n",
    "                bleau.append(Tiles.char2Tile[nimportequoi])\n",
    "                j+=1\n",
    "            tab.append(bleau)\n",
    "            i+=1\n",
    "    return [tab,stockI,stockJ,dire]"
   ]
  },
  {
   "cell_type": "code",
   "execution_count": 238,
   "metadata": {},
   "outputs": [],
   "source": [
    "class Labyrinth:\n",
    "    def __init__(self,s):\n",
    "        self.tile = Tiles\n",
    "        self._won = False\n",
    "        self.carry = Tiles.Void\n",
    "        \n",
    "        temp = charger(s)\n",
    "        self.direction = temp[3]\n",
    "        self.board = board(temp[0])\n",
    "        self.randomize()\n",
    "        self.position = position(temp[1],temp[2])\n",
    "        self.message = \"\"\n",
    "        \n",
    "    \n",
    "    \n",
    "    def dirToAnt(self):\n",
    "        if self.direction ==\"0\":\n",
    "            return Tiles.Ant_N\n",
    "        elif self.direction ==\"1\":\n",
    "            return Tiles.Ant_E\n",
    "        elif self.direction ==\"2\":\n",
    "            return Tiles.Ant_S\n",
    "        elif self.direction ==\"3\":\n",
    "            return Tiles.Ant_W     \n",
    "        \n",
    "    def size(self):\n",
    "        return (len(self.board.plateau),len(self.board.plateau[0]))\n",
    "    \n",
    "    def devant(self):\n",
    "        po = position(self.position.i+int(direction[self.direction][0]),self.position.j+int(direction[self.direction][1]));\n",
    "        return po\n",
    "    \n",
    "    def gauche(self):\n",
    "        self.direction = str((int(self.direction)-1)%4)\n",
    "        self.message = \"\"\n",
    "        return True;\n",
    "    \n",
    "    def droite(self):\n",
    "        self.direction = str((int(self.direction)+1)%4)\n",
    "        self.message = \"\"\n",
    "        return True;\n",
    "    \n",
    "    def avance(self):\n",
    "        tile=self.board.get(self.position)\n",
    "        tile_devant=self.board.get(self.devant())\n",
    "        if(tile==Tiles.Web or tile==Tiles.Exit or tile_devant==Tiles.Outside or tile_devant==Tiles.Exit\n",
    "           or tile_devant==Tiles.Rock or tile_devant==Tiles.Wall):\n",
    "            self.message = \"je ne peux pas avancer.\"\n",
    "            return False\n",
    "        self.message = \"\"\n",
    "        self.position = self.devant()\n",
    "        return True\n",
    "    \n",
    "    def win(self):\n",
    "        self._won=True\n",
    "        message=\"J'ai gagné !\"\n",
    "    \n",
    "    def won(self):\n",
    "        return self._won\n",
    "    \n",
    "    def pose(self):\n",
    "        if (self.carry==self.tile.Rock and (self.regarde()==self.tile.Void or self.regarde()==self.tile.Web \n",
    "                or self.regarde()==self.tile.SmallWeb or self.regarde()==self.tile.SmallRock  )):\n",
    "            self.carry=self.tile.Void\n",
    "            self.board.set(self.devant(),self.tile.Rock)\n",
    "            message=\"\"\n",
    "            return True\n",
    "        message=\"Je ne peux pas poser.\"\n",
    "        return False\n",
    "    \n",
    "    def regarde(self):\n",
    "        message=\"\"\n",
    "        return self.board.get(self.devant())\n",
    "    \n",
    "    def get(self,pos):\n",
    "        if (pos[0] == self.position[0] and pos[1] ==self.position[1]):\n",
    "            return self.dirToAnt()\n",
    "        else:\n",
    "            return self.board.get(pos)\n",
    "    \n",
    "    def ouvre(self):\n",
    "        if self.regarde()!= Tiles.Exit :\n",
    "            message = \"Je ne peux pas ouvrir.\"\n",
    "            return False\n",
    "        if self.carry != Tiles.Void:\n",
    "            message = \"Je ne peux pas ouvrir en portant un objet.\"\n",
    "            return False\n",
    "        self.position = self.devant()\n",
    "        self.win()\n",
    "        return True\n",
    "    \n",
    "    def prend(self):\n",
    "        if (self.carry==self.tile.Void and self.regarde()==self.tile.Rock):\n",
    "            self.carry=self.tile.Rock\n",
    "            self.board.set(self.devant(),self.tile.Void)\n",
    "            message=\"\"\n",
    "            return True\n",
    "        message = \"Je ne peux pas prendre.\"\n",
    "        return False\n",
    "     \n",
    "    def randomize(self):\n",
    "        n_random_rocks=0\n",
    "        n_random_webs=0\n",
    "        for row in self.board.plateau:\n",
    "            for c in row:\n",
    "                if(c==Tiles.RandomRock):\n",
    "                    n_random_rocks =n_random_rocks +1\n",
    "                if(c==Tiles.RandomWeb):\n",
    "                    n_random_webs =n_random_webs +1\n",
    "        r_rock =math.floor( random.random()*25 % n_random_rocks) if n_random_rocks else 0\n",
    "        r_web = math.floor( random.random()*25 % n_random_webs) if n_random_webs else 0\n",
    "        n_random_rocks=0\n",
    "        n_random_webs=0\n",
    "        nRow=0\n",
    "        \n",
    "        for row in self.board.plateau:\n",
    "            nC=0 \n",
    "            for c in row:\n",
    "                if (c == Tiles.RandomRock):\n",
    "                    if (n_random_rocks == r_rock):\n",
    "                         self.board.plateau[nRow][nC] = Tiles.SmallRock\n",
    "                    else:\n",
    "                        self.board.plateau[nRow][nC] = Tiles.Rock\n",
    "                    n_random_rocks =n_random_rocks +1\n",
    "                \n",
    "                if (c == Tiles.RandomWeb):\n",
    "                    if (n_random_webs == r_web):\n",
    "                        self.board.plateau[nRow][nC] = Tiles.SmallWeb\n",
    "                    else:\n",
    "                        self.board.plateau[nRow][nC] = Tiles.Web\n",
    "                    n_random_webs =n_random_webs +1\n",
    "                nC=nC+1\n",
    "               \n",
    "            nRow=nRow+1       \n",
    "            "
   ]
  },
  {
   "cell_type": "code",
   "execution_count": 239,
   "metadata": {
    "scrolled": true
   },
   "outputs": [
    {
     "data": {
      "text/plain": [
       "[(0, 'a'), (1, 'b'), (2, 'c')]"
      ]
     },
     "execution_count": 239,
     "metadata": {},
     "output_type": "execute_result"
    }
   ],
   "source": [
    "list( enumerate(['a','b','c']))"
   ]
  },
  {
   "cell_type": "code",
   "execution_count": 240,
   "metadata": {
    "scrolled": true
   },
   "outputs": [
    {
     "name": "stdout",
     "output_type": "stream",
     "text": [
      "0\n",
      "1\n",
      "2\n"
     ]
    }
   ],
   "source": [
    "for nRow, row in enumerate(['a','b','c']):\n",
    "    print (nRow)"
   ]
  },
  {
   "cell_type": "code",
   "execution_count": 266,
   "metadata": {},
   "outputs": [],
   "source": [
    "r_rock =math.floor( random.random()*25 % n_random_rocks) if n_random_rocks else 0"
   ]
  },
  {
   "cell_type": "code",
   "execution_count": 267,
   "metadata": {},
   "outputs": [
    {
     "name": "stdout",
     "output_type": "stream",
     "text": [
      "0\n"
     ]
    }
   ],
   "source": [
    "print(r_rock)"
   ]
  },
  {
   "cell_type": "code",
   "execution_count": 241,
   "metadata": {},
   "outputs": [],
   "source": [
    "Tile= namedtuple(\"Tile\",[\"name\",\"char\"])"
   ]
  },
  {
   "cell_type": "code",
   "execution_count": 242,
   "metadata": {},
   "outputs": [],
   "source": [
    "def avance(position,direction):\n",
    "    position[0],position[1]=position[0]+int(direction[0]),position[1]+direction[1]\n",
    "    return position"
   ]
  },
  {
   "cell_type": "code",
   "execution_count": 243,
   "metadata": {},
   "outputs": [],
   "source": [
    "class Tiles():\n",
    "        Ant_E=Tile(name=\"ant-e\",char=\"→\")\n",
    "        Ant_N=Tile(name=\"ant-n\",char=\"↑\")\n",
    "        Ant_S=Tile(name=\"ant-s\",char=\"↓\")\n",
    "        Ant_W=Tile(name=\"ant-w\",char=\"←\")\n",
    "        Exit=Tile(name=\"exit\",char=\"x\")\n",
    "        SmallRock=Tile(name=\"nrock\",char=\"ŕ\")\n",
    "        SmallWeb=Tile(name=\"nweb\",char=\"ẃ\")\n",
    "        Rock=Tile(name=\"rock\",char=\"r\")\n",
    "        Void=Tile(name=\"void\",char=\".\")\n",
    "        Wall=Tile(name=\"wall\",char=\"o\")\n",
    "        Web=Tile(name=\"web\",char=\"w\")\n",
    "        Outside=Tile(name=\"void\",char=\" \")\n",
    "        RandomRock=Tile(name=\"void\",char=\"R\")\n",
    "        RandomWeb=Tile(name=\"void\",char=\"W\")\n",
    "        \n",
    "       \n",
    "        \n",
    "        \n",
    "Tiles.char2N=dict()\n",
    "Tiles.char2Tile=dict()\n",
    "for t in Tiles.__dict__.values():\n",
    "    if isinstance(t, Tile):\n",
    "        Tiles.char2N[t.char]=t.name\n",
    "        Tiles.char2Tile[t.char]=t\n",
    "                    \n",
    "\n",
    "Tiles.char2T=dict()\n",
    "p=re.compile('[A-Z]+(\\w)*')\n",
    "for t in Tiles.__dict__.keys() :\n",
    "    z=p.match(t)\n",
    "    if (z!=None):\n",
    "        d=z.group()\n",
    "        Tiles.char2T[getattr(Tiles,t).char]=d"
   ]
  },
  {
   "cell_type": "code",
   "execution_count": 244,
   "metadata": {},
   "outputs": [],
   "source": [
    "position = namedtuple (\"position\",[\"i\",\"j\"])\n",
    "l = Labyrinth(\"share/laby/levels/this-is-crazy.laby\" )"
   ]
  },
  {
   "cell_type": "code",
   "execution_count": 245,
   "metadata": {},
   "outputs": [
    {
     "data": {
      "text/plain": [
       "<__main__.Labyrinth at 0x7f2bf0a57d30>"
      ]
     },
     "execution_count": 245,
     "metadata": {},
     "output_type": "execute_result"
    }
   ],
   "source": [
    "l"
   ]
  },
  {
   "cell_type": "code",
   "execution_count": null,
   "metadata": {},
   "outputs": [],
   "source": [
    "\n"
   ]
  },
  {
   "cell_type": "code",
   "execution_count": null,
   "metadata": {},
   "outputs": [],
   "source": []
  },
  {
   "cell_type": "code",
   "execution_count": null,
   "metadata": {},
   "outputs": [],
   "source": []
  },
  {
   "cell_type": "code",
   "execution_count": 246,
   "metadata": {},
   "outputs": [],
   "source": [
    "l=Labyrinth(\"share/laby/levels/this-is-crazy.laby\" )"
   ]
  },
  {
   "cell_type": "code",
   "execution_count": null,
   "metadata": {},
   "outputs": [],
   "source": []
  },
  {
   "cell_type": "code",
   "execution_count": 247,
   "metadata": {},
   "outputs": [],
   "source": [
    "def affichage_niveau_recursif(laby):\n",
    "    carte = laby.board.plateau\n",
    "    items=[]\n",
    "    taille_ligne =0\n",
    "    \n",
    "    for j in range (0,len(carte)):\n",
    "        taille_ligne = len(carte[0])\n",
    "        for i in range (0,len(carte[0])):\n",
    "            if(j==laby.position[0] and i==laby.position[1]):\n",
    "                tuile= laby.dirToAnt()\n",
    "            else:\n",
    "                tuile = l.board.get(position(j,i))\n",
    "            \n",
    "            pof = tuile.name\n",
    "            image = \"include/laby/tiles_png/\" + pof + \".png\"\n",
    "            file = open (image,'rb')\n",
    "            image_lu = file.read()\n",
    "            items.append(widgets.Image(value = image_lu, format='png', layout=widgets.Layout(display=\"flex\",\n",
    "            margin=\"1px\", width=\"100%\"\n",
    "            )))\n",
    "    display(widgets.GridBox(items,layout=widgets.Layout(grid_template_columns=\"repeat(\"+str(taille_ligne)+\", 50px)\")))"
   ]
  },
  {
   "cell_type": "code",
   "execution_count": 248,
   "metadata": {
    "scrolled": true
   },
   "outputs": [
    {
     "data": {
      "application/vnd.jupyter.widget-view+json": {
       "model_id": "762a368b8f314021823699b67d6df115",
       "version_major": 2,
       "version_minor": 0
      },
      "text/plain": [
       "GridBox(children=(Image(value=b'\\x89PNG\\r\\n\\x1a\\n\\x00\\x00\\x00\\rIHDR\\x00\\x00\\x00 \\x00\\x00\\x00 \\x08\\x06\\x00\\x00\\…"
      ]
     },
     "metadata": {},
     "output_type": "display_data"
    }
   ],
   "source": [
    "affichage_niveau_recursif(l)"
   ]
  },
  {
   "cell_type": "code",
   "execution_count": 249,
   "metadata": {},
   "outputs": [],
   "source": [
    "l.board.set(position(9,2),Tiles.Rock)"
   ]
  },
  {
   "cell_type": "code",
   "execution_count": 250,
   "metadata": {},
   "outputs": [
    {
     "data": {
      "text/plain": [
       "True"
      ]
     },
     "execution_count": 250,
     "metadata": {},
     "output_type": "execute_result"
    }
   ],
   "source": [
    "l.prend()"
   ]
  },
  {
   "cell_type": "code",
   "execution_count": 211,
   "metadata": {},
   "outputs": [
    {
     "data": {
      "text/plain": [
       "Tile(name='void', char='.')"
      ]
     },
     "execution_count": 211,
     "metadata": {},
     "output_type": "execute_result"
    }
   ],
   "source": [
    "l.regarde()"
   ]
  },
  {
   "cell_type": "code",
   "execution_count": 200,
   "metadata": {},
   "outputs": [
    {
     "data": {
      "text/plain": [
       "True"
      ]
     },
     "execution_count": 200,
     "metadata": {},
     "output_type": "execute_result"
    }
   ],
   "source": [
    "l.pose()"
   ]
  },
  {
   "cell_type": "code",
   "execution_count": 201,
   "metadata": {},
   "outputs": [
    {
     "data": {
      "text/plain": [
       "Tile(name='ant-e', char='→')"
      ]
     },
     "execution_count": 201,
     "metadata": {},
     "output_type": "execute_result"
    }
   ],
   "source": [
    "l.dirToAnt()"
   ]
  },
  {
   "cell_type": "code",
   "execution_count": 202,
   "metadata": {},
   "outputs": [
    {
     "data": {
      "text/plain": [
       "False"
      ]
     },
     "execution_count": 202,
     "metadata": {},
     "output_type": "execute_result"
    }
   ],
   "source": [
    "l.avance()"
   ]
  },
  {
   "cell_type": "code",
   "execution_count": 203,
   "metadata": {},
   "outputs": [
    {
     "data": {
      "text/plain": [
       "True"
      ]
     },
     "execution_count": 203,
     "metadata": {},
     "output_type": "execute_result"
    }
   ],
   "source": [
    "l.droite()"
   ]
  },
  {
   "cell_type": "code",
   "execution_count": null,
   "metadata": {},
   "outputs": [],
   "source": []
  },
  {
   "cell_type": "code",
   "execution_count": null,
   "metadata": {},
   "outputs": [],
   "source": []
  }
 ],
 "metadata": {
  "kernelspec": {
   "display_name": "Python 3",
   "language": "python",
   "name": "python3"
  },
  "language_info": {
   "codemirror_mode": {
    "name": "ipython",
    "version": 3
   },
   "file_extension": ".py",
   "mimetype": "text/x-python",
   "name": "python",
   "nbconvert_exporter": "python",
   "pygments_lexer": "ipython3",
   "version": "3.8.2"
  }
 },
 "nbformat": 4,
 "nbformat_minor": 2
}
