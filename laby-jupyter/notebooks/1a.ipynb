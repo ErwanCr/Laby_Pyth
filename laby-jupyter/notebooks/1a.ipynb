{
 "cells": [
  {
   "cell_type": "markdown",
   "metadata": {},
   "source": [
    "# Laby, niveau 1a: à vous de jouer!\n",
    "Exécutez la cellule suivante pour faire apparaîtree le premier défi. On commence doucement, sans obstacles. À vous de compléter le programme dans la cellule du dessous pour diriger la fourmi vers la sortie. Revenez au niveau précédent pour avoir un exemple, et consultez la [documentation](0b.ipynb#Documentation).\n",
    "\n",
    "[Niveau précédent](0b.ipynb), [Liste des niveaux](./), [Niveau suivant](1b.ipynb)"
   ]
  },
  {
   "cell_type": "code",
   "execution_count": 1,
   "metadata": {},
   "outputs": [
    {
     "data": {
      "application/vnd.jupyter.widget-view+json": {
       "model_id": "97fe38d08b0a4ee3a0f964f89a2ada9c",
       "version_major": 2,
       "version_minor": 0
      },
      "text/plain": [
       "A Jupyter widget"
      ]
     },
     "metadata": {},
     "output_type": "display_data"
    }
   ],
   "source": [
    "#include <laby/global_fr.hpp>\n",
    "LABY(\"1a\")"
   ]
  },
  {
   "cell_type": "code",
   "execution_count": null,
   "metadata": {},
   "outputs": [],
   "source": [
    "debut();\n",
    "avance();\n",
    "droite();\n",
    "\n",
    "\n",
    "\n",
    "\n"
   ]
  }
 ],
 "metadata": {
  "kernelspec": {
   "display_name": "C++17",
   "language": "C++17",
   "name": "xcpp17"
  },
  "language_info": {
   "codemirror_mode": "text/x-c++src",
   "file_extension": ".cpp",
   "mimetype": "text/x-c++src",
   "name": "c++",
   "version": "-std=c++17"
  }
 },
 "nbformat": 4,
 "nbformat_minor": 2
}
