{
 "cells": [
  {
   "cell_type": "markdown",
   "metadata": {
    "nbgrader": {
     "grade": false,
     "grade_id": "cell-04cf005bf031f785",
     "locked": true,
     "schema_version": 1,
     "solution": false
    }
   },
   "source": [
    "# Laby, niveau 3a: Ahhh des toiles!\n",
    "\n",
    "[Niveau précédent](2c.ipynb), [Liste des niveaux](./), [Niveau suivant](3b.ipynb), [Documentation](0b.ipynb#Documentation)"
   ]
  },
  {
   "cell_type": "code",
   "execution_count": 1,
   "metadata": {
    "nbgrader": {
     "grade": false,
     "grade_id": "cell-2e4c8283064d1948",
     "locked": true,
     "schema_version": 1,
     "solution": false
    }
   },
   "outputs": [
    {
     "data": {
      "application/vnd.jupyter.widget-view+json": {
       "model_id": "63189ac8f1aa46a89f98b32152ca540d",
       "version_major": 2,
       "version_minor": 0
      },
      "text/plain": [
       "A Jupyter widget"
      ]
     },
     "metadata": {},
     "output_type": "display_data"
    }
   ],
   "source": [
    "#include <laby/global_fr.hpp>\n",
    "LABY(\"3a\")"
   ]
  },
  {
   "cell_type": "code",
   "execution_count": 2,
   "metadata": {
    "nbgrader": {
     "grade": false,
     "grade_id": "cell-ee0bc3bdd2822774",
     "locked": false,
     "schema_version": 1,
     "solution": true
    }
   },
   "outputs": [],
   "source": [
    "debut();\n",
    "/// BEGIN SOLUTION\n",
    "droite();\n",
    "avance();\n",
    "gauche();\n",
    "\n",
    "if ( regarde() == Toile ) {\n",
    "  gauche();\n",
    "  avance();\n",
    "  avance();\n",
    "  droite();\n",
    "  avance();\n",
    "  avance();\n",
    "  droite();\n",
    "  avance();\n",
    "  gauche();\n",
    "} else {\n",
    "  avance();\n",
    "  avance();\n",
    "  gauche();\n",
    "  avance();\n",
    "  droite();\n",
    "}\n",
    "/// END SOLUTION\n",
    "ouvre();\n"
   ]
  },
  {
   "cell_type": "code",
   "execution_count": 3,
   "metadata": {
    "nbgrader": {
     "grade": true,
     "grade_id": "cell-84686b457d65a88a",
     "locked": true,
     "points": 1,
     "schema_version": 1,
     "solution": false
    }
   },
   "outputs": [],
   "source": [
    "ASSERT( a_gagne());"
   ]
  }
 ],
 "metadata": {
  "celltoolbar": "Create Assignment",
  "kernelspec": {
   "display_name": "C++17",
   "language": "C++17",
   "name": "xcpp17"
  },
  "language_info": {
   "codemirror_mode": "text/x-c++src",
   "file_extension": ".cpp",
   "mimetype": "text/x-c++src",
   "name": "c++",
   "version": "-std=c++17"
  }
 },
 "nbformat": 4,
 "nbformat_minor": 2
}
