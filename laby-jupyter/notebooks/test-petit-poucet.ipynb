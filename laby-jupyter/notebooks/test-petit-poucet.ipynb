{
 "cells": [
  {
   "cell_type": "code",
   "execution_count": 4,
   "metadata": {},
   "outputs": [],
   "source": [
    "#include <laby/global_fr.hpp>\n",
    "std::string empty_labyrinth(int n, int m) {\n",
    "    std::string s;    \n",
    "    s = \"\";\n",
    "    for (int i=0; i<n+2; i++) {\n",
    "        s += \"o \";\n",
    "        for (int j=1; j<m; j++)\n",
    "            if ( i == 1 and j == 1)\n",
    "                s  = s + u8\"→ \";\n",
    "            else if ( i == 0 or i == n+1 )\n",
    "                s += \"o \";\n",
    "            else\n",
    "                s += \". \";\n",
    "        s += \"o\\n\";\n",
    "    }\n",
    "    return s;\n",
    "}\n"
   ]
  },
  {
   "cell_type": "code",
   "execution_count": 8,
   "metadata": {},
   "outputs": [
    {
     "data": {
      "application/vnd.jupyter.widget-view+json": {
       "model_id": "023466f81a834b52abf05979f76a444f",
       "version_major": 2,
       "version_minor": 0
      },
      "text/plain": [
       "A Jupyter widget"
      ]
     },
     "metadata": {},
     "output_type": "display_data"
    }
   ],
   "source": [
    "LABY_BAR(empty_labyrinth(5,10))"
   ]
  },
  {
   "cell_type": "code",
   "execution_count": 13,
   "metadata": {},
   "outputs": [],
   "source": [
    "debut();\n",
    "for (int i=0; i<5; i++) {\n",
    "    seme();\n",
    "    avance();\n",
    "}"
   ]
  }
 ],
 "metadata": {
  "kernelspec": {
   "display_name": "C++17",
   "language": "C++17",
   "name": "xcpp17"
  },
  "language_info": {
   "codemirror_mode": "text/x-c++src",
   "file_extension": ".cpp",
   "mimetype": "text/x-c++src",
   "name": "c++",
   "version": "-std=c++17"
  }
 },
 "nbformat": 4,
 "nbformat_minor": 2
}
