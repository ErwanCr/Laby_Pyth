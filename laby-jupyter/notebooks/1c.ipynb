{
 "cells": [
  {
   "cell_type": "markdown",
   "metadata": {},
   "source": [
    "# Laby, niveau 1c: Encore un !\n",
    "\n",
    "Exécutez la cellule suivante pour faire apparaîtree le troisième défi.\n",
    "Un caillou au milieu d'un couloir. Comment passer ?\n",
    "Revenez au niveau 0 pour avoir un exemple et consultez la documentation.\n",
    "\n",
    "[Niveau précédent](1b.ipynb), [Liste des niveaux](./), [Niveau suivant](2a.ipynb)"
   ]
  },
  {
   "cell_type": "code",
   "execution_count": 2,
   "metadata": {},
   "outputs": [
    {
     "data": {
      "application/vnd.jupyter.widget-view+json": {
       "model_id": "bda7b18e2e5147c9853580d1f4d2ffc4",
       "version_major": 2,
       "version_minor": 0
      },
      "text/plain": [
       "A Jupyter widget"
      ]
     },
     "metadata": {},
     "output_type": "display_data"
    }
   ],
   "source": [
    "#include <laby/global_fr.hpp>\n",
    "LABY(\"1c\")"
   ]
  },
  {
   "cell_type": "code",
   "execution_count": null,
   "metadata": {},
   "outputs": [],
   "source": []
  }
 ],
 "metadata": {
  "kernelspec": {
   "display_name": "C++17",
   "language": "C++17",
   "name": "xcpp17"
  },
  "language_info": {
   "codemirror_mode": "text/x-c++src",
   "file_extension": ".cpp",
   "mimetype": "text/x-c++src",
   "name": "c++",
   "version": "-std=c++17"
  }
 },
 "nbformat": 4,
 "nbformat_minor": 2
}
