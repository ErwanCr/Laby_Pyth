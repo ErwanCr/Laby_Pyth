{
 "cells": [
  {
   "cell_type": "markdown",
   "metadata": {},
   "source": [
    "# Prise en main de Jupyter\n",
    "\n",
    "Cette version du jeu laby est implantée au moyen de documents interactifs Jupyter. Si vous n'avez jamais utilisé de tel documents, ce qui suit va guider vos premiers pas. Sinon vou pouvez passer tout de suite au [premier niveau](0b.ipynb).\n",
    "\n",
    "Ceci est un exemple de document interactif. Il est composé d'une séquence de *cellules* contenant du texte (comme celle-ci), du code (comme ci-dessous), des visualisations, etc. Cliquez dans la cellule ci-dessous, puis tappez Shift-Entrée. Cela exécutera le calcul 1 + 1 et affichera le résultat."
   ]
  },
  {
   "cell_type": "code",
   "execution_count": 4,
   "metadata": {},
   "outputs": [
    {
     "data": {
      "text/plain": [
       "2\n",
       "type: int"
      ]
     },
     "execution_count": 4,
     "metadata": {},
     "output_type": "execute_result"
    }
   ],
   "source": [
    "1 + 1"
   ]
  },
  {
   "cell_type": "markdown",
   "metadata": {},
   "source": [
    "Exécutez de même les cellules ci-dessous, en modifiant les calculs à effectuer selon votre goût:"
   ]
  },
  {
   "cell_type": "code",
   "execution_count": 3,
   "metadata": {},
   "outputs": [
    {
     "data": {
      "text/plain": [
       "6\n",
       "type: int"
      ]
     },
     "execution_count": 3,
     "metadata": {},
     "output_type": "execute_result"
    }
   ],
   "source": [
    "2 * 3"
   ]
  },
  {
   "cell_type": "code",
   "execution_count": 5,
   "metadata": {},
   "outputs": [
    {
     "data": {
      "text/plain": [
       "14\n",
       "type: int"
      ]
     },
     "execution_count": 5,
     "metadata": {},
     "output_type": "execute_result"
    }
   ],
   "source": [
    "2 * (3 + 4)"
   ]
  },
  {
   "cell_type": "markdown",
   "metadata": {},
   "source": [
    "C'est tout ce dont vous avez besoin de savoir sur Jupyter; vous pouvez maintenant passer au [premier niveau de laby](0b.ipynb)."
   ]
  },
  {
   "cell_type": "code",
   "execution_count": null,
   "metadata": {},
   "outputs": [],
   "source": []
  }
 ],
 "metadata": {
  "kernelspec": {
   "display_name": "C++17",
   "language": "C++17",
   "name": "xcpp17"
  },
  "language_info": {
   "codemirror_mode": "text/x-c++src",
   "file_extension": ".cpp",
   "mimetype": "text/x-c++src",
   "name": "c++",
   "version": "-std=c++17"
  }
 },
 "nbformat": 4,
 "nbformat_minor": 2
}
