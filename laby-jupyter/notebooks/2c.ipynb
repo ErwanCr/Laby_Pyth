{
 "cells": [
  {
   "cell_type": "markdown",
   "metadata": {
    "nbgrader": {
     "grade": false,
     "grade_id": "cell-b8c416c088e04329",
     "locked": true,
     "schema_version": 1,
     "solution": false
    }
   },
   "source": [
    "# Laby, niveau 2c: Zig Zag\n",
    "\n",
    "Cinq longues distances à parcourir! On ne va tout de même pas recopier cinq fois la même boucle?\n",
    "\n",
    "[Niveau précédent](2b.ipynb), [Liste des niveaux](./), [Niveau suivant](3a.ipynb), [Documentation](0b.ipynb#Documentation)"
   ]
  },
  {
   "cell_type": "code",
   "execution_count": 1,
   "metadata": {
    "nbgrader": {
     "grade": false,
     "grade_id": "cell-199792c3eff47344",
     "locked": true,
     "schema_version": 1,
     "solution": false
    }
   },
   "outputs": [
    {
     "data": {
      "application/vnd.jupyter.widget-view+json": {
       "model_id": "27666ec2b5f2464fa3e172ed786fa185",
       "version_major": 2,
       "version_minor": 0
      },
      "text/plain": [
       "A Jupyter widget"
      ]
     },
     "metadata": {},
     "output_type": "display_data"
    }
   ],
   "source": [
    "#include <laby/global_fr.hpp>\n",
    "LABY(\"2c\")"
   ]
  },
  {
   "cell_type": "markdown",
   "metadata": {
    "nbgrader": {
     "grade": false,
     "grade_id": "cell-13c1041ad288bbb1",
     "locked": true,
     "schema_version": 1,
     "solution": false
    }
   },
   "source": [
    "Complétez la *procédure* suivante (une nouvelle commande) pour qu'elle fasse avancer la fourmi le plus loin possible en ligne droite:"
   ]
  },
  {
   "cell_type": "code",
   "execution_count": 2,
   "metadata": {
    "nbgrader": {
     "grade": false,
     "grade_id": "cell-b73f084d78a8d520",
     "locked": false,
     "schema_version": 1,
     "solution": true
    }
   },
   "outputs": [],
   "source": [
    "void ligne_droite() {\n",
    "    /// BEGIN SOLUTION\n",
    "    while ( regarde() == Vide ) {\n",
    "        avance();\n",
    "    }\n",
    "    /// END SOLUTION\n",
    "}"
   ]
  },
  {
   "cell_type": "markdown",
   "metadata": {
    "nbgrader": {
     "grade": false,
     "grade_id": "cell-65345804558b98bb",
     "locked": true,
     "schema_version": 1,
     "solution": false
    }
   },
   "source": [
    "Note: en C++ il n'est pas possible de redéfinir une procédure; si vous souhaitez la changer, vous devrez *redémarer le noyau* (menu `Noyau` -> `Redémarer`)."
   ]
  },
  {
   "cell_type": "markdown",
   "metadata": {
    "nbgrader": {
     "grade": false,
     "grade_id": "cell-a95c01da1448c722",
     "locked": true,
     "schema_version": 1,
     "solution": false
    }
   },
   "source": [
    "Essayez le programme suivant, puis complétez le pour faire sortir la fourmi:"
   ]
  },
  {
   "cell_type": "code",
   "execution_count": 3,
   "metadata": {
    "nbgrader": {
     "grade": false,
     "grade_id": "cell-5eb33a572123ee68",
     "locked": false,
     "schema_version": 1,
     "solution": true
    }
   },
   "outputs": [],
   "source": [
    "debut();\n",
    "ligne_droite();\n",
    "gauche();\n",
    "/// BEGIN SOLUTION\n",
    "ligne_droite();\n",
    "gauche();\n",
    "ligne_droite();\n",
    "droite();\n",
    "ligne_droite();\n",
    "droite();\n",
    "ligne_droite();\n",
    "/// END SOLUTION\n",
    "ouvre();"
   ]
  },
  {
   "cell_type": "code",
   "execution_count": 4,
   "metadata": {
    "nbgrader": {
     "grade": true,
     "grade_id": "cell-664874c0b554e5f7",
     "locked": true,
     "points": 1,
     "schema_version": 1,
     "solution": false
    }
   },
   "outputs": [],
   "source": [
    "ASSERT( a_gagne );"
   ]
  }
 ],
 "metadata": {
  "celltoolbar": "Create Assignment",
  "kernelspec": {
   "display_name": "C++17",
   "language": "C++17",
   "name": "xcpp17"
  },
  "language_info": {
   "codemirror_mode": "text/x-c++src",
   "file_extension": ".cpp",
   "mimetype": "text/x-c++src",
   "name": "c++",
   "version": "-std=c++17"
  }
 },
 "nbformat": 4,
 "nbformat_minor": 2
}
