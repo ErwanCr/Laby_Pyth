{
 "cells": [
  {
   "cell_type": "markdown",
   "metadata": {},
   "source": [
    "# Laby, niveau 1b: Oh le caillou !\n",
    "\n",
    "Exécutez la cellule suivante pour faire apparaîtree le second défi. Cette fois il y a un obstacle: un caillou te barre la route. Il faut utiliser les instructions qui permettent de prendre et de poser les cailloux. Revenez au niveau 0 pour avoir un exemple, et consultez la [documentation](0b.ipynb#documentation).\n",
    "\n",
    "[Niveau précédent](1a.ipynb), [Liste des niveaux](./), [Niveau suivant](1c.ipynb)"
   ]
  },
  {
   "cell_type": "code",
   "execution_count": 1,
   "metadata": {},
   "outputs": [
    {
     "data": {
      "application/vnd.jupyter.widget-view+json": {
       "model_id": "581482420be14146b3225f9652737603",
       "version_major": 2,
       "version_minor": 0
      },
      "text/plain": [
       "A Jupyter widget"
      ]
     },
     "metadata": {},
     "output_type": "display_data"
    }
   ],
   "source": [
    "#include <laby/global_fr.hpp>\n",
    "LABY(\"1b\")"
   ]
  },
  {
   "cell_type": "code",
   "execution_count": 6,
   "metadata": {},
   "outputs": [],
   "source": [
    "debut();\n",
    "\n",
    "\n",
    "\n",
    "\n"
   ]
  }
 ],
 "metadata": {
  "kernelspec": {
   "display_name": "C++17",
   "language": "C++17",
   "name": "xcpp17"
  },
  "language_info": {
   "codemirror_mode": "text/x-c++src",
   "file_extension": ".cpp",
   "mimetype": "text/x-c++src",
   "name": "c++",
   "version": "-std=c++17"
  }
 },
 "nbformat": 4,
 "nbformat_minor": 2
}
