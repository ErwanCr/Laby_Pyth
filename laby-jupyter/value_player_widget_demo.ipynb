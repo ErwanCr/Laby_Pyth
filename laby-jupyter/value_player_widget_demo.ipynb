{
 "cells": [
  {
   "cell_type": "code",
   "execution_count": 1,
   "metadata": {},
   "outputs": [],
   "source": [
    "from value_player_widget import *\n",
    "\n",
    "import random"
   ]
  },
  {
   "cell_type": "code",
   "execution_count": 2,
   "metadata": {},
   "outputs": [],
   "source": [
    "#Créez votre Visualisation\n",
    "visua=widget=ipywidgets.IntSlider(\n",
    "        value=0,\n",
    "        min=0,\n",
    "        max=30,\n",
    "        step=1,\n",
    "        description=\"Valeur:\"\n",
    "\n",
    "        )"
   ]
  },
  {
   "cell_type": "code",
   "execution_count": 3,
   "metadata": {},
   "outputs": [],
   "source": [
    "#Utilisez la en argument pour votre player\n",
    "player=ViewConstructor(visua)"
   ]
  },
  {
   "cell_type": "code",
   "execution_count": 4,
   "metadata": {},
   "outputs": [],
   "source": [
    "#Definissez votre algo\n",
    "#Dans l'algo pensez a ajouté player.set_value(x) pour mettre vos étapes dans l'historique.\n",
    "def mon_algo():\n",
    "    x=0\n",
    "    for i in range (0,20):\n",
    "        x+=1\n",
    "        player.set_value(x)\n",
    "    for i in range (0,20):\n",
    "        x-=1\n",
    "        player.set_value(x)  "
   ]
  },
  {
   "cell_type": "code",
   "execution_count": 5,
   "metadata": {},
   "outputs": [],
   "source": [
    "#appelez le \n",
    "mon_algo()"
   ]
  },
  {
   "cell_type": "code",
   "execution_count": 6,
   "metadata": {},
   "outputs": [
    {
     "data": {
      "application/vnd.jupyter.widget-view+json": {
       "model_id": "04e159283a314aec924d669690c12116",
       "version_major": 2,
       "version_minor": 0
      },
      "text/plain": [
       "PlayerView(children=(IntSlider(value=0, description='Valeur:', max=30), IntSlider(value=0, description='time:'…"
      ]
     },
     "metadata": {},
     "output_type": "display_data"
    }
   ],
   "source": [
    "#appelez le player\n",
    "player"
   ]
  },
  {
   "cell_type": "code",
   "execution_count": null,
   "metadata": {},
   "outputs": [],
   "source": []
  },
  {
   "cell_type": "code",
   "execution_count": null,
   "metadata": {},
   "outputs": [],
   "source": []
  }
 ],
 "metadata": {
  "kernelspec": {
   "display_name": "Python 3",
   "language": "python",
   "name": "python3"
  },
  "language_info": {
   "codemirror_mode": {
    "name": "ipython",
    "version": 3
   },
   "file_extension": ".py",
   "mimetype": "text/x-python",
   "name": "python",
   "nbconvert_exporter": "python",
   "pygments_lexer": "ipython3",
   "version": "3.8.2"
  }
 },
 "nbformat": 4,
 "nbformat_minor": 4
}
