{
 "cells": [
  {
   "cell_type": "markdown",
   "metadata": {},
   "source": [
    "Voici l'ensemble des import réaliser vous permettant de savoir qu'elles bibliotheque importer ."
   ]
  },
  {
   "cell_type": "markdown",
   "metadata": {},
   "source": [
    "Les bibliothèques a téléchargées sont : "
   ]
  },
  {
   "cell_type": "markdown",
   "metadata": {},
   "source": [
    "-enum "
   ]
  },
  {
   "cell_type": "markdown",
   "metadata": {},
   "source": [
    "-ipywidgets "
   ]
  },
  {
   "cell_type": "markdown",
   "metadata": {},
   "source": [
    "-functools "
   ]
  },
  {
   "cell_type": "markdown",
   "metadata": {},
   "source": [
    "-threading "
   ]
  },
  {
   "cell_type": "markdown",
   "metadata": {},
   "source": [
    "-traits.api "
   ]
  },
  {
   "cell_type": "markdown",
   "metadata": {},
   "source": [
    "-traitlets "
   ]
  },
  {
   "cell_type": "markdown",
   "metadata": {},
   "source": [
    "-timer "
   ]
  },
  {
   "cell_type": "code",
   "execution_count": 1,
   "metadata": {},
   "outputs": [],
   "source": [
    "from value_player_widget import *\n"
   ]
  },
  {
   "cell_type": "markdown",
   "metadata": {},
   "source": [
    "Créez votre Visualisation"
   ]
  },
  {
   "cell_type": "code",
   "execution_count": 2,
   "metadata": {},
   "outputs": [],
   "source": [
    "visua=ipywidgets.IntSlider(\n",
    "        value=0,\n",
    "        min=0,\n",
    "        max=30,\n",
    "        step=1,\n",
    "        description=\"Valeur:\"\n",
    "\n",
    "        )"
   ]
  },
  {
   "cell_type": "markdown",
   "metadata": {},
   "source": [
    "Utilisez la en argument pour votre player"
   ]
  },
  {
   "cell_type": "code",
   "execution_count": 3,
   "metadata": {},
   "outputs": [],
   "source": [
    "player=ValuePlayerWidget(visua)"
   ]
  },
  {
   "cell_type": "markdown",
   "metadata": {},
   "source": [
    "Definissez votre algo .\n",
    "Dans l'algo pensez a ajouté player.set_value(x) pour mettre vos étapes dans l'historique."
   ]
  },
  {
   "cell_type": "code",
   "execution_count": 4,
   "metadata": {},
   "outputs": [],
   "source": [
    "def mon_algo():\n",
    "    x=0\n",
    "    for i in range (0,20):\n",
    "        x+=1\n",
    "        player.player.value=x\n",
    "    for i in range (0,20):\n",
    "        x-=1\n",
    "        player.player.value=x"
   ]
  },
  {
   "cell_type": "markdown",
   "metadata": {},
   "source": [
    "Appelez le "
   ]
  },
  {
   "cell_type": "code",
   "execution_count": 6,
   "metadata": {},
   "outputs": [],
   "source": [
    "mon_algo()"
   ]
  },
  {
   "cell_type": "markdown",
   "metadata": {},
   "source": [
    "Appelez le player"
   ]
  },
  {
   "cell_type": "code",
   "execution_count": 5,
   "metadata": {
    "scrolled": true
   },
   "outputs": [
    {
     "data": {
      "application/vnd.jupyter.widget-view+json": {
       "model_id": "71e0ec35c501485282fb6bda66bfe964",
       "version_major": 2,
       "version_minor": 0
      },
      "text/plain": [
       "PlayerView(children=(IntSlider(value=0, description='Valeur:', max=30), IntSlider(value=0, description='time:'…"
      ]
     },
     "metadata": {},
     "output_type": "display_data"
    }
   ],
   "source": [
    "player"
   ]
  },
  {
   "cell_type": "code",
   "execution_count": 7,
   "metadata": {},
   "outputs": [
    {
     "data": {
      "text/plain": [
       "[0]"
      ]
     },
     "execution_count": 7,
     "metadata": {},
     "output_type": "execute_result"
    }
   ],
   "source": [
    "player.player.history"
   ]
  },
  {
   "cell_type": "code",
   "execution_count": null,
   "metadata": {},
   "outputs": [],
   "source": []
  }
 ],
 "metadata": {
  "kernelspec": {
   "display_name": "Python 3",
   "language": "python",
   "name": "python3"
  },
  "language_info": {
   "codemirror_mode": {
    "name": "ipython",
    "version": 3
   },
   "file_extension": ".py",
   "mimetype": "text/x-python",
   "name": "python",
   "nbconvert_exporter": "python",
   "pygments_lexer": "ipython3",
   "version": "3.8.2"
  }
 },
 "nbformat": 4,
 "nbformat_minor": 4
}
